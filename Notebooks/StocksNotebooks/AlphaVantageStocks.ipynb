{
 "cells": [
  {
   "cell_type": "code",
   "execution_count": 74,
   "metadata": {},
   "outputs": [],
   "source": [
    "# Fetch all the daily, weekly, and monthly data from the Alpha Vantage Site\n",
    "\n",
    "import requests\n",
    "API_KEY = \"HLZIN6GA5JV0P4WJ\"\n",
    "daily_url = \"https://www.alphavantage.co/query?function=TIME_SERIES_DAILY&symbol=MSFT&apikey=\" + API_KEY\n",
    "weekly_url = \"https://www.alphavantage.co/query?function=TIME_SERIES_WEEKLY&symbol=MSFT&apikey=\" + API_KEY\n",
    "monthly_url = \"https://www.alphavantage.co/query?function=TIME_SERIES_MONTHLY&symbol=MSFT&apikey=\" + API_KEY\n",
    "daily_response = requests.get(daily_url)\n",
    "weekly_response = requests.get(weekly_url)\n",
    "monthly_response = requests.get(monthly_url)\n",
    "# print(response.json())\n",
    "\n",
    "daily_json_data = daily_response.json()\n",
    "weekly_json_data = weekly_response.json()\n",
    "monthly_json_data = monthly_response.json()"
   ]
  },
  {
   "cell_type": "code",
   "execution_count": 75,
   "metadata": {},
   "outputs": [],
   "source": [
    "# Grab the meta data and time series data\n",
    "\n",
    "meta_data = daily_json_data['Meta Data']\n",
    "daily_time_series_data = daily_json_data['Time Series (Daily)']\n",
    "weekly_time_series_data = weekly_json_data['Weekly Time Series']\n",
    "monthly_time_series_data = monthly_json_data['Monthly Time Series']\n",
    "\n",
    "curr_year = 2019\n",
    "curr_month = 9\n",
    "curr_day = 15\n",
    "\n",
    "curr = \"\" + str(curr_year) + \"-\"\n",
    "\n",
    "if (curr_month < 10):\n",
    "    curr += \"0\" + str(curr_month) + \"-\"\n",
    "else:\n",
    "    curr += str(curr_month) + \"-\"\n",
    "\n",
    "if (curr_day < 10):\n",
    "    curr += \"0\" + str(curr_day)\n",
    "else:\n",
    "    curr += str(curr_day)\n",
    "\n",
    "final_date = \"2020-03-15\""
   ]
  },
  {
   "cell_type": "code",
   "execution_count": 76,
   "metadata": {},
   "outputs": [],
   "source": [
    "daily_data = []\n",
    "weekly_data = []\n",
    "monthly_data = []"
   ]
  },
  {
   "cell_type": "code",
   "execution_count": 77,
   "metadata": {},
   "outputs": [],
   "source": [
    "# Start extracting the data using curr\n",
    "month_array = [0, 31, 28, 31, 30, 31, 30, 31, 31, 30, 31, 30, 31]\n",
    "while (curr != final_date):\n",
    "    \n",
    "    # When day exceeds month limit\n",
    "    if (curr_day > month_array[curr_month]):\n",
    "        curr_day = 1\n",
    "        curr_month += 1\n",
    "    \n",
    "    # When month exceeds twelve\n",
    "    if (curr_month > 12):\n",
    "        curr_month = 1\n",
    "        curr_year += 1\n",
    "        \n",
    "    curr = \"\" + str(curr_year) + \"-\"\n",
    "    if (curr_month < 10):\n",
    "        curr += \"0\" + str(curr_month) + \"-\"\n",
    "    else:\n",
    "        curr += str(curr_month) + \"-\"\n",
    "    if (curr_day < 10):\n",
    "        curr += \"0\" + str(curr_day)\n",
    "    else:\n",
    "        curr += str(curr_day)\n",
    "        \n",
    "    curr_day += 1\n",
    "    if (curr in daily_time_series_data):\n",
    "        daily = {}\n",
    "        daily['open'] = daily_time_series_data[curr]['1. open']\n",
    "        daily['high'] = daily_time_series_data[curr]['2. high']\n",
    "        daily['low'] = daily_time_series_data[curr]['3. low']\n",
    "        daily['close'] = daily_time_series_data[curr]['4. close']\n",
    "        daily['volume'] = daily_time_series_data[curr]['5. volume']\n",
    "        daily_data.append(daily)\n",
    "    if (curr in weekly_time_series_data):\n",
    "        weekly = {}\n",
    "        weekly['open'] = weekly_time_series_data[curr]['1. open']\n",
    "        weekly['high'] = weekly_time_series_data[curr]['2. high']\n",
    "        weekly['low'] = weekly_time_series_data[curr]['3. low']\n",
    "        weekly['close'] = weekly_time_series_data[curr]['4. close']\n",
    "        weekly['volume'] = weekly_time_series_data[curr]['5. volume']\n",
    "        weekly_data.append(weekly)\n",
    "    if (curr in monthly_time_series_data):\n",
    "        monthly = {}\n",
    "        monthly['open'] = monthly_time_series_data[curr]['1. open']\n",
    "        monthly['high'] = monthly_time_series_data[curr]['2. high']\n",
    "        monthly['low'] = monthly_time_series_data[curr]['3. low']\n",
    "        monthly['close'] = monthly_time_series_data[curr]['4. close']\n",
    "        monthly['volume'] = monthly_time_series_data[curr]['5. volume']\n",
    "        monthly_data.append(monthly)"
   ]
  },
  {
   "cell_type": "code",
   "execution_count": 78,
   "metadata": {},
   "outputs": [
    {
     "data": {
      "text/plain": [
       "[{'open': '136.6100',\n",
       "  'high': '142.3700',\n",
       "  'low': '134.5100',\n",
       "  'close': '139.0300',\n",
       "  'volume': '477645820'},\n",
       " {'open': '139.6600',\n",
       "  'high': '145.6700',\n",
       "  'low': '133.2200',\n",
       "  'close': '143.3700',\n",
       "  'volume': '560654410'},\n",
       " {'open': '144.2600',\n",
       "  'high': '152.5000',\n",
       "  'low': '142.9650',\n",
       "  'close': '151.3800',\n",
       "  'volume': '393028043'},\n",
       " {'open': '151.8100',\n",
       "  'high': '159.5500',\n",
       "  'low': '146.6500',\n",
       "  'close': '157.7000',\n",
       "  'volume': '452664147'},\n",
       " {'open': '158.7800',\n",
       "  'high': '174.0500',\n",
       "  'low': '156.5100',\n",
       "  'close': '170.2300',\n",
       "  'volume': '555989763'},\n",
       " {'open': '170.4300',\n",
       "  'high': '190.7000',\n",
       "  'low': '152.0000',\n",
       "  'close': '162.0100',\n",
       "  'volume': '887894931'}]"
      ]
     },
     "execution_count": 78,
     "metadata": {},
     "output_type": "execute_result"
    }
   ],
   "source": [
    "monthly_data"
   ]
  },
  {
   "cell_type": "code",
   "execution_count": 80,
   "metadata": {},
   "outputs": [
    {
     "name": "stdout",
     "output_type": "stream",
     "text": [
      "135.8300\n",
      "139.2300\n",
      "138.0500\n",
      "137.1400\n",
      "139.6900\n",
      "138.4500\n",
      "144.4000\n",
      "144.8300\n",
      "145.3400\n",
      "150.0700\n",
      "150.0000\n",
      "151.8100\n",
      "151.0700\n",
      "155.1100\n",
      "158.1200\n",
      "158.9865\n",
      "157.0800\n",
      "161.7600\n",
      "166.6800\n",
      "161.1500\n",
      "170.4300\n",
      "183.5800\n",
      "185.6050\n",
      "167.7700\n",
      "165.3100\n",
      "151.0000\n"
     ]
    }
   ],
   "source": [
    "import matplotlib.pyplot as plt\n",
    "\n",
    "for i in range(len(weekly_data)):\n",
    "    print(weekly_data[i]['open'])"
   ]
  },
  {
   "cell_type": "code",
   "execution_count": null,
   "metadata": {},
   "outputs": [],
   "source": []
  }
 ],
 "metadata": {
  "kernelspec": {
   "display_name": "Python 3",
   "language": "python",
   "name": "python3"
  },
  "language_info": {
   "codemirror_mode": {
    "name": "ipython",
    "version": 3
   },
   "file_extension": ".py",
   "mimetype": "text/x-python",
   "name": "python",
   "nbconvert_exporter": "python",
   "pygments_lexer": "ipython3",
   "version": "3.7.3"
  }
 },
 "nbformat": 4,
 "nbformat_minor": 4
}
