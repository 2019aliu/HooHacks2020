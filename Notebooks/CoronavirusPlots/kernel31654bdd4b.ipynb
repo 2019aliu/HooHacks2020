{
 "cells": [
  {
   "cell_type": "markdown",
   "metadata": {
    "_cell_guid": "91c684c3-4aed-ba4f-1809-fe82b3de88dd"
   },
   "source": [
    "Python"
   ]
  },
  {
   "cell_type": "code",
   "execution_count": 1,
   "metadata": {
    "_cell_guid": "17f1281f-5c9e-a3ed-dacb-6d7be8927f08"
   },
   "outputs": [
    {
     "data": {
      "text/html": [
       "        <script type=\"text/javascript\">\n",
       "        window.PlotlyConfig = {MathJaxConfig: 'local'};\n",
       "        if (window.MathJax) {MathJax.Hub.Config({SVG: {font: \"STIX-Web\"}});}\n",
       "        if (typeof require !== 'undefined') {\n",
       "        require.undef(\"plotly\");\n",
       "        requirejs.config({\n",
       "            paths: {\n",
       "                'plotly': ['https://cdn.plot.ly/plotly-latest.min']\n",
       "            }\n",
       "        });\n",
       "        require(['plotly'], function(Plotly) {\n",
       "            window._Plotly = Plotly;\n",
       "        });\n",
       "        }\n",
       "        </script>\n",
       "        "
      ]
     },
     "metadata": {},
     "output_type": "display_data"
    }
   ],
   "source": [
    "# Import the relevant libraries\n",
    "import numpy as np\n",
    "import pandas as pd\n",
    "import matplotlib.pyplot as plt\n",
    "%matplotlib inline\n",
    "import plotly.offline as py\n",
    "py.init_notebook_mode(connected=True)\n",
    "import plotly.graph_objs as go\n",
    "import plotly.tools as tls\n",
    "import seaborn as sns\n",
    "import warnings\n",
    "warnings.filterwarnings('ignore')"
   ]
  },
  {
   "cell_type": "markdown",
   "metadata": {
    "_cell_guid": "976692e0-5eb7-7a5e-a529-f85d414de308"
   },
   "source": [
    "Let's load the data"
   ]
  },
  {
   "cell_type": "code",
   "execution_count": 2,
   "metadata": {
    "_cell_guid": "78926b19-c83d-94f9-ad91-324b13d40a15"
   },
   "outputs": [
    {
     "data": {
      "text/html": [
       "<div>\n",
       "<style scoped>\n",
       "    .dataframe tbody tr th:only-of-type {\n",
       "        vertical-align: middle;\n",
       "    }\n",
       "\n",
       "    .dataframe tbody tr th {\n",
       "        vertical-align: top;\n",
       "    }\n",
       "\n",
       "    .dataframe thead th {\n",
       "        text-align: right;\n",
       "    }\n",
       "</style>\n",
       "<table border=\"1\" class=\"dataframe\">\n",
       "  <thead>\n",
       "    <tr style=\"text-align: right;\">\n",
       "      <th></th>\n",
       "      <th>Country Name</th>\n",
       "      <th>Country Code</th>\n",
       "      <th>2010</th>\n",
       "      <th>2011</th>\n",
       "      <th>2012</th>\n",
       "      <th>2013</th>\n",
       "      <th>2014</th>\n",
       "    </tr>\n",
       "  </thead>\n",
       "  <tbody>\n",
       "    <tr>\n",
       "      <th>0</th>\n",
       "      <td>Afghanistan</td>\n",
       "      <td>AFG</td>\n",
       "      <td>20.600000</td>\n",
       "      <td>20.900000</td>\n",
       "      <td>19.700001</td>\n",
       "      <td>21.100000</td>\n",
       "      <td>20.799999</td>\n",
       "    </tr>\n",
       "    <tr>\n",
       "      <th>1</th>\n",
       "      <td>Angola</td>\n",
       "      <td>AGO</td>\n",
       "      <td>10.800000</td>\n",
       "      <td>10.700000</td>\n",
       "      <td>10.700000</td>\n",
       "      <td>10.600000</td>\n",
       "      <td>10.500000</td>\n",
       "    </tr>\n",
       "    <tr>\n",
       "      <th>2</th>\n",
       "      <td>Albania</td>\n",
       "      <td>ALB</td>\n",
       "      <td>25.799999</td>\n",
       "      <td>27.000000</td>\n",
       "      <td>28.299999</td>\n",
       "      <td>28.700001</td>\n",
       "      <td>29.200001</td>\n",
       "    </tr>\n",
       "    <tr>\n",
       "      <th>3</th>\n",
       "      <td>Arab World</td>\n",
       "      <td>ARB</td>\n",
       "      <td>25.022214</td>\n",
       "      <td>28.117516</td>\n",
       "      <td>29.113212</td>\n",
       "      <td>29.335306</td>\n",
       "      <td>29.704569</td>\n",
       "    </tr>\n",
       "    <tr>\n",
       "      <th>4</th>\n",
       "      <td>United Arab Emirates</td>\n",
       "      <td>ARE</td>\n",
       "      <td>9.800000</td>\n",
       "      <td>9.800000</td>\n",
       "      <td>9.800000</td>\n",
       "      <td>9.900000</td>\n",
       "      <td>10.000000</td>\n",
       "    </tr>\n",
       "    <tr>\n",
       "      <th>...</th>\n",
       "      <td>...</td>\n",
       "      <td>...</td>\n",
       "      <td>...</td>\n",
       "      <td>...</td>\n",
       "      <td>...</td>\n",
       "      <td>...</td>\n",
       "      <td>...</td>\n",
       "    </tr>\n",
       "    <tr>\n",
       "      <th>214</th>\n",
       "      <td>Yemen, Rep.</td>\n",
       "      <td>YEM</td>\n",
       "      <td>30.299999</td>\n",
       "      <td>30.000000</td>\n",
       "      <td>30.200001</td>\n",
       "      <td>30.200001</td>\n",
       "      <td>29.900000</td>\n",
       "    </tr>\n",
       "    <tr>\n",
       "      <th>215</th>\n",
       "      <td>South Africa</td>\n",
       "      <td>ZAF</td>\n",
       "      <td>50.799999</td>\n",
       "      <td>50.099998</td>\n",
       "      <td>52.200001</td>\n",
       "      <td>51.400002</td>\n",
       "      <td>52.599998</td>\n",
       "    </tr>\n",
       "    <tr>\n",
       "      <th>216</th>\n",
       "      <td>Congo, Dem. Rep.</td>\n",
       "      <td>COD</td>\n",
       "      <td>12.300000</td>\n",
       "      <td>12.300000</td>\n",
       "      <td>12.300000</td>\n",
       "      <td>12.200000</td>\n",
       "      <td>11.900000</td>\n",
       "    </tr>\n",
       "    <tr>\n",
       "      <th>217</th>\n",
       "      <td>Zambia</td>\n",
       "      <td>ZMB</td>\n",
       "      <td>26.400000</td>\n",
       "      <td>26.600000</td>\n",
       "      <td>26.600000</td>\n",
       "      <td>25.500000</td>\n",
       "      <td>25.100000</td>\n",
       "    </tr>\n",
       "    <tr>\n",
       "      <th>218</th>\n",
       "      <td>Zimbabwe</td>\n",
       "      <td>ZWE</td>\n",
       "      <td>9.600000</td>\n",
       "      <td>8.300000</td>\n",
       "      <td>8.300000</td>\n",
       "      <td>8.900000</td>\n",
       "      <td>9.400000</td>\n",
       "    </tr>\n",
       "  </tbody>\n",
       "</table>\n",
       "<p>219 rows × 7 columns</p>\n",
       "</div>"
      ],
      "text/plain": [
       "             Country Name Country Code       2010       2011       2012  \\\n",
       "0             Afghanistan          AFG  20.600000  20.900000  19.700001   \n",
       "1                  Angola          AGO  10.800000  10.700000  10.700000   \n",
       "2                 Albania          ALB  25.799999  27.000000  28.299999   \n",
       "3              Arab World          ARB  25.022214  28.117516  29.113212   \n",
       "4    United Arab Emirates          ARE   9.800000   9.800000   9.800000   \n",
       "..                    ...          ...        ...        ...        ...   \n",
       "214           Yemen, Rep.          YEM  30.299999  30.000000  30.200001   \n",
       "215          South Africa          ZAF  50.799999  50.099998  52.200001   \n",
       "216      Congo, Dem. Rep.          COD  12.300000  12.300000  12.300000   \n",
       "217                Zambia          ZMB  26.400000  26.600000  26.600000   \n",
       "218              Zimbabwe          ZWE   9.600000   8.300000   8.300000   \n",
       "\n",
       "          2013       2014  \n",
       "0    21.100000  20.799999  \n",
       "1    10.600000  10.500000  \n",
       "2    28.700001  29.200001  \n",
       "3    29.335306  29.704569  \n",
       "4     9.900000  10.000000  \n",
       "..         ...        ...  \n",
       "214  30.200001  29.900000  \n",
       "215  51.400002  52.599998  \n",
       "216  12.200000  11.900000  \n",
       "217  25.500000  25.100000  \n",
       "218   8.900000   9.400000  \n",
       "\n",
       "[219 rows x 7 columns]"
      ]
     },
     "execution_count": 2,
     "metadata": {},
     "output_type": "execute_result"
    }
   ],
   "source": [
    "country = pd.read_csv('API_ILO_country_YU.csv')\n",
    "country.head()\n",
    "country"
   ]
  },
  {
   "cell_type": "code",
   "execution_count": 3,
   "metadata": {
    "_cell_guid": "e5056291-7f3e-76e6-f473-c1836f7289e9"
   },
   "outputs": [
    {
     "name": "stdout",
     "output_type": "stream",
     "text": [
      "(219, 7)\n"
     ]
    }
   ],
   "source": [
    "print(country.shape)"
   ]
  },
  {
   "cell_type": "markdown",
   "metadata": {
    "_cell_guid": "a08025b0-818e-a17e-2f05-c3e67adeba1c"
   },
   "source": [
    "Quite a handful of the 'countries' listed in the Country Name column are not actually countries. A quick glance reveals that we have some sub-continents listed in there (East Asia & Pacific, Europe & Central Asia) as well as other non-single country related things like (Upper middle income, IBRD only and IDA only). For the purposes of producing our visuals we will therefore whittle down our country list as follows"
   ]
  },
  {
   "cell_type": "code",
   "execution_count": null,
   "metadata": {
    "_cell_guid": "ba035a51-334d-67c8-f41b-b463fdd0e2af"
   },
   "outputs": [],
   "source": [
    "# Uncomment to view the total list of country names\n",
    "# print(country['Country Name'].unique())"
   ]
  },
  {
   "cell_type": "code",
   "execution_count": null,
   "metadata": {
    "_cell_guid": "93e1ab87-c5a0-c0a9-b387-94e102ee0114"
   },
   "outputs": [],
   "source": [
    "# Create our new list of countries that we want to plot for. This was done manually as I was lazy\n",
    "# to think of any clever tricks (eg text processing) to filter. \n",
    "country_list = ['Afghanistan','Angola','Albania','Argentina','Armenia','Australia'\n",
    ",'Austria','Azerbaijan','Burundi','Belgium','Benin','Burkina Faso','Bangladesh','Bulgaria'\n",
    ",'Bahrain','Bosnia and Herzegovina','Belarus','Belize','Bolivia','Brazil','Barbados','Brunei Darussalam'\n",
    ",'Bhutan','Botswana','Central African Republic','Canada','Switzerland','Chile','China','Cameroon'\n",
    ",'Congo','Colombia','Comoros','Cabo Verde','Costa Rica','Cuba','Cyprus','Czech Republic','Germany'\n",
    ",'Denmark','Dominican Republic','Algeria','Ecuador','Egypt','Spain','Estonia','Ethiopia','Finland','Fiji'\n",
    ",'France','Gabon','United Kingdom','Georgia','Ghana','Guinea','Greece','Guatemala','Guyana','Hong Kong'\n",
    ",'Honduras','Croatia','Haiti','Hungary','Indonesia','India','Ireland','Iran','Iraq','Iceland','Israel'\n",
    ",'Italy','Jamaica','Jordan','Japan','Kazakhstan','Kenya','Cambodia','Korea, Rep.','Kuwait','Lebanon','Liberia'\n",
    ",'Libya','Sri Lanka','Lesotho','Lithuania','Luxembourg','Latvia','Macao','Morocco','Moldova','Madagascar'\n",
    ",'Maldives','Mexico','Macedonia','Mali','Malta','Myanmar','Montenegro','Mongolia','Mozambique','Mauritania'\n",
    ",'Mauritius','Malawi','Malaysia','North America','Namibia','Niger','Nigeria','Nicaragua','Netherlands'\n",
    ",'Norway','Nepal','New Zealand   ','Oman','Pakistan','Panama','Peru','Philippines','Papua New Guinea'\n",
    ",'Poland','Puerto Rico','Portugal','Paraguay','Qatar','Romania','Russian Federation','Rwanda','Saudi Arabia'\n",
    ",'Sudan','Senegal','Singapore','Solomon Islands','Sierra Leone','El Salvador','Somalia','Serbia','Slovenia'\n",
    ",'Sweden','Swaziland','Syrian Arab Republic','Chad','Togo','Thailand','Tajikistan','Turkmenistan','Timor-Leste'\n",
    ",'Trinidad and Tobago','Tunisia','Turkey','Tanzania','Uganda','Ukraine','Uruguay','United States','Uzbekistan'\n",
    ",'Venezuela, RB','Vietnam','Yemen, Rep.','South Africa','Congo, Dem. Rep.','Zambia','Zimbabwe' \n",
    "]"
   ]
  },
  {
   "cell_type": "code",
   "execution_count": 6,
   "metadata": {
    "_cell_guid": "dff28eaf-5d4b-9323-fc12-e630da36f2ae"
   },
   "outputs": [],
   "source": [
    "# Create a new dataframe with our cleaned country list\n",
    "country_clean = country[country['Country Name'].isin(country_list)]"
   ]
  },
  {
   "cell_type": "markdown",
   "metadata": {
    "_cell_guid": "7e7aa721-ce85-9038-bf46-ce3b1e8cf027"
   },
   "source": [
    "## 3D GLOBE VISUALISATIONS WITH PLOTLY\n",
    "\n",
    "Now onto the plots. I'm pretty new to Plotly so I derived my ideas and inspirations from these brilliant Kaggle notebooks. Please check them out:\n",
    "\n",
    "[Map of temperatures and analysis of Global Warming][1] by Vladislav Amelin\n",
    "\n",
    "[Master Painter Choices Throughout History][2] by brandnewpeterson\n",
    "\n",
    "\n",
    "  [1]: https://www.kaggle.com/amelinvladislav/d/berkeleyearth/climate-change-earth-surface-temperature-data/map-of-temperatures-and-analysis-of-global-warming\n",
    "\n",
    "  [2]: https://plot.ly/~brandnewpeterson/487/master-painter-color-choices-throughout-history/?utm_source=mailchimp-jan-2015&utm_medium=email&utm_campaign=generalemail-jan2015&utm_term=master-painter\n",
    "\n",
    "Now onto our own plots"
   ]
  },
  {
   "cell_type": "markdown",
   "metadata": {
    "_cell_guid": "fa82ef1c-dcf8-f6b7-d9a8-aadf154ad510"
   },
   "source": [
    "## Has Global Youth Unemployment gotten better in these 4 years?"
   ]
  },
  {
   "cell_type": "code",
   "execution_count": 7,
   "metadata": {
    "_cell_guid": "c711cc51-457d-9768-5d7a-fafbef70e15b"
   },
   "outputs": [
    {
     "data": {
      "application/vnd.plotly.v1+json": {
       "config": {
        "linkText": "Export to plot.ly",
        "plotlyServerURL": "https://plot.ly",
        "showLink": false
       },
       "data": [
        {
         "autocolorscale": false,
         "colorbar": {
          "autotick": true,
          "tickprefix": "",
          "title": "Unemployment\nRate"
         },
         "colorscale": [
          [
           0,
           "rgb(102,194,165)"
          ],
          [
           0.05,
           "rgb(102,194,165)"
          ],
          [
           0.15,
           "rgb(171,221,164)"
          ],
          [
           0.2,
           "rgb(230,245,152)"
          ],
          [
           0.25,
           "rgb(255,255,191)"
          ],
          [
           0.35,
           "rgb(254,224,139)"
          ],
          [
           0.45,
           "rgb(253,174,97)"
          ],
          [
           0.55,
           "rgb(213,62,79)"
          ],
          [
           1,
           "rgb(158,1,66)"
          ]
         ],
         "locationmode": "country names",
         "locations": [
          "Afghanistan",
          "Angola",
          "Albania",
          "Argentina",
          "Armenia",
          "Australia",
          "Austria",
          "Azerbaijan",
          "Burundi",
          "Belgium",
          "Benin",
          "Burkina Faso",
          "Bangladesh",
          "Bulgaria",
          "Bahrain",
          "Bosnia and Herzegovina",
          "Belarus",
          "Belize",
          "Bolivia",
          "Brazil",
          "Barbados",
          "Brunei Darussalam",
          "Bhutan",
          "Botswana",
          "Central African Republic",
          "Canada",
          "Switzerland",
          "Chile",
          "China",
          "Cameroon",
          "Colombia",
          "Comoros",
          "Cabo Verde",
          "Costa Rica",
          "Cuba",
          "Cyprus",
          "Czech Republic",
          "Germany",
          "Denmark",
          "Dominican Republic",
          "Algeria",
          "Ecuador",
          "Spain",
          "Estonia",
          "Ethiopia",
          "Finland",
          "Fiji",
          "France",
          "Gabon",
          "United Kingdom",
          "Georgia",
          "Ghana",
          "Guinea",
          "Greece",
          "Guatemala",
          "Guyana",
          "Honduras",
          "Croatia",
          "Haiti",
          "Hungary",
          "Indonesia",
          "India",
          "Ireland",
          "Iraq",
          "Iceland",
          "Israel",
          "Italy",
          "Jamaica",
          "Jordan",
          "Japan",
          "Kazakhstan",
          "Kenya",
          "Cambodia",
          "Korea, Rep.",
          "Kuwait",
          "Lebanon",
          "Liberia",
          "Libya",
          "Sri Lanka",
          "Lesotho",
          "Lithuania",
          "Luxembourg",
          "Latvia",
          "Morocco",
          "Moldova",
          "Madagascar",
          "Maldives",
          "Mexico",
          "Mali",
          "Malta",
          "Myanmar",
          "Montenegro",
          "Mongolia",
          "Mozambique",
          "Mauritania",
          "Mauritius",
          "Malawi",
          "Malaysia",
          "North America",
          "Namibia",
          "Niger",
          "Nigeria",
          "Nicaragua",
          "Netherlands",
          "Norway",
          "Nepal",
          "Oman",
          "Pakistan",
          "Panama",
          "Peru",
          "Philippines",
          "Papua New Guinea",
          "Poland",
          "Puerto Rico",
          "Portugal",
          "Paraguay",
          "Qatar",
          "Romania",
          "Russian Federation",
          "Rwanda",
          "Saudi Arabia",
          "Sudan",
          "Senegal",
          "Singapore",
          "Solomon Islands",
          "Sierra Leone",
          "El Salvador",
          "Somalia",
          "Serbia",
          "Slovenia",
          "Sweden",
          "Swaziland",
          "Syrian Arab Republic",
          "Chad",
          "Togo",
          "Thailand",
          "Tajikistan",
          "Turkmenistan",
          "Timor-Leste",
          "Trinidad and Tobago",
          "Tunisia",
          "Turkey",
          "Tanzania",
          "Uganda",
          "Ukraine",
          "Uruguay",
          "United States",
          "Uzbekistan",
          "Venezuela, RB",
          "Vietnam",
          "Yemen, Rep.",
          "South Africa",
          "Congo, Dem. Rep.",
          "Zambia",
          "Zimbabwe"
         ],
         "marker": {
          "line": {
           "color": "rgb(250,250,225)",
           "width": 0.5
          }
         },
         "showscale": true,
         "text": [
          "Afghanistan",
          "Angola",
          "Albania",
          "Argentina",
          "Armenia",
          "Australia",
          "Austria",
          "Azerbaijan",
          "Burundi",
          "Belgium",
          "Benin",
          "Burkina Faso",
          "Bangladesh",
          "Bulgaria",
          "Bahrain",
          "Bosnia and Herzegovina",
          "Belarus",
          "Belize",
          "Bolivia",
          "Brazil",
          "Barbados",
          "Brunei Darussalam",
          "Bhutan",
          "Botswana",
          "Central African Republic",
          "Canada",
          "Switzerland",
          "Chile",
          "China",
          "Cameroon",
          "Colombia",
          "Comoros",
          "Cabo Verde",
          "Costa Rica",
          "Cuba",
          "Cyprus",
          "Czech Republic",
          "Germany",
          "Denmark",
          "Dominican Republic",
          "Algeria",
          "Ecuador",
          "Spain",
          "Estonia",
          "Ethiopia",
          "Finland",
          "Fiji",
          "France",
          "Gabon",
          "United Kingdom",
          "Georgia",
          "Ghana",
          "Guinea",
          "Greece",
          "Guatemala",
          "Guyana",
          "Honduras",
          "Croatia",
          "Haiti",
          "Hungary",
          "Indonesia",
          "India",
          "Ireland",
          "Iraq",
          "Iceland",
          "Israel",
          "Italy",
          "Jamaica",
          "Jordan",
          "Japan",
          "Kazakhstan",
          "Kenya",
          "Cambodia",
          "Korea, Rep.",
          "Kuwait",
          "Lebanon",
          "Liberia",
          "Libya",
          "Sri Lanka",
          "Lesotho",
          "Lithuania",
          "Luxembourg",
          "Latvia",
          "Morocco",
          "Moldova",
          "Madagascar",
          "Maldives",
          "Mexico",
          "Mali",
          "Malta",
          "Myanmar",
          "Montenegro",
          "Mongolia",
          "Mozambique",
          "Mauritania",
          "Mauritius",
          "Malawi",
          "Malaysia",
          "North America",
          "Namibia",
          "Niger",
          "Nigeria",
          "Nicaragua",
          "Netherlands",
          "Norway",
          "Nepal",
          "Oman",
          "Pakistan",
          "Panama",
          "Peru",
          "Philippines",
          "Papua New Guinea",
          "Poland",
          "Puerto Rico",
          "Portugal",
          "Paraguay",
          "Qatar",
          "Romania",
          "Russian Federation",
          "Rwanda",
          "Saudi Arabia",
          "Sudan",
          "Senegal",
          "Singapore",
          "Solomon Islands",
          "Sierra Leone",
          "El Salvador",
          "Somalia",
          "Serbia",
          "Slovenia",
          "Sweden",
          "Swaziland",
          "Syrian Arab Republic",
          "Chad",
          "Togo",
          "Thailand",
          "Tajikistan",
          "Turkmenistan",
          "Timor-Leste",
          "Trinidad and Tobago",
          "Tunisia",
          "Turkey",
          "Tanzania",
          "Uganda",
          "Ukraine",
          "Uruguay",
          "United States",
          "Uzbekistan",
          "Venezuela, RB",
          "Vietnam",
          "Yemen, Rep.",
          "South Africa",
          "Congo, Dem. Rep.",
          "Zambia",
          "Zimbabwe"
         ],
         "type": "choropleth",
         "z": [
          20.6000003815,
          10.800000190699999,
          25.7999992371,
          19.5,
          38.2999992371,
          11.399999618499999,
          8.8000001907,
          14.600000381500001,
          10.800000190699999,
          22.5,
          2,
          5.1999998093,
          8.1999998093,
          22.8999996185,
          10.1999998093,
          57.2000007629,
          13.199999809300001,
          20.8999996185,
          6,
          17.2000007629,
          25.2999992371,
          10.899999618499999,
          8.3999996185,
          33,
          10.800000190699999,
          14.800000190699999,
          7.6999998092999995,
          18.6000003815,
          9,
          6.400000095399999,
          24.2999992371,
          10.6000003815,
          18.2000007629,
          17,
          6.099999904600001,
          16,
          18.5,
          9.6999998093,
          14.100000381500001,
          25.2999992371,
          22.2000007629,
          11.300000190699999,
          42.5,
          33.2999992371,
          7.400000095399999,
          20.3999996185,
          20.1000003815,
          22.6000003815,
          34.5,
          19.6000003815,
          36.7999992371,
          11.399999618499999,
          1.8999999762,
          32.4000015259,
          5.6999998092999995,
          23.2999992371,
          9.1000003815,
          33.5,
          19.2999992371,
          26.6000003815,
          25,
          10.1999998093,
          28,
          32.2999992371,
          16.1000003815,
          13.600000381500001,
          27.7999992371,
          30,
          30.1000003815,
          9.1000003815,
          6,
          17.1000003815,
          0.8999999762,
          9.6999998093,
          10.6000003815,
          20.8999996185,
          5,
          43.7999992371,
          18.7999992371,
          35.5999984741,
          35.2000007629,
          14.5,
          34.9000015259,
          17.7000007629,
          17.7000007629,
          6.1999998092999995,
          25.3999996185,
          9.3999996185,
          10.3000001907,
          13.199999809300001,
          9.3999996185,
          46,
          14.100000381500001,
          40.7000007629,
          46.7000007629,
          23.1000003815,
          13.800000190699999,
          11,
          18.3279230855,
          44.0999984741,
          7.1999998092999995,
          13.800000190699999,
          12.300000190699999,
          8.8000001907,
          9.1999998093,
          4,
          19.2999992371,
          8.1999998093,
          14.899999618499999,
          9,
          16.7999992371,
          5.400000095399999,
          23.3999996185,
          30.6000003815,
          22.2999992371,
          11.899999618499999,
          1.5,
          22.2999992371,
          16.7999992371,
          0.6999999881,
          29.7999992371,
          22.7999992371,
          13,
          9.8999996185,
          9.1000003815,
          5.0999999046,
          13,
          10.5,
          45.5,
          14.600000381500001,
          25.2000007629,
          42,
          19.2999992371,
          10.3999996185,
          10.800000190699999,
          4,
          17.2999992371,
          20.6000003815,
          13.100000381500001,
          14,
          29.3999996185,
          21.2000007629,
          5.599999904600001,
          7.400000095399999,
          17.3999996185,
          20.7999992371,
          18.7000007629,
          20.6000003815,
          17.5,
          6.099999904600001,
          30.2999992371,
          50.7999992371,
          12.300000190699999,
          26.3999996185,
          9.6000003815
         ]
        }
       ],
       "layout": {
        "geo": {
         "lataxis": {
          "gridcolor": "rgb(102, 102, 102)",
          "showgrid": false
         },
         "lonaxis": {
          "gridcolor": "rgb(102, 102, 102)",
          "showgrid": false
         },
         "oceancolor": "rgb(28,107,160)",
         "projection": {
          "rotation": {
           "lat": 10,
           "lon": 60
          },
          "type": "orthographic"
         },
         "showframe": true,
         "showocean": true
        },
        "title": "World Map of Global Youth Unemployment in the Year 2010"
       }
      },
      "text/html": [
       "<div>\n",
       "        \n",
       "        \n",
       "            <div id=\"5f04649e-3711-423d-ba4f-4291a883cfc5\" class=\"plotly-graph-div\" style=\"height:525px; width:100%;\"></div>\n",
       "            <script type=\"text/javascript\">\n",
       "                require([\"plotly\"], function(Plotly) {\n",
       "                    window.PLOTLYENV=window.PLOTLYENV || {};\n",
       "                    \n",
       "                if (document.getElementById(\"5f04649e-3711-423d-ba4f-4291a883cfc5\")) {\n",
       "                    Plotly.newPlot(\n",
       "                        '5f04649e-3711-423d-ba4f-4291a883cfc5',\n",
       "                        [{\"autocolorscale\": false, \"colorbar\": {\"autotick\": true, \"tickprefix\": \"\", \"title\": \"Unemployment\\nRate\"}, \"colorscale\": [[0, \"rgb(102,194,165)\"], [0.05, \"rgb(102,194,165)\"], [0.15, \"rgb(171,221,164)\"], [0.2, \"rgb(230,245,152)\"], [0.25, \"rgb(255,255,191)\"], [0.35, \"rgb(254,224,139)\"], [0.45, \"rgb(253,174,97)\"], [0.55, \"rgb(213,62,79)\"], [1.0, \"rgb(158,1,66)\"]], \"locationmode\": \"country names\", \"locations\": [\"Afghanistan\", \"Angola\", \"Albania\", \"Argentina\", \"Armenia\", \"Australia\", \"Austria\", \"Azerbaijan\", \"Burundi\", \"Belgium\", \"Benin\", \"Burkina Faso\", \"Bangladesh\", \"Bulgaria\", \"Bahrain\", \"Bosnia and Herzegovina\", \"Belarus\", \"Belize\", \"Bolivia\", \"Brazil\", \"Barbados\", \"Brunei Darussalam\", \"Bhutan\", \"Botswana\", \"Central African Republic\", \"Canada\", \"Switzerland\", \"Chile\", \"China\", \"Cameroon\", \"Colombia\", \"Comoros\", \"Cabo Verde\", \"Costa Rica\", \"Cuba\", \"Cyprus\", \"Czech Republic\", \"Germany\", \"Denmark\", \"Dominican Republic\", \"Algeria\", \"Ecuador\", \"Spain\", \"Estonia\", \"Ethiopia\", \"Finland\", \"Fiji\", \"France\", \"Gabon\", \"United Kingdom\", \"Georgia\", \"Ghana\", \"Guinea\", \"Greece\", \"Guatemala\", \"Guyana\", \"Honduras\", \"Croatia\", \"Haiti\", \"Hungary\", \"Indonesia\", \"India\", \"Ireland\", \"Iraq\", \"Iceland\", \"Israel\", \"Italy\", \"Jamaica\", \"Jordan\", \"Japan\", \"Kazakhstan\", \"Kenya\", \"Cambodia\", \"Korea, Rep.\", \"Kuwait\", \"Lebanon\", \"Liberia\", \"Libya\", \"Sri Lanka\", \"Lesotho\", \"Lithuania\", \"Luxembourg\", \"Latvia\", \"Morocco\", \"Moldova\", \"Madagascar\", \"Maldives\", \"Mexico\", \"Mali\", \"Malta\", \"Myanmar\", \"Montenegro\", \"Mongolia\", \"Mozambique\", \"Mauritania\", \"Mauritius\", \"Malawi\", \"Malaysia\", \"North America\", \"Namibia\", \"Niger\", \"Nigeria\", \"Nicaragua\", \"Netherlands\", \"Norway\", \"Nepal\", \"Oman\", \"Pakistan\", \"Panama\", \"Peru\", \"Philippines\", \"Papua New Guinea\", \"Poland\", \"Puerto Rico\", \"Portugal\", \"Paraguay\", \"Qatar\", \"Romania\", \"Russian Federation\", \"Rwanda\", \"Saudi Arabia\", \"Sudan\", \"Senegal\", \"Singapore\", \"Solomon Islands\", \"Sierra Leone\", \"El Salvador\", \"Somalia\", \"Serbia\", \"Slovenia\", \"Sweden\", \"Swaziland\", \"Syrian Arab Republic\", \"Chad\", \"Togo\", \"Thailand\", \"Tajikistan\", \"Turkmenistan\", \"Timor-Leste\", \"Trinidad and Tobago\", \"Tunisia\", \"Turkey\", \"Tanzania\", \"Uganda\", \"Ukraine\", \"Uruguay\", \"United States\", \"Uzbekistan\", \"Venezuela, RB\", \"Vietnam\", \"Yemen, Rep.\", \"South Africa\", \"Congo, Dem. Rep.\", \"Zambia\", \"Zimbabwe\"], \"marker\": {\"line\": {\"color\": \"rgb(250,250,225)\", \"width\": 0.5}}, \"showscale\": true, \"text\": [\"Afghanistan\", \"Angola\", \"Albania\", \"Argentina\", \"Armenia\", \"Australia\", \"Austria\", \"Azerbaijan\", \"Burundi\", \"Belgium\", \"Benin\", \"Burkina Faso\", \"Bangladesh\", \"Bulgaria\", \"Bahrain\", \"Bosnia and Herzegovina\", \"Belarus\", \"Belize\", \"Bolivia\", \"Brazil\", \"Barbados\", \"Brunei Darussalam\", \"Bhutan\", \"Botswana\", \"Central African Republic\", \"Canada\", \"Switzerland\", \"Chile\", \"China\", \"Cameroon\", \"Colombia\", \"Comoros\", \"Cabo Verde\", \"Costa Rica\", \"Cuba\", \"Cyprus\", \"Czech Republic\", \"Germany\", \"Denmark\", \"Dominican Republic\", \"Algeria\", \"Ecuador\", \"Spain\", \"Estonia\", \"Ethiopia\", \"Finland\", \"Fiji\", \"France\", \"Gabon\", \"United Kingdom\", \"Georgia\", \"Ghana\", \"Guinea\", \"Greece\", \"Guatemala\", \"Guyana\", \"Honduras\", \"Croatia\", \"Haiti\", \"Hungary\", \"Indonesia\", \"India\", \"Ireland\", \"Iraq\", \"Iceland\", \"Israel\", \"Italy\", \"Jamaica\", \"Jordan\", \"Japan\", \"Kazakhstan\", \"Kenya\", \"Cambodia\", \"Korea, Rep.\", \"Kuwait\", \"Lebanon\", \"Liberia\", \"Libya\", \"Sri Lanka\", \"Lesotho\", \"Lithuania\", \"Luxembourg\", \"Latvia\", \"Morocco\", \"Moldova\", \"Madagascar\", \"Maldives\", \"Mexico\", \"Mali\", \"Malta\", \"Myanmar\", \"Montenegro\", \"Mongolia\", \"Mozambique\", \"Mauritania\", \"Mauritius\", \"Malawi\", \"Malaysia\", \"North America\", \"Namibia\", \"Niger\", \"Nigeria\", \"Nicaragua\", \"Netherlands\", \"Norway\", \"Nepal\", \"Oman\", \"Pakistan\", \"Panama\", \"Peru\", \"Philippines\", \"Papua New Guinea\", \"Poland\", \"Puerto Rico\", \"Portugal\", \"Paraguay\", \"Qatar\", \"Romania\", \"Russian Federation\", \"Rwanda\", \"Saudi Arabia\", \"Sudan\", \"Senegal\", \"Singapore\", \"Solomon Islands\", \"Sierra Leone\", \"El Salvador\", \"Somalia\", \"Serbia\", \"Slovenia\", \"Sweden\", \"Swaziland\", \"Syrian Arab Republic\", \"Chad\", \"Togo\", \"Thailand\", \"Tajikistan\", \"Turkmenistan\", \"Timor-Leste\", \"Trinidad and Tobago\", \"Tunisia\", \"Turkey\", \"Tanzania\", \"Uganda\", \"Ukraine\", \"Uruguay\", \"United States\", \"Uzbekistan\", \"Venezuela, RB\", \"Vietnam\", \"Yemen, Rep.\", \"South Africa\", \"Congo, Dem. Rep.\", \"Zambia\", \"Zimbabwe\"], \"type\": \"choropleth\", \"z\": [20.6000003815, 10.800000190699999, 25.7999992371, 19.5, 38.2999992371, 11.399999618499999, 8.8000001907, 14.600000381500001, 10.800000190699999, 22.5, 2.0, 5.1999998093, 8.1999998093, 22.8999996185, 10.1999998093, 57.2000007629, 13.199999809300001, 20.8999996185, 6.0, 17.2000007629, 25.2999992371, 10.899999618499999, 8.3999996185, 33.0, 10.800000190699999, 14.800000190699999, 7.6999998092999995, 18.6000003815, 9.0, 6.400000095399999, 24.2999992371, 10.6000003815, 18.2000007629, 17.0, 6.099999904600001, 16.0, 18.5, 9.6999998093, 14.100000381500001, 25.2999992371, 22.2000007629, 11.300000190699999, 42.5, 33.2999992371, 7.400000095399999, 20.3999996185, 20.1000003815, 22.6000003815, 34.5, 19.6000003815, 36.7999992371, 11.399999618499999, 1.8999999762, 32.4000015259, 5.6999998092999995, 23.2999992371, 9.1000003815, 33.5, 19.2999992371, 26.6000003815, 25.0, 10.1999998093, 28.0, 32.2999992371, 16.1000003815, 13.600000381500001, 27.7999992371, 30.0, 30.1000003815, 9.1000003815, 6.0, 17.1000003815, 0.8999999762, 9.6999998093, 10.6000003815, 20.8999996185, 5.0, 43.7999992371, 18.7999992371, 35.5999984741, 35.2000007629, 14.5, 34.9000015259, 17.7000007629, 17.7000007629, 6.1999998092999995, 25.3999996185, 9.3999996185, 10.3000001907, 13.199999809300001, 9.3999996185, 46.0, 14.100000381500001, 40.7000007629, 46.7000007629, 23.1000003815, 13.800000190699999, 11.0, 18.3279230855, 44.0999984741, 7.1999998092999995, 13.800000190699999, 12.300000190699999, 8.8000001907, 9.1999998093, 4.0, 19.2999992371, 8.1999998093, 14.899999618499999, 9.0, 16.7999992371, 5.400000095399999, 23.3999996185, 30.6000003815, 22.2999992371, 11.899999618499999, 1.5, 22.2999992371, 16.7999992371, 0.6999999881, 29.7999992371, 22.7999992371, 13.0, 9.8999996185, 9.1000003815, 5.0999999046, 13.0, 10.5, 45.5, 14.600000381500001, 25.2000007629, 42.0, 19.2999992371, 10.3999996185, 10.800000190699999, 4.0, 17.2999992371, 20.6000003815, 13.100000381500001, 14.0, 29.3999996185, 21.2000007629, 5.599999904600001, 7.400000095399999, 17.3999996185, 20.7999992371, 18.7000007629, 20.6000003815, 17.5, 6.099999904600001, 30.2999992371, 50.7999992371, 12.300000190699999, 26.3999996185, 9.6000003815]}],\n",
       "                        {\"geo\": {\"lataxis\": {\"gridcolor\": \"rgb(102, 102, 102)\", \"showgrid\": false}, \"lonaxis\": {\"gridcolor\": \"rgb(102, 102, 102)\", \"showgrid\": false}, \"oceancolor\": \"rgb(28,107,160)\", \"projection\": {\"rotation\": {\"lat\": 10, \"lon\": 60}, \"type\": \"orthographic\"}, \"showframe\": true, \"showocean\": true}, \"title\": \"World Map of Global Youth Unemployment in the Year 2010\"},\n",
       "                        {\"responsive\": true}\n",
       "                    ).then(function(){\n",
       "                            \n",
       "var gd = document.getElementById('5f04649e-3711-423d-ba4f-4291a883cfc5');\n",
       "var x = new MutationObserver(function (mutations, observer) {{\n",
       "        var display = window.getComputedStyle(gd).display;\n",
       "        if (!display || display === 'none') {{\n",
       "            console.log([gd, 'removed!']);\n",
       "            Plotly.purge(gd);\n",
       "            observer.disconnect();\n",
       "        }}\n",
       "}});\n",
       "\n",
       "// Listen for the removal of the full notebook cells\n",
       "var notebookContainer = gd.closest('#notebook-container');\n",
       "if (notebookContainer) {{\n",
       "    x.observe(notebookContainer, {childList: true});\n",
       "}}\n",
       "\n",
       "// Listen for the clearing of the current output cell\n",
       "var outputEl = gd.closest('.output');\n",
       "if (outputEl) {{\n",
       "    x.observe(outputEl, {childList: true});\n",
       "}}\n",
       "\n",
       "                        })\n",
       "                };\n",
       "                });\n",
       "            </script>\n",
       "        </div>"
      ]
     },
     "metadata": {},
     "output_type": "display_data"
    },
    {
     "data": {
      "application/vnd.plotly.v1+json": {
       "config": {
        "linkText": "Export to plot.ly",
        "plotlyServerURL": "https://plot.ly",
        "showLink": false
       },
       "data": [
        {
         "autocolorscale": false,
         "colorbar": {
          "autotick": true,
          "tickprefix": "",
          "title": "Unemployment\nRate"
         },
         "colorscale": [
          [
           0,
           "rgb(102,194,165)"
          ],
          [
           0.05,
           "rgb(102,194,165)"
          ],
          [
           0.15,
           "rgb(171,221,164)"
          ],
          [
           0.2,
           "rgb(230,245,152)"
          ],
          [
           0.25,
           "rgb(255,255,191)"
          ],
          [
           0.35,
           "rgb(254,224,139)"
          ],
          [
           0.45,
           "rgb(253,174,97)"
          ],
          [
           0.55,
           "rgb(213,62,79)"
          ],
          [
           1,
           "rgb(158,1,66)"
          ]
         ],
         "locationmode": "country names",
         "locations": [
          "Afghanistan",
          "Angola",
          "Albania",
          "Argentina",
          "Armenia",
          "Australia",
          "Austria",
          "Azerbaijan",
          "Burundi",
          "Belgium",
          "Benin",
          "Burkina Faso",
          "Bangladesh",
          "Bulgaria",
          "Bahrain",
          "Bosnia and Herzegovina",
          "Belarus",
          "Belize",
          "Bolivia",
          "Brazil",
          "Barbados",
          "Brunei Darussalam",
          "Bhutan",
          "Botswana",
          "Central African Republic",
          "Canada",
          "Switzerland",
          "Chile",
          "China",
          "Cameroon",
          "Colombia",
          "Comoros",
          "Cabo Verde",
          "Costa Rica",
          "Cuba",
          "Cyprus",
          "Czech Republic",
          "Germany",
          "Denmark",
          "Dominican Republic",
          "Algeria",
          "Ecuador",
          "Spain",
          "Estonia",
          "Ethiopia",
          "Finland",
          "Fiji",
          "France",
          "Gabon",
          "United Kingdom",
          "Georgia",
          "Ghana",
          "Guinea",
          "Greece",
          "Guatemala",
          "Guyana",
          "Honduras",
          "Croatia",
          "Haiti",
          "Hungary",
          "Indonesia",
          "India",
          "Ireland",
          "Iraq",
          "Iceland",
          "Israel",
          "Italy",
          "Jamaica",
          "Jordan",
          "Japan",
          "Kazakhstan",
          "Kenya",
          "Cambodia",
          "Korea, Rep.",
          "Kuwait",
          "Lebanon",
          "Liberia",
          "Libya",
          "Sri Lanka",
          "Lesotho",
          "Lithuania",
          "Luxembourg",
          "Latvia",
          "Morocco",
          "Moldova",
          "Madagascar",
          "Maldives",
          "Mexico",
          "Mali",
          "Malta",
          "Myanmar",
          "Montenegro",
          "Mongolia",
          "Mozambique",
          "Mauritania",
          "Mauritius",
          "Malawi",
          "Malaysia",
          "North America",
          "Namibia",
          "Niger",
          "Nigeria",
          "Nicaragua",
          "Netherlands",
          "Norway",
          "Nepal",
          "Oman",
          "Pakistan",
          "Panama",
          "Peru",
          "Philippines",
          "Papua New Guinea",
          "Poland",
          "Puerto Rico",
          "Portugal",
          "Paraguay",
          "Qatar",
          "Romania",
          "Russian Federation",
          "Rwanda",
          "Saudi Arabia",
          "Sudan",
          "Senegal",
          "Singapore",
          "Solomon Islands",
          "Sierra Leone",
          "El Salvador",
          "Somalia",
          "Serbia",
          "Slovenia",
          "Sweden",
          "Swaziland",
          "Syrian Arab Republic",
          "Chad",
          "Togo",
          "Thailand",
          "Tajikistan",
          "Turkmenistan",
          "Timor-Leste",
          "Trinidad and Tobago",
          "Tunisia",
          "Turkey",
          "Tanzania",
          "Uganda",
          "Ukraine",
          "Uruguay",
          "United States",
          "Uzbekistan",
          "Venezuela, RB",
          "Vietnam",
          "Yemen, Rep.",
          "South Africa",
          "Congo, Dem. Rep.",
          "Zambia",
          "Zimbabwe"
         ],
         "marker": {
          "line": {
           "color": "rgb(250,250,200)",
           "width": 0.5
          }
         },
         "showscale": true,
         "text": [
          "Afghanistan",
          "Angola",
          "Albania",
          "Argentina",
          "Armenia",
          "Australia",
          "Austria",
          "Azerbaijan",
          "Burundi",
          "Belgium",
          "Benin",
          "Burkina Faso",
          "Bangladesh",
          "Bulgaria",
          "Bahrain",
          "Bosnia and Herzegovina",
          "Belarus",
          "Belize",
          "Bolivia",
          "Brazil",
          "Barbados",
          "Brunei Darussalam",
          "Bhutan",
          "Botswana",
          "Central African Republic",
          "Canada",
          "Switzerland",
          "Chile",
          "China",
          "Cameroon",
          "Colombia",
          "Comoros",
          "Cabo Verde",
          "Costa Rica",
          "Cuba",
          "Cyprus",
          "Czech Republic",
          "Germany",
          "Denmark",
          "Dominican Republic",
          "Algeria",
          "Ecuador",
          "Spain",
          "Estonia",
          "Ethiopia",
          "Finland",
          "Fiji",
          "France",
          "Gabon",
          "United Kingdom",
          "Georgia",
          "Ghana",
          "Guinea",
          "Greece",
          "Guatemala",
          "Guyana",
          "Honduras",
          "Croatia",
          "Haiti",
          "Hungary",
          "Indonesia",
          "India",
          "Ireland",
          "Iraq",
          "Iceland",
          "Israel",
          "Italy",
          "Jamaica",
          "Jordan",
          "Japan",
          "Kazakhstan",
          "Kenya",
          "Cambodia",
          "Korea, Rep.",
          "Kuwait",
          "Lebanon",
          "Liberia",
          "Libya",
          "Sri Lanka",
          "Lesotho",
          "Lithuania",
          "Luxembourg",
          "Latvia",
          "Morocco",
          "Moldova",
          "Madagascar",
          "Maldives",
          "Mexico",
          "Mali",
          "Malta",
          "Myanmar",
          "Montenegro",
          "Mongolia",
          "Mozambique",
          "Mauritania",
          "Mauritius",
          "Malawi",
          "Malaysia",
          "North America",
          "Namibia",
          "Niger",
          "Nigeria",
          "Nicaragua",
          "Netherlands",
          "Norway",
          "Nepal",
          "Oman",
          "Pakistan",
          "Panama",
          "Peru",
          "Philippines",
          "Papua New Guinea",
          "Poland",
          "Puerto Rico",
          "Portugal",
          "Paraguay",
          "Qatar",
          "Romania",
          "Russian Federation",
          "Rwanda",
          "Saudi Arabia",
          "Sudan",
          "Senegal",
          "Singapore",
          "Solomon Islands",
          "Sierra Leone",
          "El Salvador",
          "Somalia",
          "Serbia",
          "Slovenia",
          "Sweden",
          "Swaziland",
          "Syrian Arab Republic",
          "Chad",
          "Togo",
          "Thailand",
          "Tajikistan",
          "Turkmenistan",
          "Timor-Leste",
          "Trinidad and Tobago",
          "Tunisia",
          "Turkey",
          "Tanzania",
          "Uganda",
          "Ukraine",
          "Uruguay",
          "United States",
          "Uzbekistan",
          "Venezuela, RB",
          "Vietnam",
          "Yemen, Rep.",
          "South Africa",
          "Congo, Dem. Rep.",
          "Zambia",
          "Zimbabwe"
         ],
         "type": "choropleth",
         "z": [
          20.7999992371,
          10.5,
          29.2000007629,
          21.2999992371,
          35.0999984741,
          13.100000381500001,
          9.1999998093,
          13.600000381500001,
          10.6999998093,
          23.6000003815,
          1.7000000477000001,
          5,
          9.1000003815,
          25.8999996185,
          10.899999618499999,
          57.5,
          12,
          22,
          5.1999998093,
          15.199999809300001,
          26.7999992371,
          11.100000381500001,
          10,
          33.9000015259,
          11.899999618499999,
          13.399999618499999,
          8.6999998093,
          16.3999996185,
          10.5,
          6.6999998092999995,
          18.8999996185,
          10.6000003815,
          18.7999992371,
          19.2000007629,
          7.099999904600001,
          35.7000007629,
          16.7000007629,
          7.599999904600001,
          12.399999618499999,
          31.3999996185,
          20,
          10.800000190699999,
          57.9000015259,
          17,
          7.099999904600001,
          19.2000007629,
          18.6000003815,
          23.8999996185,
          35.5,
          16.7000007629,
          34.0999984741,
          3.2999999523000003,
          1.7000000477000001,
          53.9000015259,
          5.400000095399999,
          23.7999992371,
          6.900000095399999,
          45.9000015259,
          17.1000003815,
          21,
          21.7999992371,
          10.3999996185,
          25.7999992371,
          34.5999984741,
          10.899999618499999,
          11,
          44.0999984741,
          30.5,
          28.7999992371,
          6.5,
          3.5,
          17.3999996185,
          0.8999999762,
          10.3999996185,
          19.3999996185,
          20.7000007629,
          4.5999999046,
          48.9000015259,
          19.1000003815,
          33,
          21.5,
          16,
          19.2999992371,
          20.2000007629,
          8.5,
          5.1999998093,
          26.8999996185,
          9.8999996185,
          10.5,
          13.600000381500001,
          9.5,
          39.5,
          9.3000001907,
          40.7000007629,
          46.5999984741,
          21.2000007629,
          13.800000190699999,
          6.6999998092999995,
          13.9430995948,
          38.7000007629,
          7.099999904600001,
          13.600000381500001,
          7.599999904600001,
          11.100000381500001,
          8.3999996185,
          4,
          18.7999992371,
          8.6000003815,
          11,
          9.1999998093,
          16.3999996185,
          5.400000095399999,
          24,
          27.7999992371,
          36.7999992371,
          9.3000001907,
          1.2999999523,
          25.1000003815,
          12.899999618499999,
          0.6999999881,
          29.5,
          23.2999992371,
          13,
          9.6000003815,
          9.5,
          4.9000000954,
          11.699999809300001,
          10.6000003815,
          49.5,
          20.7999992371,
          22.7999992371,
          42.5999984741,
          30.1000003815,
          10.5,
          10.6999998093,
          3.9000000954000003,
          15.5,
          20.2000007629,
          14,
          10.6000003815,
          31.7999992371,
          17.7000007629,
          5.5,
          6.8000001907000005,
          16.8999996185,
          19.1000003815,
          14,
          20.2999992371,
          17.1000003815,
          6.3000001907000005,
          29.8999996185,
          52.5999984741,
          11.899999618499999,
          25.1000003815,
          9.3999996185
         ]
        }
       ],
       "layout": {
        "geo": {
         "lataxis": {
          "gridcolor": "rgb(102, 102, 102)",
          "showgrid": false
         },
         "lonaxis": {
          "gridcolor": "rgb(202, 202, 202)",
          "showgrid": false,
          "width": "0.05"
         },
         "oceancolor": "rgb(28,107,160)",
         "projection": {
          "rotation": {
           "lat": 10,
           "lon": 60
          },
          "type": "orthographic"
         },
         "showframe": true,
         "showocean": true
        },
        "title": "World Map of Global Youth Unemployment in the Year 2014"
       }
      },
      "text/html": [
       "<div>\n",
       "        \n",
       "        \n",
       "            <div id=\"7e3a2792-4a82-4104-a6ce-8a39444380ca\" class=\"plotly-graph-div\" style=\"height:525px; width:100%;\"></div>\n",
       "            <script type=\"text/javascript\">\n",
       "                require([\"plotly\"], function(Plotly) {\n",
       "                    window.PLOTLYENV=window.PLOTLYENV || {};\n",
       "                    \n",
       "                if (document.getElementById(\"7e3a2792-4a82-4104-a6ce-8a39444380ca\")) {\n",
       "                    Plotly.newPlot(\n",
       "                        '7e3a2792-4a82-4104-a6ce-8a39444380ca',\n",
       "                        [{\"autocolorscale\": false, \"colorbar\": {\"autotick\": true, \"tickprefix\": \"\", \"title\": \"Unemployment\\nRate\"}, \"colorscale\": [[0, \"rgb(102,194,165)\"], [0.05, \"rgb(102,194,165)\"], [0.15, \"rgb(171,221,164)\"], [0.2, \"rgb(230,245,152)\"], [0.25, \"rgb(255,255,191)\"], [0.35, \"rgb(254,224,139)\"], [0.45, \"rgb(253,174,97)\"], [0.55, \"rgb(213,62,79)\"], [1.0, \"rgb(158,1,66)\"]], \"locationmode\": \"country names\", \"locations\": [\"Afghanistan\", \"Angola\", \"Albania\", \"Argentina\", \"Armenia\", \"Australia\", \"Austria\", \"Azerbaijan\", \"Burundi\", \"Belgium\", \"Benin\", \"Burkina Faso\", \"Bangladesh\", \"Bulgaria\", \"Bahrain\", \"Bosnia and Herzegovina\", \"Belarus\", \"Belize\", \"Bolivia\", \"Brazil\", \"Barbados\", \"Brunei Darussalam\", \"Bhutan\", \"Botswana\", \"Central African Republic\", \"Canada\", \"Switzerland\", \"Chile\", \"China\", \"Cameroon\", \"Colombia\", \"Comoros\", \"Cabo Verde\", \"Costa Rica\", \"Cuba\", \"Cyprus\", \"Czech Republic\", \"Germany\", \"Denmark\", \"Dominican Republic\", \"Algeria\", \"Ecuador\", \"Spain\", \"Estonia\", \"Ethiopia\", \"Finland\", \"Fiji\", \"France\", \"Gabon\", \"United Kingdom\", \"Georgia\", \"Ghana\", \"Guinea\", \"Greece\", \"Guatemala\", \"Guyana\", \"Honduras\", \"Croatia\", \"Haiti\", \"Hungary\", \"Indonesia\", \"India\", \"Ireland\", \"Iraq\", \"Iceland\", \"Israel\", \"Italy\", \"Jamaica\", \"Jordan\", \"Japan\", \"Kazakhstan\", \"Kenya\", \"Cambodia\", \"Korea, Rep.\", \"Kuwait\", \"Lebanon\", \"Liberia\", \"Libya\", \"Sri Lanka\", \"Lesotho\", \"Lithuania\", \"Luxembourg\", \"Latvia\", \"Morocco\", \"Moldova\", \"Madagascar\", \"Maldives\", \"Mexico\", \"Mali\", \"Malta\", \"Myanmar\", \"Montenegro\", \"Mongolia\", \"Mozambique\", \"Mauritania\", \"Mauritius\", \"Malawi\", \"Malaysia\", \"North America\", \"Namibia\", \"Niger\", \"Nigeria\", \"Nicaragua\", \"Netherlands\", \"Norway\", \"Nepal\", \"Oman\", \"Pakistan\", \"Panama\", \"Peru\", \"Philippines\", \"Papua New Guinea\", \"Poland\", \"Puerto Rico\", \"Portugal\", \"Paraguay\", \"Qatar\", \"Romania\", \"Russian Federation\", \"Rwanda\", \"Saudi Arabia\", \"Sudan\", \"Senegal\", \"Singapore\", \"Solomon Islands\", \"Sierra Leone\", \"El Salvador\", \"Somalia\", \"Serbia\", \"Slovenia\", \"Sweden\", \"Swaziland\", \"Syrian Arab Republic\", \"Chad\", \"Togo\", \"Thailand\", \"Tajikistan\", \"Turkmenistan\", \"Timor-Leste\", \"Trinidad and Tobago\", \"Tunisia\", \"Turkey\", \"Tanzania\", \"Uganda\", \"Ukraine\", \"Uruguay\", \"United States\", \"Uzbekistan\", \"Venezuela, RB\", \"Vietnam\", \"Yemen, Rep.\", \"South Africa\", \"Congo, Dem. Rep.\", \"Zambia\", \"Zimbabwe\"], \"marker\": {\"line\": {\"color\": \"rgb(250,250,200)\", \"width\": 0.5}}, \"showscale\": true, \"text\": [\"Afghanistan\", \"Angola\", \"Albania\", \"Argentina\", \"Armenia\", \"Australia\", \"Austria\", \"Azerbaijan\", \"Burundi\", \"Belgium\", \"Benin\", \"Burkina Faso\", \"Bangladesh\", \"Bulgaria\", \"Bahrain\", \"Bosnia and Herzegovina\", \"Belarus\", \"Belize\", \"Bolivia\", \"Brazil\", \"Barbados\", \"Brunei Darussalam\", \"Bhutan\", \"Botswana\", \"Central African Republic\", \"Canada\", \"Switzerland\", \"Chile\", \"China\", \"Cameroon\", \"Colombia\", \"Comoros\", \"Cabo Verde\", \"Costa Rica\", \"Cuba\", \"Cyprus\", \"Czech Republic\", \"Germany\", \"Denmark\", \"Dominican Republic\", \"Algeria\", \"Ecuador\", \"Spain\", \"Estonia\", \"Ethiopia\", \"Finland\", \"Fiji\", \"France\", \"Gabon\", \"United Kingdom\", \"Georgia\", \"Ghana\", \"Guinea\", \"Greece\", \"Guatemala\", \"Guyana\", \"Honduras\", \"Croatia\", \"Haiti\", \"Hungary\", \"Indonesia\", \"India\", \"Ireland\", \"Iraq\", \"Iceland\", \"Israel\", \"Italy\", \"Jamaica\", \"Jordan\", \"Japan\", \"Kazakhstan\", \"Kenya\", \"Cambodia\", \"Korea, Rep.\", \"Kuwait\", \"Lebanon\", \"Liberia\", \"Libya\", \"Sri Lanka\", \"Lesotho\", \"Lithuania\", \"Luxembourg\", \"Latvia\", \"Morocco\", \"Moldova\", \"Madagascar\", \"Maldives\", \"Mexico\", \"Mali\", \"Malta\", \"Myanmar\", \"Montenegro\", \"Mongolia\", \"Mozambique\", \"Mauritania\", \"Mauritius\", \"Malawi\", \"Malaysia\", \"North America\", \"Namibia\", \"Niger\", \"Nigeria\", \"Nicaragua\", \"Netherlands\", \"Norway\", \"Nepal\", \"Oman\", \"Pakistan\", \"Panama\", \"Peru\", \"Philippines\", \"Papua New Guinea\", \"Poland\", \"Puerto Rico\", \"Portugal\", \"Paraguay\", \"Qatar\", \"Romania\", \"Russian Federation\", \"Rwanda\", \"Saudi Arabia\", \"Sudan\", \"Senegal\", \"Singapore\", \"Solomon Islands\", \"Sierra Leone\", \"El Salvador\", \"Somalia\", \"Serbia\", \"Slovenia\", \"Sweden\", \"Swaziland\", \"Syrian Arab Republic\", \"Chad\", \"Togo\", \"Thailand\", \"Tajikistan\", \"Turkmenistan\", \"Timor-Leste\", \"Trinidad and Tobago\", \"Tunisia\", \"Turkey\", \"Tanzania\", \"Uganda\", \"Ukraine\", \"Uruguay\", \"United States\", \"Uzbekistan\", \"Venezuela, RB\", \"Vietnam\", \"Yemen, Rep.\", \"South Africa\", \"Congo, Dem. Rep.\", \"Zambia\", \"Zimbabwe\"], \"type\": \"choropleth\", \"z\": [20.7999992371, 10.5, 29.2000007629, 21.2999992371, 35.0999984741, 13.100000381500001, 9.1999998093, 13.600000381500001, 10.6999998093, 23.6000003815, 1.7000000477000001, 5.0, 9.1000003815, 25.8999996185, 10.899999618499999, 57.5, 12.0, 22.0, 5.1999998093, 15.199999809300001, 26.7999992371, 11.100000381500001, 10.0, 33.9000015259, 11.899999618499999, 13.399999618499999, 8.6999998093, 16.3999996185, 10.5, 6.6999998092999995, 18.8999996185, 10.6000003815, 18.7999992371, 19.2000007629, 7.099999904600001, 35.7000007629, 16.7000007629, 7.599999904600001, 12.399999618499999, 31.3999996185, 20.0, 10.800000190699999, 57.9000015259, 17.0, 7.099999904600001, 19.2000007629, 18.6000003815, 23.8999996185, 35.5, 16.7000007629, 34.0999984741, 3.2999999523000003, 1.7000000477000001, 53.9000015259, 5.400000095399999, 23.7999992371, 6.900000095399999, 45.9000015259, 17.1000003815, 21.0, 21.7999992371, 10.3999996185, 25.7999992371, 34.5999984741, 10.899999618499999, 11.0, 44.0999984741, 30.5, 28.7999992371, 6.5, 3.5, 17.3999996185, 0.8999999762, 10.3999996185, 19.3999996185, 20.7000007629, 4.5999999046, 48.9000015259, 19.1000003815, 33.0, 21.5, 16.0, 19.2999992371, 20.2000007629, 8.5, 5.1999998093, 26.8999996185, 9.8999996185, 10.5, 13.600000381500001, 9.5, 39.5, 9.3000001907, 40.7000007629, 46.5999984741, 21.2000007629, 13.800000190699999, 6.6999998092999995, 13.9430995948, 38.7000007629, 7.099999904600001, 13.600000381500001, 7.599999904600001, 11.100000381500001, 8.3999996185, 4.0, 18.7999992371, 8.6000003815, 11.0, 9.1999998093, 16.3999996185, 5.400000095399999, 24.0, 27.7999992371, 36.7999992371, 9.3000001907, 1.2999999523, 25.1000003815, 12.899999618499999, 0.6999999881, 29.5, 23.2999992371, 13.0, 9.6000003815, 9.5, 4.9000000954, 11.699999809300001, 10.6000003815, 49.5, 20.7999992371, 22.7999992371, 42.5999984741, 30.1000003815, 10.5, 10.6999998093, 3.9000000954000003, 15.5, 20.2000007629, 14.0, 10.6000003815, 31.7999992371, 17.7000007629, 5.5, 6.8000001907000005, 16.8999996185, 19.1000003815, 14.0, 20.2999992371, 17.1000003815, 6.3000001907000005, 29.8999996185, 52.5999984741, 11.899999618499999, 25.1000003815, 9.3999996185]}],\n",
       "                        {\"geo\": {\"lataxis\": {\"gridcolor\": \"rgb(102, 102, 102)\", \"showgrid\": false}, \"lonaxis\": {\"gridcolor\": \"rgb(202, 202, 202)\", \"showgrid\": false, \"width\": \"0.05\"}, \"oceancolor\": \"rgb(28,107,160)\", \"projection\": {\"rotation\": {\"lat\": 10, \"lon\": 60}, \"type\": \"orthographic\"}, \"showframe\": true, \"showocean\": true}, \"title\": \"World Map of Global Youth Unemployment in the Year 2014\"},\n",
       "                        {\"responsive\": true}\n",
       "                    ).then(function(){\n",
       "                            \n",
       "var gd = document.getElementById('7e3a2792-4a82-4104-a6ce-8a39444380ca');\n",
       "var x = new MutationObserver(function (mutations, observer) {{\n",
       "        var display = window.getComputedStyle(gd).display;\n",
       "        if (!display || display === 'none') {{\n",
       "            console.log([gd, 'removed!']);\n",
       "            Plotly.purge(gd);\n",
       "            observer.disconnect();\n",
       "        }}\n",
       "}});\n",
       "\n",
       "// Listen for the removal of the full notebook cells\n",
       "var notebookContainer = gd.closest('#notebook-container');\n",
       "if (notebookContainer) {{\n",
       "    x.observe(notebookContainer, {childList: true});\n",
       "}}\n",
       "\n",
       "// Listen for the clearing of the current output cell\n",
       "var outputEl = gd.closest('.output');\n",
       "if (outputEl) {{\n",
       "    x.observe(outputEl, {childList: true});\n",
       "}}\n",
       "\n",
       "                        })\n",
       "                };\n",
       "                });\n",
       "            </script>\n",
       "        </div>"
      ]
     },
     "metadata": {},
     "output_type": "display_data"
    }
   ],
   "source": [
    "# Plotting 2010 and 2014 visuals\n",
    "metricscale1=[[0, 'rgb(102,194,165)'], [0.05, 'rgb(102,194,165)'], [0.15, 'rgb(171,221,164)'], [0.2, 'rgb(230,245,152)'], [0.25, 'rgb(255,255,191)'], [0.35, 'rgb(254,224,139)'], [0.45, 'rgb(253,174,97)'], [0.55, 'rgb(213,62,79)'], [1.0, 'rgb(158,1,66)']]\n",
    "data = [ dict(\n",
    "        type = 'choropleth',\n",
    "        autocolorscale = False,\n",
    "        colorscale = metricscale1,\n",
    "        showscale = True,\n",
    "        locations = country_clean['Country Name'].values,\n",
    "        z = country_clean['2010'].values,\n",
    "        locationmode = 'country names',\n",
    "        text = country_clean['Country Name'].values,\n",
    "        marker = dict(\n",
    "            line = dict(color = 'rgb(250,250,225)', width = 0.5)),\n",
    "            colorbar = dict(autotick = True, tickprefix = '', \n",
    "            title = 'Unemployment\\nRate')\n",
    "            )\n",
    "       ]\n",
    "\n",
    "layout = dict(\n",
    "    title = 'World Map of Global Youth Unemployment in the Year 2010',\n",
    "    geo = dict(\n",
    "        showframe = True,\n",
    "        showocean = True,\n",
    "        oceancolor = 'rgb(28,107,160)',\n",
    "        #oceancolor = 'rgb(222,243,246)',\n",
    "        projection = dict(\n",
    "        type = 'orthographic',\n",
    "            rotation = dict(\n",
    "                    lon = 60,\n",
    "                    lat = 10),\n",
    "        ),\n",
    "        lonaxis =  dict(\n",
    "                showgrid = False,\n",
    "                gridcolor = 'rgb(102, 102, 102)'\n",
    "            ),\n",
    "        lataxis = dict(\n",
    "                showgrid = False,\n",
    "                gridcolor = 'rgb(102, 102, 102)'\n",
    "                )\n",
    "            ),\n",
    "        )\n",
    "fig = dict(data=data, layout=layout)\n",
    "py.iplot(fig, validate=False, filename='worldmap2010')\n",
    "\n",
    "metricscale2=[[0, 'rgb(102,194,165)'], [0.05, 'rgb(102,194,165)'], [0.15, 'rgb(171,221,164)'], [0.2, 'rgb(230,245,152)'], [0.25, 'rgb(255,255,191)'], [0.35, 'rgb(254,224,139)'], [0.45, 'rgb(253,174,97)'], [0.55, 'rgb(213,62,79)'], [1.0, 'rgb(158,1,66)']]\n",
    "data = [ dict(\n",
    "        type = 'choropleth',\n",
    "        autocolorscale = False,\n",
    "        colorscale = metricscale2,\n",
    "        showscale = True,\n",
    "        locations = country_clean['Country Name'].values,\n",
    "        z = country_clean['2014'].values,\n",
    "        locationmode = 'country names',\n",
    "        text = country_clean['Country Name'].values,\n",
    "        marker = dict(\n",
    "            line = dict(color = 'rgb(250,250,200)', width = 0.5)),\n",
    "            colorbar = dict(autotick = True, tickprefix = '', \n",
    "            title = 'Unemployment\\nRate')\n",
    "            )\n",
    "       ]\n",
    "\n",
    "layout = dict(\n",
    "    title = 'World Map of Global Youth Unemployment in the Year 2014',\n",
    "    geo = dict(\n",
    "        showframe = True,\n",
    "        showocean = True,\n",
    "        oceancolor = 'rgb(28,107,160)',\n",
    "        projection = dict(\n",
    "        type = 'orthographic',\n",
    "            rotation = dict(\n",
    "                    lon = 60,\n",
    "                    lat = 10),\n",
    "        ),\n",
    "        lonaxis =  dict(\n",
    "                showgrid = False,\n",
    "                gridcolor = 'rgb(202, 202, 202)',\n",
    "                width = '0.05'\n",
    "            ),\n",
    "        lataxis = dict(\n",
    "                showgrid = False,\n",
    "                gridcolor = 'rgb(102, 102, 102)'\n",
    "                )\n",
    "            ),\n",
    "        )\n",
    "fig = dict(data=data, layout=layout)\n",
    "py.iplot(fig, validate=False, filename='worldmap2014')"
   ]
  },
  {
   "cell_type": "markdown",
   "metadata": {
    "_cell_guid": "75699142-ea63-ee94-da25-a91eadd8d0aa"
   },
   "source": [
    "*PLEASE CLICK AND SCROLL ABOVE. THESE GLOBE PLOTS ARE INTERACTIVE. DOUBLE-CLICK ON THE GLOBE IF YOU WANT TO GET BACK TO THE ORIGINAL VIEW.*"
   ]
  },
  {
   "cell_type": "markdown",
   "metadata": {
    "_cell_guid": "f85c142d-786b-092f-42d9-1e1ecc4b5976"
   },
   "source": [
    "### Insights from the Visuals\n",
    "\n",
    "**YEAR 2010** <br>\n",
    "Well first things first, in 2010 it is pretty obvious that Asia seems to be doing pretty well in terms of youth unemployment evident from the patches of green ( unemployment levels below 10% ).\n",
    "Africa and Southern/Eastern Europe on the other seems to be going through a pretty rough patch given their relatively higher occurrences of red ( unemployment levels above 30% ).\n",
    "\n",
    "**YEAR 2014** <br>\n",
    "In 2014, just from a quick glance at visuals and colors on the plots tells us that the Russian Federation and the United States have improved quite a bit in terms of reducing their youth's unemployment rate. However, it is telling from the colors that things do not seem to have improved in Africa and Europe."
   ]
  },
  {
   "cell_type": "code",
   "execution_count": null,
   "metadata": {},
   "outputs": [],
   "source": []
  },
  {
   "cell_type": "markdown",
   "metadata": {
    "_cell_guid": "686d1c1f-57c5-b877-518b-58a0c5f3aff2"
   },
   "source": [
    "## SCATTER PLOTS OF UNEMPLOYMENT RATES\n",
    "\n",
    "Let's now delve deeper into the data by taking a closer look at each individual country and its unemployment rate from the year 2010 to the year 2014. I am going to try to achieve this by using a scatter plot of the rates, plotting the visuals such that the higher the unemployment in a country the larger the scatter bubble. Hopefully this portrays the data more intuitively so let's see how it looks"
   ]
  },
  {
   "cell_type": "code",
   "execution_count": 8,
   "metadata": {
    "_cell_guid": "59f907a9-0918-5f44-fda7-13af4ef0153d"
   },
   "outputs": [
    {
     "data": {
      "application/vnd.plotly.v1+json": {
       "config": {
        "linkText": "Export to plot.ly",
        "plotlyServerURL": "https://plot.ly",
        "showLink": false
       },
       "data": [
        {
         "marker": {
          "color": [
           20.6000003815,
           10.800000190699999,
           25.7999992371,
           19.5,
           38.2999992371,
           11.399999618499999,
           8.8000001907,
           14.600000381500001,
           10.800000190699999,
           22.5,
           2,
           5.1999998093,
           8.1999998093,
           22.8999996185,
           10.1999998093,
           57.2000007629,
           13.199999809300001,
           20.8999996185,
           6,
           17.2000007629,
           25.2999992371,
           10.899999618499999,
           8.3999996185,
           33,
           10.800000190699999,
           14.800000190699999,
           7.6999998092999995,
           18.6000003815,
           9,
           6.400000095399999,
           24.2999992371,
           10.6000003815,
           18.2000007629,
           17,
           6.099999904600001,
           16,
           18.5,
           9.6999998093,
           14.100000381500001,
           25.2999992371,
           22.2000007629,
           11.300000190699999,
           42.5,
           33.2999992371,
           7.400000095399999,
           20.3999996185,
           20.1000003815,
           22.6000003815,
           34.5,
           19.6000003815,
           36.7999992371,
           11.399999618499999,
           1.8999999762,
           32.4000015259,
           5.6999998092999995,
           23.2999992371,
           9.1000003815,
           33.5,
           19.2999992371,
           26.6000003815,
           25,
           10.1999998093,
           28,
           32.2999992371,
           16.1000003815,
           13.600000381500001,
           27.7999992371,
           30,
           30.1000003815,
           9.1000003815,
           6,
           17.1000003815,
           0.8999999762,
           9.6999998093,
           10.6000003815,
           20.8999996185,
           5,
           43.7999992371,
           18.7999992371,
           35.5999984741,
           35.2000007629,
           14.5,
           34.9000015259,
           17.7000007629,
           17.7000007629,
           6.1999998092999995,
           25.3999996185,
           9.3999996185,
           10.3000001907,
           13.199999809300001,
           9.3999996185,
           46,
           14.100000381500001,
           40.7000007629,
           46.7000007629,
           23.1000003815,
           13.800000190699999,
           11,
           18.3279230855,
           44.0999984741,
           7.1999998092999995,
           13.800000190699999,
           12.300000190699999,
           8.8000001907,
           9.1999998093,
           4,
           19.2999992371,
           8.1999998093,
           14.899999618499999,
           9,
           16.7999992371,
           5.400000095399999,
           23.3999996185,
           30.6000003815,
           22.2999992371,
           11.899999618499999,
           1.5,
           22.2999992371,
           16.7999992371,
           0.6999999881,
           29.7999992371,
           22.7999992371,
           13,
           9.8999996185,
           9.1000003815,
           5.0999999046,
           13,
           10.5,
           45.5,
           14.600000381500001,
           25.2000007629,
           42,
           19.2999992371,
           10.3999996185,
           10.800000190699999,
           4,
           17.2999992371,
           20.6000003815,
           13.100000381500001,
           14,
           29.3999996185,
           21.2000007629,
           5.599999904600001,
           7.400000095399999,
           17.3999996185,
           20.7999992371,
           18.7000007629,
           20.6000003815,
           17.5,
           6.099999904600001,
           30.2999992371,
           50.7999992371,
           12.300000190699999,
           26.3999996185,
           9.6000003815
          ],
          "colorscale": [
           [
            0,
            "rgb(12,51,131)"
           ],
           [
            0.25,
            "rgb(10,136,186)"
           ],
           [
            0.5,
            "rgb(242,211,56)"
           ],
           [
            0.75,
            "rgb(242,143,56)"
           ],
           [
            1,
            "rgb(217,30,30)"
           ]
          ],
          "showscale": true,
          "size": [
           20.6000003815,
           10.800000190699999,
           25.7999992371,
           19.5,
           38.2999992371,
           11.399999618499999,
           8.8000001907,
           14.600000381500001,
           10.800000190699999,
           22.5,
           2,
           5.1999998093,
           8.1999998093,
           22.8999996185,
           10.1999998093,
           57.2000007629,
           13.199999809300001,
           20.8999996185,
           6,
           17.2000007629,
           25.2999992371,
           10.899999618499999,
           8.3999996185,
           33,
           10.800000190699999,
           14.800000190699999,
           7.6999998092999995,
           18.6000003815,
           9,
           6.400000095399999,
           24.2999992371,
           10.6000003815,
           18.2000007629,
           17,
           6.099999904600001,
           16,
           18.5,
           9.6999998093,
           14.100000381500001,
           25.2999992371,
           22.2000007629,
           11.300000190699999,
           42.5,
           33.2999992371,
           7.400000095399999,
           20.3999996185,
           20.1000003815,
           22.6000003815,
           34.5,
           19.6000003815,
           36.7999992371,
           11.399999618499999,
           1.8999999762,
           32.4000015259,
           5.6999998092999995,
           23.2999992371,
           9.1000003815,
           33.5,
           19.2999992371,
           26.6000003815,
           25,
           10.1999998093,
           28,
           32.2999992371,
           16.1000003815,
           13.600000381500001,
           27.7999992371,
           30,
           30.1000003815,
           9.1000003815,
           6,
           17.1000003815,
           0.8999999762,
           9.6999998093,
           10.6000003815,
           20.8999996185,
           5,
           43.7999992371,
           18.7999992371,
           35.5999984741,
           35.2000007629,
           14.5,
           34.9000015259,
           17.7000007629,
           17.7000007629,
           6.1999998092999995,
           25.3999996185,
           9.3999996185,
           10.3000001907,
           13.199999809300001,
           9.3999996185,
           46,
           14.100000381500001,
           40.7000007629,
           46.7000007629,
           23.1000003815,
           13.800000190699999,
           11,
           18.3279230855,
           44.0999984741,
           7.1999998092999995,
           13.800000190699999,
           12.300000190699999,
           8.8000001907,
           9.1999998093,
           4,
           19.2999992371,
           8.1999998093,
           14.899999618499999,
           9,
           16.7999992371,
           5.400000095399999,
           23.3999996185,
           30.6000003815,
           22.2999992371,
           11.899999618499999,
           1.5,
           22.2999992371,
           16.7999992371,
           0.6999999881,
           29.7999992371,
           22.7999992371,
           13,
           9.8999996185,
           9.1000003815,
           5.0999999046,
           13,
           10.5,
           45.5,
           14.600000381500001,
           25.2000007629,
           42,
           19.2999992371,
           10.3999996185,
           10.800000190699999,
           4,
           17.2999992371,
           20.6000003815,
           13.100000381500001,
           14,
           29.3999996185,
           21.2000007629,
           5.599999904600001,
           7.400000095399999,
           17.3999996185,
           20.7999992371,
           18.7000007629,
           20.6000003815,
           17.5,
           6.099999904600001,
           30.2999992371,
           50.7999992371,
           12.300000190699999,
           26.3999996185,
           9.6000003815
          ]
         },
         "mode": "markers",
         "text": [
          "Afghanistan",
          "Angola",
          "Albania",
          "Argentina",
          "Armenia",
          "Australia",
          "Austria",
          "Azerbaijan",
          "Burundi",
          "Belgium",
          "Benin",
          "Burkina Faso",
          "Bangladesh",
          "Bulgaria",
          "Bahrain",
          "Bosnia and Herzegovina",
          "Belarus",
          "Belize",
          "Bolivia",
          "Brazil",
          "Barbados",
          "Brunei Darussalam",
          "Bhutan",
          "Botswana",
          "Central African Republic",
          "Canada",
          "Switzerland",
          "Chile",
          "China",
          "Cameroon",
          "Colombia",
          "Comoros",
          "Cabo Verde",
          "Costa Rica",
          "Cuba",
          "Cyprus",
          "Czech Republic",
          "Germany",
          "Denmark",
          "Dominican Republic",
          "Algeria",
          "Ecuador",
          "Spain",
          "Estonia",
          "Ethiopia",
          "Finland",
          "Fiji",
          "France",
          "Gabon",
          "United Kingdom",
          "Georgia",
          "Ghana",
          "Guinea",
          "Greece",
          "Guatemala",
          "Guyana",
          "Honduras",
          "Croatia",
          "Haiti",
          "Hungary",
          "Indonesia",
          "India",
          "Ireland",
          "Iraq",
          "Iceland",
          "Israel",
          "Italy",
          "Jamaica",
          "Jordan",
          "Japan",
          "Kazakhstan",
          "Kenya",
          "Cambodia",
          "Korea, Rep.",
          "Kuwait",
          "Lebanon",
          "Liberia",
          "Libya",
          "Sri Lanka",
          "Lesotho",
          "Lithuania",
          "Luxembourg",
          "Latvia",
          "Morocco",
          "Moldova",
          "Madagascar",
          "Maldives",
          "Mexico",
          "Mali",
          "Malta",
          "Myanmar",
          "Montenegro",
          "Mongolia",
          "Mozambique",
          "Mauritania",
          "Mauritius",
          "Malawi",
          "Malaysia",
          "North America",
          "Namibia",
          "Niger",
          "Nigeria",
          "Nicaragua",
          "Netherlands",
          "Norway",
          "Nepal",
          "Oman",
          "Pakistan",
          "Panama",
          "Peru",
          "Philippines",
          "Papua New Guinea",
          "Poland",
          "Puerto Rico",
          "Portugal",
          "Paraguay",
          "Qatar",
          "Romania",
          "Russian Federation",
          "Rwanda",
          "Saudi Arabia",
          "Sudan",
          "Senegal",
          "Singapore",
          "Solomon Islands",
          "Sierra Leone",
          "El Salvador",
          "Somalia",
          "Serbia",
          "Slovenia",
          "Sweden",
          "Swaziland",
          "Syrian Arab Republic",
          "Chad",
          "Togo",
          "Thailand",
          "Tajikistan",
          "Turkmenistan",
          "Timor-Leste",
          "Trinidad and Tobago",
          "Tunisia",
          "Turkey",
          "Tanzania",
          "Uganda",
          "Ukraine",
          "Uruguay",
          "United States",
          "Uzbekistan",
          "Venezuela, RB",
          "Vietnam",
          "Yemen, Rep.",
          "South Africa",
          "Congo, Dem. Rep.",
          "Zambia",
          "Zimbabwe"
         ],
         "type": "scatter",
         "y": [
          20.6000003815,
          10.800000190699999,
          25.7999992371,
          19.5,
          38.2999992371,
          11.399999618499999,
          8.8000001907,
          14.600000381500001,
          10.800000190699999,
          22.5,
          2,
          5.1999998093,
          8.1999998093,
          22.8999996185,
          10.1999998093,
          57.2000007629,
          13.199999809300001,
          20.8999996185,
          6,
          17.2000007629,
          25.2999992371,
          10.899999618499999,
          8.3999996185,
          33,
          10.800000190699999,
          14.800000190699999,
          7.6999998092999995,
          18.6000003815,
          9,
          6.400000095399999,
          24.2999992371,
          10.6000003815,
          18.2000007629,
          17,
          6.099999904600001,
          16,
          18.5,
          9.6999998093,
          14.100000381500001,
          25.2999992371,
          22.2000007629,
          11.300000190699999,
          42.5,
          33.2999992371,
          7.400000095399999,
          20.3999996185,
          20.1000003815,
          22.6000003815,
          34.5,
          19.6000003815,
          36.7999992371,
          11.399999618499999,
          1.8999999762,
          32.4000015259,
          5.6999998092999995,
          23.2999992371,
          9.1000003815,
          33.5,
          19.2999992371,
          26.6000003815,
          25,
          10.1999998093,
          28,
          32.2999992371,
          16.1000003815,
          13.600000381500001,
          27.7999992371,
          30,
          30.1000003815,
          9.1000003815,
          6,
          17.1000003815,
          0.8999999762,
          9.6999998093,
          10.6000003815,
          20.8999996185,
          5,
          43.7999992371,
          18.7999992371,
          35.5999984741,
          35.2000007629,
          14.5,
          34.9000015259,
          17.7000007629,
          17.7000007629,
          6.1999998092999995,
          25.3999996185,
          9.3999996185,
          10.3000001907,
          13.199999809300001,
          9.3999996185,
          46,
          14.100000381500001,
          40.7000007629,
          46.7000007629,
          23.1000003815,
          13.800000190699999,
          11,
          18.3279230855,
          44.0999984741,
          7.1999998092999995,
          13.800000190699999,
          12.300000190699999,
          8.8000001907,
          9.1999998093,
          4,
          19.2999992371,
          8.1999998093,
          14.899999618499999,
          9,
          16.7999992371,
          5.400000095399999,
          23.3999996185,
          30.6000003815,
          22.2999992371,
          11.899999618499999,
          1.5,
          22.2999992371,
          16.7999992371,
          0.6999999881,
          29.7999992371,
          22.7999992371,
          13,
          9.8999996185,
          9.1000003815,
          5.0999999046,
          13,
          10.5,
          45.5,
          14.600000381500001,
          25.2000007629,
          42,
          19.2999992371,
          10.3999996185,
          10.800000190699999,
          4,
          17.2999992371,
          20.6000003815,
          13.100000381500001,
          14,
          29.3999996185,
          21.2000007629,
          5.599999904600001,
          7.400000095399999,
          17.3999996185,
          20.7999992371,
          18.7000007629,
          20.6000003815,
          17.5,
          6.099999904600001,
          30.2999992371,
          50.7999992371,
          12.300000190699999,
          26.3999996185,
          9.6000003815
         ]
        }
       ],
       "layout": {
        "autosize": true,
        "hovermode": "closest",
        "showlegend": false,
        "template": {
         "data": {
          "bar": [
           {
            "error_x": {
             "color": "#2a3f5f"
            },
            "error_y": {
             "color": "#2a3f5f"
            },
            "marker": {
             "line": {
              "color": "#E5ECF6",
              "width": 0.5
             }
            },
            "type": "bar"
           }
          ],
          "barpolar": [
           {
            "marker": {
             "line": {
              "color": "#E5ECF6",
              "width": 0.5
             }
            },
            "type": "barpolar"
           }
          ],
          "carpet": [
           {
            "aaxis": {
             "endlinecolor": "#2a3f5f",
             "gridcolor": "white",
             "linecolor": "white",
             "minorgridcolor": "white",
             "startlinecolor": "#2a3f5f"
            },
            "baxis": {
             "endlinecolor": "#2a3f5f",
             "gridcolor": "white",
             "linecolor": "white",
             "minorgridcolor": "white",
             "startlinecolor": "#2a3f5f"
            },
            "type": "carpet"
           }
          ],
          "choropleth": [
           {
            "colorbar": {
             "outlinewidth": 0,
             "ticks": ""
            },
            "type": "choropleth"
           }
          ],
          "contour": [
           {
            "colorbar": {
             "outlinewidth": 0,
             "ticks": ""
            },
            "colorscale": [
             [
              0,
              "#0d0887"
             ],
             [
              0.1111111111111111,
              "#46039f"
             ],
             [
              0.2222222222222222,
              "#7201a8"
             ],
             [
              0.3333333333333333,
              "#9c179e"
             ],
             [
              0.4444444444444444,
              "#bd3786"
             ],
             [
              0.5555555555555556,
              "#d8576b"
             ],
             [
              0.6666666666666666,
              "#ed7953"
             ],
             [
              0.7777777777777778,
              "#fb9f3a"
             ],
             [
              0.8888888888888888,
              "#fdca26"
             ],
             [
              1,
              "#f0f921"
             ]
            ],
            "type": "contour"
           }
          ],
          "contourcarpet": [
           {
            "colorbar": {
             "outlinewidth": 0,
             "ticks": ""
            },
            "type": "contourcarpet"
           }
          ],
          "heatmap": [
           {
            "colorbar": {
             "outlinewidth": 0,
             "ticks": ""
            },
            "colorscale": [
             [
              0,
              "#0d0887"
             ],
             [
              0.1111111111111111,
              "#46039f"
             ],
             [
              0.2222222222222222,
              "#7201a8"
             ],
             [
              0.3333333333333333,
              "#9c179e"
             ],
             [
              0.4444444444444444,
              "#bd3786"
             ],
             [
              0.5555555555555556,
              "#d8576b"
             ],
             [
              0.6666666666666666,
              "#ed7953"
             ],
             [
              0.7777777777777778,
              "#fb9f3a"
             ],
             [
              0.8888888888888888,
              "#fdca26"
             ],
             [
              1,
              "#f0f921"
             ]
            ],
            "type": "heatmap"
           }
          ],
          "heatmapgl": [
           {
            "colorbar": {
             "outlinewidth": 0,
             "ticks": ""
            },
            "colorscale": [
             [
              0,
              "#0d0887"
             ],
             [
              0.1111111111111111,
              "#46039f"
             ],
             [
              0.2222222222222222,
              "#7201a8"
             ],
             [
              0.3333333333333333,
              "#9c179e"
             ],
             [
              0.4444444444444444,
              "#bd3786"
             ],
             [
              0.5555555555555556,
              "#d8576b"
             ],
             [
              0.6666666666666666,
              "#ed7953"
             ],
             [
              0.7777777777777778,
              "#fb9f3a"
             ],
             [
              0.8888888888888888,
              "#fdca26"
             ],
             [
              1,
              "#f0f921"
             ]
            ],
            "type": "heatmapgl"
           }
          ],
          "histogram": [
           {
            "marker": {
             "colorbar": {
              "outlinewidth": 0,
              "ticks": ""
             }
            },
            "type": "histogram"
           }
          ],
          "histogram2d": [
           {
            "colorbar": {
             "outlinewidth": 0,
             "ticks": ""
            },
            "colorscale": [
             [
              0,
              "#0d0887"
             ],
             [
              0.1111111111111111,
              "#46039f"
             ],
             [
              0.2222222222222222,
              "#7201a8"
             ],
             [
              0.3333333333333333,
              "#9c179e"
             ],
             [
              0.4444444444444444,
              "#bd3786"
             ],
             [
              0.5555555555555556,
              "#d8576b"
             ],
             [
              0.6666666666666666,
              "#ed7953"
             ],
             [
              0.7777777777777778,
              "#fb9f3a"
             ],
             [
              0.8888888888888888,
              "#fdca26"
             ],
             [
              1,
              "#f0f921"
             ]
            ],
            "type": "histogram2d"
           }
          ],
          "histogram2dcontour": [
           {
            "colorbar": {
             "outlinewidth": 0,
             "ticks": ""
            },
            "colorscale": [
             [
              0,
              "#0d0887"
             ],
             [
              0.1111111111111111,
              "#46039f"
             ],
             [
              0.2222222222222222,
              "#7201a8"
             ],
             [
              0.3333333333333333,
              "#9c179e"
             ],
             [
              0.4444444444444444,
              "#bd3786"
             ],
             [
              0.5555555555555556,
              "#d8576b"
             ],
             [
              0.6666666666666666,
              "#ed7953"
             ],
             [
              0.7777777777777778,
              "#fb9f3a"
             ],
             [
              0.8888888888888888,
              "#fdca26"
             ],
             [
              1,
              "#f0f921"
             ]
            ],
            "type": "histogram2dcontour"
           }
          ],
          "mesh3d": [
           {
            "colorbar": {
             "outlinewidth": 0,
             "ticks": ""
            },
            "type": "mesh3d"
           }
          ],
          "parcoords": [
           {
            "line": {
             "colorbar": {
              "outlinewidth": 0,
              "ticks": ""
             }
            },
            "type": "parcoords"
           }
          ],
          "pie": [
           {
            "automargin": true,
            "type": "pie"
           }
          ],
          "scatter": [
           {
            "marker": {
             "colorbar": {
              "outlinewidth": 0,
              "ticks": ""
             }
            },
            "type": "scatter"
           }
          ],
          "scatter3d": [
           {
            "line": {
             "colorbar": {
              "outlinewidth": 0,
              "ticks": ""
             }
            },
            "marker": {
             "colorbar": {
              "outlinewidth": 0,
              "ticks": ""
             }
            },
            "type": "scatter3d"
           }
          ],
          "scattercarpet": [
           {
            "marker": {
             "colorbar": {
              "outlinewidth": 0,
              "ticks": ""
             }
            },
            "type": "scattercarpet"
           }
          ],
          "scattergeo": [
           {
            "marker": {
             "colorbar": {
              "outlinewidth": 0,
              "ticks": ""
             }
            },
            "type": "scattergeo"
           }
          ],
          "scattergl": [
           {
            "marker": {
             "colorbar": {
              "outlinewidth": 0,
              "ticks": ""
             }
            },
            "type": "scattergl"
           }
          ],
          "scattermapbox": [
           {
            "marker": {
             "colorbar": {
              "outlinewidth": 0,
              "ticks": ""
             }
            },
            "type": "scattermapbox"
           }
          ],
          "scatterpolar": [
           {
            "marker": {
             "colorbar": {
              "outlinewidth": 0,
              "ticks": ""
             }
            },
            "type": "scatterpolar"
           }
          ],
          "scatterpolargl": [
           {
            "marker": {
             "colorbar": {
              "outlinewidth": 0,
              "ticks": ""
             }
            },
            "type": "scatterpolargl"
           }
          ],
          "scatterternary": [
           {
            "marker": {
             "colorbar": {
              "outlinewidth": 0,
              "ticks": ""
             }
            },
            "type": "scatterternary"
           }
          ],
          "surface": [
           {
            "colorbar": {
             "outlinewidth": 0,
             "ticks": ""
            },
            "colorscale": [
             [
              0,
              "#0d0887"
             ],
             [
              0.1111111111111111,
              "#46039f"
             ],
             [
              0.2222222222222222,
              "#7201a8"
             ],
             [
              0.3333333333333333,
              "#9c179e"
             ],
             [
              0.4444444444444444,
              "#bd3786"
             ],
             [
              0.5555555555555556,
              "#d8576b"
             ],
             [
              0.6666666666666666,
              "#ed7953"
             ],
             [
              0.7777777777777778,
              "#fb9f3a"
             ],
             [
              0.8888888888888888,
              "#fdca26"
             ],
             [
              1,
              "#f0f921"
             ]
            ],
            "type": "surface"
           }
          ],
          "table": [
           {
            "cells": {
             "fill": {
              "color": "#EBF0F8"
             },
             "line": {
              "color": "white"
             }
            },
            "header": {
             "fill": {
              "color": "#C8D4E3"
             },
             "line": {
              "color": "white"
             }
            },
            "type": "table"
           }
          ]
         },
         "layout": {
          "annotationdefaults": {
           "arrowcolor": "#2a3f5f",
           "arrowhead": 0,
           "arrowwidth": 1
          },
          "coloraxis": {
           "colorbar": {
            "outlinewidth": 0,
            "ticks": ""
           }
          },
          "colorscale": {
           "diverging": [
            [
             0,
             "#8e0152"
            ],
            [
             0.1,
             "#c51b7d"
            ],
            [
             0.2,
             "#de77ae"
            ],
            [
             0.3,
             "#f1b6da"
            ],
            [
             0.4,
             "#fde0ef"
            ],
            [
             0.5,
             "#f7f7f7"
            ],
            [
             0.6,
             "#e6f5d0"
            ],
            [
             0.7,
             "#b8e186"
            ],
            [
             0.8,
             "#7fbc41"
            ],
            [
             0.9,
             "#4d9221"
            ],
            [
             1,
             "#276419"
            ]
           ],
           "sequential": [
            [
             0,
             "#0d0887"
            ],
            [
             0.1111111111111111,
             "#46039f"
            ],
            [
             0.2222222222222222,
             "#7201a8"
            ],
            [
             0.3333333333333333,
             "#9c179e"
            ],
            [
             0.4444444444444444,
             "#bd3786"
            ],
            [
             0.5555555555555556,
             "#d8576b"
            ],
            [
             0.6666666666666666,
             "#ed7953"
            ],
            [
             0.7777777777777778,
             "#fb9f3a"
            ],
            [
             0.8888888888888888,
             "#fdca26"
            ],
            [
             1,
             "#f0f921"
            ]
           ],
           "sequentialminus": [
            [
             0,
             "#0d0887"
            ],
            [
             0.1111111111111111,
             "#46039f"
            ],
            [
             0.2222222222222222,
             "#7201a8"
            ],
            [
             0.3333333333333333,
             "#9c179e"
            ],
            [
             0.4444444444444444,
             "#bd3786"
            ],
            [
             0.5555555555555556,
             "#d8576b"
            ],
            [
             0.6666666666666666,
             "#ed7953"
            ],
            [
             0.7777777777777778,
             "#fb9f3a"
            ],
            [
             0.8888888888888888,
             "#fdca26"
            ],
            [
             1,
             "#f0f921"
            ]
           ]
          },
          "colorway": [
           "#636efa",
           "#EF553B",
           "#00cc96",
           "#ab63fa",
           "#FFA15A",
           "#19d3f3",
           "#FF6692",
           "#B6E880",
           "#FF97FF",
           "#FECB52"
          ],
          "font": {
           "color": "#2a3f5f"
          },
          "geo": {
           "bgcolor": "white",
           "lakecolor": "white",
           "landcolor": "#E5ECF6",
           "showlakes": true,
           "showland": true,
           "subunitcolor": "white"
          },
          "hoverlabel": {
           "align": "left"
          },
          "hovermode": "closest",
          "mapbox": {
           "style": "light"
          },
          "paper_bgcolor": "white",
          "plot_bgcolor": "#E5ECF6",
          "polar": {
           "angularaxis": {
            "gridcolor": "white",
            "linecolor": "white",
            "ticks": ""
           },
           "bgcolor": "#E5ECF6",
           "radialaxis": {
            "gridcolor": "white",
            "linecolor": "white",
            "ticks": ""
           }
          },
          "scene": {
           "xaxis": {
            "backgroundcolor": "#E5ECF6",
            "gridcolor": "white",
            "gridwidth": 2,
            "linecolor": "white",
            "showbackground": true,
            "ticks": "",
            "zerolinecolor": "white"
           },
           "yaxis": {
            "backgroundcolor": "#E5ECF6",
            "gridcolor": "white",
            "gridwidth": 2,
            "linecolor": "white",
            "showbackground": true,
            "ticks": "",
            "zerolinecolor": "white"
           },
           "zaxis": {
            "backgroundcolor": "#E5ECF6",
            "gridcolor": "white",
            "gridwidth": 2,
            "linecolor": "white",
            "showbackground": true,
            "ticks": "",
            "zerolinecolor": "white"
           }
          },
          "shapedefaults": {
           "line": {
            "color": "#2a3f5f"
           }
          },
          "ternary": {
           "aaxis": {
            "gridcolor": "white",
            "linecolor": "white",
            "ticks": ""
           },
           "baxis": {
            "gridcolor": "white",
            "linecolor": "white",
            "ticks": ""
           },
           "bgcolor": "#E5ECF6",
           "caxis": {
            "gridcolor": "white",
            "linecolor": "white",
            "ticks": ""
           }
          },
          "title": {
           "x": 0.05
          },
          "xaxis": {
           "automargin": true,
           "gridcolor": "white",
           "linecolor": "white",
           "ticks": "",
           "title": {
            "standoff": 15
           },
           "zerolinecolor": "white",
           "zerolinewidth": 2
          },
          "yaxis": {
           "automargin": true,
           "gridcolor": "white",
           "linecolor": "white",
           "ticks": "",
           "title": {
            "standoff": 15
           },
           "zerolinecolor": "white",
           "zerolinewidth": 2
          }
         }
        },
        "title": {
         "text": "Scatter plot of unemployment rates in 2010"
        },
        "yaxis": {
         "gridwidth": 2,
         "ticklen": 5,
         "title": {
          "text": "Unemployment Rate"
         }
        }
       }
      },
      "text/html": [
       "<div>\n",
       "        \n",
       "        \n",
       "            <div id=\"e3ae41da-3731-4b92-a1cb-65d29abfaf18\" class=\"plotly-graph-div\" style=\"height:525px; width:100%;\"></div>\n",
       "            <script type=\"text/javascript\">\n",
       "                require([\"plotly\"], function(Plotly) {\n",
       "                    window.PLOTLYENV=window.PLOTLYENV || {};\n",
       "                    \n",
       "                if (document.getElementById(\"e3ae41da-3731-4b92-a1cb-65d29abfaf18\")) {\n",
       "                    Plotly.newPlot(\n",
       "                        'e3ae41da-3731-4b92-a1cb-65d29abfaf18',\n",
       "                        [{\"marker\": {\"color\": [20.6000003815, 10.800000190699999, 25.7999992371, 19.5, 38.2999992371, 11.399999618499999, 8.8000001907, 14.600000381500001, 10.800000190699999, 22.5, 2.0, 5.1999998093, 8.1999998093, 22.8999996185, 10.1999998093, 57.2000007629, 13.199999809300001, 20.8999996185, 6.0, 17.2000007629, 25.2999992371, 10.899999618499999, 8.3999996185, 33.0, 10.800000190699999, 14.800000190699999, 7.6999998092999995, 18.6000003815, 9.0, 6.400000095399999, 24.2999992371, 10.6000003815, 18.2000007629, 17.0, 6.099999904600001, 16.0, 18.5, 9.6999998093, 14.100000381500001, 25.2999992371, 22.2000007629, 11.300000190699999, 42.5, 33.2999992371, 7.400000095399999, 20.3999996185, 20.1000003815, 22.6000003815, 34.5, 19.6000003815, 36.7999992371, 11.399999618499999, 1.8999999762, 32.4000015259, 5.6999998092999995, 23.2999992371, 9.1000003815, 33.5, 19.2999992371, 26.6000003815, 25.0, 10.1999998093, 28.0, 32.2999992371, 16.1000003815, 13.600000381500001, 27.7999992371, 30.0, 30.1000003815, 9.1000003815, 6.0, 17.1000003815, 0.8999999762, 9.6999998093, 10.6000003815, 20.8999996185, 5.0, 43.7999992371, 18.7999992371, 35.5999984741, 35.2000007629, 14.5, 34.9000015259, 17.7000007629, 17.7000007629, 6.1999998092999995, 25.3999996185, 9.3999996185, 10.3000001907, 13.199999809300001, 9.3999996185, 46.0, 14.100000381500001, 40.7000007629, 46.7000007629, 23.1000003815, 13.800000190699999, 11.0, 18.3279230855, 44.0999984741, 7.1999998092999995, 13.800000190699999, 12.300000190699999, 8.8000001907, 9.1999998093, 4.0, 19.2999992371, 8.1999998093, 14.899999618499999, 9.0, 16.7999992371, 5.400000095399999, 23.3999996185, 30.6000003815, 22.2999992371, 11.899999618499999, 1.5, 22.2999992371, 16.7999992371, 0.6999999881, 29.7999992371, 22.7999992371, 13.0, 9.8999996185, 9.1000003815, 5.0999999046, 13.0, 10.5, 45.5, 14.600000381500001, 25.2000007629, 42.0, 19.2999992371, 10.3999996185, 10.800000190699999, 4.0, 17.2999992371, 20.6000003815, 13.100000381500001, 14.0, 29.3999996185, 21.2000007629, 5.599999904600001, 7.400000095399999, 17.3999996185, 20.7999992371, 18.7000007629, 20.6000003815, 17.5, 6.099999904600001, 30.2999992371, 50.7999992371, 12.300000190699999, 26.3999996185, 9.6000003815], \"colorscale\": [[0.0, \"rgb(12,51,131)\"], [0.25, \"rgb(10,136,186)\"], [0.5, \"rgb(242,211,56)\"], [0.75, \"rgb(242,143,56)\"], [1.0, \"rgb(217,30,30)\"]], \"showscale\": true, \"size\": [20.6000003815, 10.800000190699999, 25.7999992371, 19.5, 38.2999992371, 11.399999618499999, 8.8000001907, 14.600000381500001, 10.800000190699999, 22.5, 2.0, 5.1999998093, 8.1999998093, 22.8999996185, 10.1999998093, 57.2000007629, 13.199999809300001, 20.8999996185, 6.0, 17.2000007629, 25.2999992371, 10.899999618499999, 8.3999996185, 33.0, 10.800000190699999, 14.800000190699999, 7.6999998092999995, 18.6000003815, 9.0, 6.400000095399999, 24.2999992371, 10.6000003815, 18.2000007629, 17.0, 6.099999904600001, 16.0, 18.5, 9.6999998093, 14.100000381500001, 25.2999992371, 22.2000007629, 11.300000190699999, 42.5, 33.2999992371, 7.400000095399999, 20.3999996185, 20.1000003815, 22.6000003815, 34.5, 19.6000003815, 36.7999992371, 11.399999618499999, 1.8999999762, 32.4000015259, 5.6999998092999995, 23.2999992371, 9.1000003815, 33.5, 19.2999992371, 26.6000003815, 25.0, 10.1999998093, 28.0, 32.2999992371, 16.1000003815, 13.600000381500001, 27.7999992371, 30.0, 30.1000003815, 9.1000003815, 6.0, 17.1000003815, 0.8999999762, 9.6999998093, 10.6000003815, 20.8999996185, 5.0, 43.7999992371, 18.7999992371, 35.5999984741, 35.2000007629, 14.5, 34.9000015259, 17.7000007629, 17.7000007629, 6.1999998092999995, 25.3999996185, 9.3999996185, 10.3000001907, 13.199999809300001, 9.3999996185, 46.0, 14.100000381500001, 40.7000007629, 46.7000007629, 23.1000003815, 13.800000190699999, 11.0, 18.3279230855, 44.0999984741, 7.1999998092999995, 13.800000190699999, 12.300000190699999, 8.8000001907, 9.1999998093, 4.0, 19.2999992371, 8.1999998093, 14.899999618499999, 9.0, 16.7999992371, 5.400000095399999, 23.3999996185, 30.6000003815, 22.2999992371, 11.899999618499999, 1.5, 22.2999992371, 16.7999992371, 0.6999999881, 29.7999992371, 22.7999992371, 13.0, 9.8999996185, 9.1000003815, 5.0999999046, 13.0, 10.5, 45.5, 14.600000381500001, 25.2000007629, 42.0, 19.2999992371, 10.3999996185, 10.800000190699999, 4.0, 17.2999992371, 20.6000003815, 13.100000381500001, 14.0, 29.3999996185, 21.2000007629, 5.599999904600001, 7.400000095399999, 17.3999996185, 20.7999992371, 18.7000007629, 20.6000003815, 17.5, 6.099999904600001, 30.2999992371, 50.7999992371, 12.300000190699999, 26.3999996185, 9.6000003815]}, \"mode\": \"markers\", \"text\": [\"Afghanistan\", \"Angola\", \"Albania\", \"Argentina\", \"Armenia\", \"Australia\", \"Austria\", \"Azerbaijan\", \"Burundi\", \"Belgium\", \"Benin\", \"Burkina Faso\", \"Bangladesh\", \"Bulgaria\", \"Bahrain\", \"Bosnia and Herzegovina\", \"Belarus\", \"Belize\", \"Bolivia\", \"Brazil\", \"Barbados\", \"Brunei Darussalam\", \"Bhutan\", \"Botswana\", \"Central African Republic\", \"Canada\", \"Switzerland\", \"Chile\", \"China\", \"Cameroon\", \"Colombia\", \"Comoros\", \"Cabo Verde\", \"Costa Rica\", \"Cuba\", \"Cyprus\", \"Czech Republic\", \"Germany\", \"Denmark\", \"Dominican Republic\", \"Algeria\", \"Ecuador\", \"Spain\", \"Estonia\", \"Ethiopia\", \"Finland\", \"Fiji\", \"France\", \"Gabon\", \"United Kingdom\", \"Georgia\", \"Ghana\", \"Guinea\", \"Greece\", \"Guatemala\", \"Guyana\", \"Honduras\", \"Croatia\", \"Haiti\", \"Hungary\", \"Indonesia\", \"India\", \"Ireland\", \"Iraq\", \"Iceland\", \"Israel\", \"Italy\", \"Jamaica\", \"Jordan\", \"Japan\", \"Kazakhstan\", \"Kenya\", \"Cambodia\", \"Korea, Rep.\", \"Kuwait\", \"Lebanon\", \"Liberia\", \"Libya\", \"Sri Lanka\", \"Lesotho\", \"Lithuania\", \"Luxembourg\", \"Latvia\", \"Morocco\", \"Moldova\", \"Madagascar\", \"Maldives\", \"Mexico\", \"Mali\", \"Malta\", \"Myanmar\", \"Montenegro\", \"Mongolia\", \"Mozambique\", \"Mauritania\", \"Mauritius\", \"Malawi\", \"Malaysia\", \"North America\", \"Namibia\", \"Niger\", \"Nigeria\", \"Nicaragua\", \"Netherlands\", \"Norway\", \"Nepal\", \"Oman\", \"Pakistan\", \"Panama\", \"Peru\", \"Philippines\", \"Papua New Guinea\", \"Poland\", \"Puerto Rico\", \"Portugal\", \"Paraguay\", \"Qatar\", \"Romania\", \"Russian Federation\", \"Rwanda\", \"Saudi Arabia\", \"Sudan\", \"Senegal\", \"Singapore\", \"Solomon Islands\", \"Sierra Leone\", \"El Salvador\", \"Somalia\", \"Serbia\", \"Slovenia\", \"Sweden\", \"Swaziland\", \"Syrian Arab Republic\", \"Chad\", \"Togo\", \"Thailand\", \"Tajikistan\", \"Turkmenistan\", \"Timor-Leste\", \"Trinidad and Tobago\", \"Tunisia\", \"Turkey\", \"Tanzania\", \"Uganda\", \"Ukraine\", \"Uruguay\", \"United States\", \"Uzbekistan\", \"Venezuela, RB\", \"Vietnam\", \"Yemen, Rep.\", \"South Africa\", \"Congo, Dem. Rep.\", \"Zambia\", \"Zimbabwe\"], \"type\": \"scatter\", \"y\": [20.6000003815, 10.800000190699999, 25.7999992371, 19.5, 38.2999992371, 11.399999618499999, 8.8000001907, 14.600000381500001, 10.800000190699999, 22.5, 2.0, 5.1999998093, 8.1999998093, 22.8999996185, 10.1999998093, 57.2000007629, 13.199999809300001, 20.8999996185, 6.0, 17.2000007629, 25.2999992371, 10.899999618499999, 8.3999996185, 33.0, 10.800000190699999, 14.800000190699999, 7.6999998092999995, 18.6000003815, 9.0, 6.400000095399999, 24.2999992371, 10.6000003815, 18.2000007629, 17.0, 6.099999904600001, 16.0, 18.5, 9.6999998093, 14.100000381500001, 25.2999992371, 22.2000007629, 11.300000190699999, 42.5, 33.2999992371, 7.400000095399999, 20.3999996185, 20.1000003815, 22.6000003815, 34.5, 19.6000003815, 36.7999992371, 11.399999618499999, 1.8999999762, 32.4000015259, 5.6999998092999995, 23.2999992371, 9.1000003815, 33.5, 19.2999992371, 26.6000003815, 25.0, 10.1999998093, 28.0, 32.2999992371, 16.1000003815, 13.600000381500001, 27.7999992371, 30.0, 30.1000003815, 9.1000003815, 6.0, 17.1000003815, 0.8999999762, 9.6999998093, 10.6000003815, 20.8999996185, 5.0, 43.7999992371, 18.7999992371, 35.5999984741, 35.2000007629, 14.5, 34.9000015259, 17.7000007629, 17.7000007629, 6.1999998092999995, 25.3999996185, 9.3999996185, 10.3000001907, 13.199999809300001, 9.3999996185, 46.0, 14.100000381500001, 40.7000007629, 46.7000007629, 23.1000003815, 13.800000190699999, 11.0, 18.3279230855, 44.0999984741, 7.1999998092999995, 13.800000190699999, 12.300000190699999, 8.8000001907, 9.1999998093, 4.0, 19.2999992371, 8.1999998093, 14.899999618499999, 9.0, 16.7999992371, 5.400000095399999, 23.3999996185, 30.6000003815, 22.2999992371, 11.899999618499999, 1.5, 22.2999992371, 16.7999992371, 0.6999999881, 29.7999992371, 22.7999992371, 13.0, 9.8999996185, 9.1000003815, 5.0999999046, 13.0, 10.5, 45.5, 14.600000381500001, 25.2000007629, 42.0, 19.2999992371, 10.3999996185, 10.800000190699999, 4.0, 17.2999992371, 20.6000003815, 13.100000381500001, 14.0, 29.3999996185, 21.2000007629, 5.599999904600001, 7.400000095399999, 17.3999996185, 20.7999992371, 18.7000007629, 20.6000003815, 17.5, 6.099999904600001, 30.2999992371, 50.7999992371, 12.300000190699999, 26.3999996185, 9.6000003815]}],\n",
       "                        {\"autosize\": true, \"hovermode\": \"closest\", \"showlegend\": false, \"template\": {\"data\": {\"bar\": [{\"error_x\": {\"color\": \"#2a3f5f\"}, \"error_y\": {\"color\": \"#2a3f5f\"}, \"marker\": {\"line\": {\"color\": \"#E5ECF6\", \"width\": 0.5}}, \"type\": \"bar\"}], \"barpolar\": [{\"marker\": {\"line\": {\"color\": \"#E5ECF6\", \"width\": 0.5}}, \"type\": \"barpolar\"}], \"carpet\": [{\"aaxis\": {\"endlinecolor\": \"#2a3f5f\", \"gridcolor\": \"white\", \"linecolor\": \"white\", \"minorgridcolor\": \"white\", \"startlinecolor\": \"#2a3f5f\"}, \"baxis\": {\"endlinecolor\": \"#2a3f5f\", \"gridcolor\": \"white\", \"linecolor\": \"white\", \"minorgridcolor\": \"white\", \"startlinecolor\": \"#2a3f5f\"}, \"type\": \"carpet\"}], \"choropleth\": [{\"colorbar\": {\"outlinewidth\": 0, \"ticks\": \"\"}, \"type\": \"choropleth\"}], \"contour\": [{\"colorbar\": {\"outlinewidth\": 0, \"ticks\": \"\"}, \"colorscale\": [[0.0, \"#0d0887\"], [0.1111111111111111, \"#46039f\"], [0.2222222222222222, \"#7201a8\"], [0.3333333333333333, \"#9c179e\"], [0.4444444444444444, \"#bd3786\"], [0.5555555555555556, \"#d8576b\"], [0.6666666666666666, \"#ed7953\"], [0.7777777777777778, \"#fb9f3a\"], [0.8888888888888888, \"#fdca26\"], [1.0, \"#f0f921\"]], \"type\": \"contour\"}], \"contourcarpet\": [{\"colorbar\": {\"outlinewidth\": 0, \"ticks\": \"\"}, \"type\": \"contourcarpet\"}], \"heatmap\": [{\"colorbar\": {\"outlinewidth\": 0, \"ticks\": \"\"}, \"colorscale\": [[0.0, \"#0d0887\"], [0.1111111111111111, \"#46039f\"], [0.2222222222222222, \"#7201a8\"], [0.3333333333333333, \"#9c179e\"], [0.4444444444444444, \"#bd3786\"], [0.5555555555555556, \"#d8576b\"], [0.6666666666666666, \"#ed7953\"], [0.7777777777777778, \"#fb9f3a\"], [0.8888888888888888, \"#fdca26\"], [1.0, \"#f0f921\"]], \"type\": \"heatmap\"}], \"heatmapgl\": [{\"colorbar\": {\"outlinewidth\": 0, \"ticks\": \"\"}, \"colorscale\": [[0.0, \"#0d0887\"], [0.1111111111111111, \"#46039f\"], [0.2222222222222222, \"#7201a8\"], [0.3333333333333333, \"#9c179e\"], [0.4444444444444444, \"#bd3786\"], [0.5555555555555556, \"#d8576b\"], [0.6666666666666666, \"#ed7953\"], [0.7777777777777778, \"#fb9f3a\"], [0.8888888888888888, \"#fdca26\"], [1.0, \"#f0f921\"]], \"type\": \"heatmapgl\"}], \"histogram\": [{\"marker\": {\"colorbar\": {\"outlinewidth\": 0, \"ticks\": \"\"}}, \"type\": \"histogram\"}], \"histogram2d\": [{\"colorbar\": {\"outlinewidth\": 0, \"ticks\": \"\"}, \"colorscale\": [[0.0, \"#0d0887\"], [0.1111111111111111, \"#46039f\"], [0.2222222222222222, \"#7201a8\"], [0.3333333333333333, \"#9c179e\"], [0.4444444444444444, \"#bd3786\"], [0.5555555555555556, \"#d8576b\"], [0.6666666666666666, \"#ed7953\"], [0.7777777777777778, \"#fb9f3a\"], [0.8888888888888888, \"#fdca26\"], [1.0, \"#f0f921\"]], \"type\": \"histogram2d\"}], \"histogram2dcontour\": [{\"colorbar\": {\"outlinewidth\": 0, \"ticks\": \"\"}, \"colorscale\": [[0.0, \"#0d0887\"], [0.1111111111111111, \"#46039f\"], [0.2222222222222222, \"#7201a8\"], [0.3333333333333333, \"#9c179e\"], [0.4444444444444444, \"#bd3786\"], [0.5555555555555556, \"#d8576b\"], [0.6666666666666666, \"#ed7953\"], [0.7777777777777778, \"#fb9f3a\"], [0.8888888888888888, \"#fdca26\"], [1.0, \"#f0f921\"]], \"type\": \"histogram2dcontour\"}], \"mesh3d\": [{\"colorbar\": {\"outlinewidth\": 0, \"ticks\": \"\"}, \"type\": \"mesh3d\"}], \"parcoords\": [{\"line\": {\"colorbar\": {\"outlinewidth\": 0, \"ticks\": \"\"}}, \"type\": \"parcoords\"}], \"pie\": [{\"automargin\": true, \"type\": \"pie\"}], \"scatter\": [{\"marker\": {\"colorbar\": {\"outlinewidth\": 0, \"ticks\": \"\"}}, \"type\": \"scatter\"}], \"scatter3d\": [{\"line\": {\"colorbar\": {\"outlinewidth\": 0, \"ticks\": \"\"}}, \"marker\": {\"colorbar\": {\"outlinewidth\": 0, \"ticks\": \"\"}}, \"type\": \"scatter3d\"}], \"scattercarpet\": [{\"marker\": {\"colorbar\": {\"outlinewidth\": 0, \"ticks\": \"\"}}, \"type\": \"scattercarpet\"}], \"scattergeo\": [{\"marker\": {\"colorbar\": {\"outlinewidth\": 0, \"ticks\": \"\"}}, \"type\": \"scattergeo\"}], \"scattergl\": [{\"marker\": {\"colorbar\": {\"outlinewidth\": 0, \"ticks\": \"\"}}, \"type\": \"scattergl\"}], \"scattermapbox\": [{\"marker\": {\"colorbar\": {\"outlinewidth\": 0, \"ticks\": \"\"}}, \"type\": \"scattermapbox\"}], \"scatterpolar\": [{\"marker\": {\"colorbar\": {\"outlinewidth\": 0, \"ticks\": \"\"}}, \"type\": \"scatterpolar\"}], \"scatterpolargl\": [{\"marker\": {\"colorbar\": {\"outlinewidth\": 0, \"ticks\": \"\"}}, \"type\": \"scatterpolargl\"}], \"scatterternary\": [{\"marker\": {\"colorbar\": {\"outlinewidth\": 0, \"ticks\": \"\"}}, \"type\": \"scatterternary\"}], \"surface\": [{\"colorbar\": {\"outlinewidth\": 0, \"ticks\": \"\"}, \"colorscale\": [[0.0, \"#0d0887\"], [0.1111111111111111, \"#46039f\"], [0.2222222222222222, \"#7201a8\"], [0.3333333333333333, \"#9c179e\"], [0.4444444444444444, \"#bd3786\"], [0.5555555555555556, \"#d8576b\"], [0.6666666666666666, \"#ed7953\"], [0.7777777777777778, \"#fb9f3a\"], [0.8888888888888888, \"#fdca26\"], [1.0, \"#f0f921\"]], \"type\": \"surface\"}], \"table\": [{\"cells\": {\"fill\": {\"color\": \"#EBF0F8\"}, \"line\": {\"color\": \"white\"}}, \"header\": {\"fill\": {\"color\": \"#C8D4E3\"}, \"line\": {\"color\": \"white\"}}, \"type\": \"table\"}]}, \"layout\": {\"annotationdefaults\": {\"arrowcolor\": \"#2a3f5f\", \"arrowhead\": 0, \"arrowwidth\": 1}, \"coloraxis\": {\"colorbar\": {\"outlinewidth\": 0, \"ticks\": \"\"}}, \"colorscale\": {\"diverging\": [[0, \"#8e0152\"], [0.1, \"#c51b7d\"], [0.2, \"#de77ae\"], [0.3, \"#f1b6da\"], [0.4, \"#fde0ef\"], [0.5, \"#f7f7f7\"], [0.6, \"#e6f5d0\"], [0.7, \"#b8e186\"], [0.8, \"#7fbc41\"], [0.9, \"#4d9221\"], [1, \"#276419\"]], \"sequential\": [[0.0, \"#0d0887\"], [0.1111111111111111, \"#46039f\"], [0.2222222222222222, \"#7201a8\"], [0.3333333333333333, \"#9c179e\"], [0.4444444444444444, \"#bd3786\"], [0.5555555555555556, \"#d8576b\"], [0.6666666666666666, \"#ed7953\"], [0.7777777777777778, \"#fb9f3a\"], [0.8888888888888888, \"#fdca26\"], [1.0, \"#f0f921\"]], \"sequentialminus\": [[0.0, \"#0d0887\"], [0.1111111111111111, \"#46039f\"], [0.2222222222222222, \"#7201a8\"], [0.3333333333333333, \"#9c179e\"], [0.4444444444444444, \"#bd3786\"], [0.5555555555555556, \"#d8576b\"], [0.6666666666666666, \"#ed7953\"], [0.7777777777777778, \"#fb9f3a\"], [0.8888888888888888, \"#fdca26\"], [1.0, \"#f0f921\"]]}, \"colorway\": [\"#636efa\", \"#EF553B\", \"#00cc96\", \"#ab63fa\", \"#FFA15A\", \"#19d3f3\", \"#FF6692\", \"#B6E880\", \"#FF97FF\", \"#FECB52\"], \"font\": {\"color\": \"#2a3f5f\"}, \"geo\": {\"bgcolor\": \"white\", \"lakecolor\": \"white\", \"landcolor\": \"#E5ECF6\", \"showlakes\": true, \"showland\": true, \"subunitcolor\": \"white\"}, \"hoverlabel\": {\"align\": \"left\"}, \"hovermode\": \"closest\", \"mapbox\": {\"style\": \"light\"}, \"paper_bgcolor\": \"white\", \"plot_bgcolor\": \"#E5ECF6\", \"polar\": {\"angularaxis\": {\"gridcolor\": \"white\", \"linecolor\": \"white\", \"ticks\": \"\"}, \"bgcolor\": \"#E5ECF6\", \"radialaxis\": {\"gridcolor\": \"white\", \"linecolor\": \"white\", \"ticks\": \"\"}}, \"scene\": {\"xaxis\": {\"backgroundcolor\": \"#E5ECF6\", \"gridcolor\": \"white\", \"gridwidth\": 2, \"linecolor\": \"white\", \"showbackground\": true, \"ticks\": \"\", \"zerolinecolor\": \"white\"}, \"yaxis\": {\"backgroundcolor\": \"#E5ECF6\", \"gridcolor\": \"white\", \"gridwidth\": 2, \"linecolor\": \"white\", \"showbackground\": true, \"ticks\": \"\", \"zerolinecolor\": \"white\"}, \"zaxis\": {\"backgroundcolor\": \"#E5ECF6\", \"gridcolor\": \"white\", \"gridwidth\": 2, \"linecolor\": \"white\", \"showbackground\": true, \"ticks\": \"\", \"zerolinecolor\": \"white\"}}, \"shapedefaults\": {\"line\": {\"color\": \"#2a3f5f\"}}, \"ternary\": {\"aaxis\": {\"gridcolor\": \"white\", \"linecolor\": \"white\", \"ticks\": \"\"}, \"baxis\": {\"gridcolor\": \"white\", \"linecolor\": \"white\", \"ticks\": \"\"}, \"bgcolor\": \"#E5ECF6\", \"caxis\": {\"gridcolor\": \"white\", \"linecolor\": \"white\", \"ticks\": \"\"}}, \"title\": {\"x\": 0.05}, \"xaxis\": {\"automargin\": true, \"gridcolor\": \"white\", \"linecolor\": \"white\", \"ticks\": \"\", \"title\": {\"standoff\": 15}, \"zerolinecolor\": \"white\", \"zerolinewidth\": 2}, \"yaxis\": {\"automargin\": true, \"gridcolor\": \"white\", \"linecolor\": \"white\", \"ticks\": \"\", \"title\": {\"standoff\": 15}, \"zerolinecolor\": \"white\", \"zerolinewidth\": 2}}}, \"title\": {\"text\": \"Scatter plot of unemployment rates in 2010\"}, \"yaxis\": {\"gridwidth\": 2, \"ticklen\": 5, \"title\": {\"text\": \"Unemployment Rate\"}}},\n",
       "                        {\"responsive\": true}\n",
       "                    ).then(function(){\n",
       "                            \n",
       "var gd = document.getElementById('e3ae41da-3731-4b92-a1cb-65d29abfaf18');\n",
       "var x = new MutationObserver(function (mutations, observer) {{\n",
       "        var display = window.getComputedStyle(gd).display;\n",
       "        if (!display || display === 'none') {{\n",
       "            console.log([gd, 'removed!']);\n",
       "            Plotly.purge(gd);\n",
       "            observer.disconnect();\n",
       "        }}\n",
       "}});\n",
       "\n",
       "// Listen for the removal of the full notebook cells\n",
       "var notebookContainer = gd.closest('#notebook-container');\n",
       "if (notebookContainer) {{\n",
       "    x.observe(notebookContainer, {childList: true});\n",
       "}}\n",
       "\n",
       "// Listen for the clearing of the current output cell\n",
       "var outputEl = gd.closest('.output');\n",
       "if (outputEl) {{\n",
       "    x.observe(outputEl, {childList: true});\n",
       "}}\n",
       "\n",
       "                        })\n",
       "                };\n",
       "                });\n",
       "            </script>\n",
       "        </div>"
      ]
     },
     "metadata": {},
     "output_type": "display_data"
    },
    {
     "data": {
      "application/vnd.plotly.v1+json": {
       "config": {
        "linkText": "Export to plot.ly",
        "plotlyServerURL": "https://plot.ly",
        "showLink": false
       },
       "data": [
        {
         "marker": {
          "color": [
           20.7999992371,
           10.5,
           29.2000007629,
           21.2999992371,
           35.0999984741,
           13.100000381500001,
           9.1999998093,
           13.600000381500001,
           10.6999998093,
           23.6000003815,
           1.7000000477000001,
           5,
           9.1000003815,
           25.8999996185,
           10.899999618499999,
           57.5,
           12,
           22,
           5.1999998093,
           15.199999809300001,
           26.7999992371,
           11.100000381500001,
           10,
           33.9000015259,
           11.899999618499999,
           13.399999618499999,
           8.6999998093,
           16.3999996185,
           10.5,
           6.6999998092999995,
           18.8999996185,
           10.6000003815,
           18.7999992371,
           19.2000007629,
           7.099999904600001,
           35.7000007629,
           16.7000007629,
           7.599999904600001,
           12.399999618499999,
           31.3999996185,
           20,
           10.800000190699999,
           57.9000015259,
           17,
           7.099999904600001,
           19.2000007629,
           18.6000003815,
           23.8999996185,
           35.5,
           16.7000007629,
           34.0999984741,
           3.2999999523000003,
           1.7000000477000001,
           53.9000015259,
           5.400000095399999,
           23.7999992371,
           6.900000095399999,
           45.9000015259,
           17.1000003815,
           21,
           21.7999992371,
           10.3999996185,
           25.7999992371,
           34.5999984741,
           10.899999618499999,
           11,
           44.0999984741,
           30.5,
           28.7999992371,
           6.5,
           3.5,
           17.3999996185,
           0.8999999762,
           10.3999996185,
           19.3999996185,
           20.7000007629,
           4.5999999046,
           48.9000015259,
           19.1000003815,
           33,
           21.5,
           16,
           19.2999992371,
           20.2000007629,
           8.5,
           5.1999998093,
           26.8999996185,
           9.8999996185,
           10.5,
           13.600000381500001,
           9.5,
           39.5,
           9.3000001907,
           40.7000007629,
           46.5999984741,
           21.2000007629,
           13.800000190699999,
           6.6999998092999995,
           13.9430995948,
           38.7000007629,
           7.099999904600001,
           13.600000381500001,
           7.599999904600001,
           11.100000381500001,
           8.3999996185,
           4,
           18.7999992371,
           8.6000003815,
           11,
           9.1999998093,
           16.3999996185,
           5.400000095399999,
           24,
           27.7999992371,
           36.7999992371,
           9.3000001907,
           1.2999999523,
           25.1000003815,
           12.899999618499999,
           0.6999999881,
           29.5,
           23.2999992371,
           13,
           9.6000003815,
           9.5,
           4.9000000954,
           11.699999809300001,
           10.6000003815,
           49.5,
           20.7999992371,
           22.7999992371,
           42.5999984741,
           30.1000003815,
           10.5,
           10.6999998093,
           3.9000000954000003,
           15.5,
           20.2000007629,
           14,
           10.6000003815,
           31.7999992371,
           17.7000007629,
           5.5,
           6.8000001907000005,
           16.8999996185,
           19.1000003815,
           14,
           20.2999992371,
           17.1000003815,
           6.3000001907000005,
           29.8999996185,
           52.5999984741,
           11.899999618499999,
           25.1000003815,
           9.3999996185
          ],
          "colorscale": [
           [
            0,
            "rgb(12,51,131)"
           ],
           [
            0.25,
            "rgb(10,136,186)"
           ],
           [
            0.5,
            "rgb(242,211,56)"
           ],
           [
            0.75,
            "rgb(242,143,56)"
           ],
           [
            1,
            "rgb(217,30,30)"
           ]
          ],
          "showscale": true,
          "size": [
           20.7999992371,
           10.5,
           29.2000007629,
           21.2999992371,
           35.0999984741,
           13.100000381500001,
           9.1999998093,
           13.600000381500001,
           10.6999998093,
           23.6000003815,
           1.7000000477000001,
           5,
           9.1000003815,
           25.8999996185,
           10.899999618499999,
           57.5,
           12,
           22,
           5.1999998093,
           15.199999809300001,
           26.7999992371,
           11.100000381500001,
           10,
           33.9000015259,
           11.899999618499999,
           13.399999618499999,
           8.6999998093,
           16.3999996185,
           10.5,
           6.6999998092999995,
           18.8999996185,
           10.6000003815,
           18.7999992371,
           19.2000007629,
           7.099999904600001,
           35.7000007629,
           16.7000007629,
           7.599999904600001,
           12.399999618499999,
           31.3999996185,
           20,
           10.800000190699999,
           57.9000015259,
           17,
           7.099999904600001,
           19.2000007629,
           18.6000003815,
           23.8999996185,
           35.5,
           16.7000007629,
           34.0999984741,
           3.2999999523000003,
           1.7000000477000001,
           53.9000015259,
           5.400000095399999,
           23.7999992371,
           6.900000095399999,
           45.9000015259,
           17.1000003815,
           21,
           21.7999992371,
           10.3999996185,
           25.7999992371,
           34.5999984741,
           10.899999618499999,
           11,
           44.0999984741,
           30.5,
           28.7999992371,
           6.5,
           3.5,
           17.3999996185,
           0.8999999762,
           10.3999996185,
           19.3999996185,
           20.7000007629,
           4.5999999046,
           48.9000015259,
           19.1000003815,
           33,
           21.5,
           16,
           19.2999992371,
           20.2000007629,
           8.5,
           5.1999998093,
           26.8999996185,
           9.8999996185,
           10.5,
           13.600000381500001,
           9.5,
           39.5,
           9.3000001907,
           40.7000007629,
           46.5999984741,
           21.2000007629,
           13.800000190699999,
           6.6999998092999995,
           13.9430995948,
           38.7000007629,
           7.099999904600001,
           13.600000381500001,
           7.599999904600001,
           11.100000381500001,
           8.3999996185,
           4,
           18.7999992371,
           8.6000003815,
           11,
           9.1999998093,
           16.3999996185,
           5.400000095399999,
           24,
           27.7999992371,
           36.7999992371,
           9.3000001907,
           1.2999999523,
           25.1000003815,
           12.899999618499999,
           0.6999999881,
           29.5,
           23.2999992371,
           13,
           9.6000003815,
           9.5,
           4.9000000954,
           11.699999809300001,
           10.6000003815,
           49.5,
           20.7999992371,
           22.7999992371,
           42.5999984741,
           30.1000003815,
           10.5,
           10.6999998093,
           3.9000000954000003,
           15.5,
           20.2000007629,
           14,
           10.6000003815,
           31.7999992371,
           17.7000007629,
           5.5,
           6.8000001907000005,
           16.8999996185,
           19.1000003815,
           14,
           20.2999992371,
           17.1000003815,
           6.3000001907000005,
           29.8999996185,
           52.5999984741,
           11.899999618499999,
           25.1000003815,
           9.3999996185
          ]
         },
         "mode": "markers",
         "text": [
          "Afghanistan",
          "Angola",
          "Albania",
          "Argentina",
          "Armenia",
          "Australia",
          "Austria",
          "Azerbaijan",
          "Burundi",
          "Belgium",
          "Benin",
          "Burkina Faso",
          "Bangladesh",
          "Bulgaria",
          "Bahrain",
          "Bosnia and Herzegovina",
          "Belarus",
          "Belize",
          "Bolivia",
          "Brazil",
          "Barbados",
          "Brunei Darussalam",
          "Bhutan",
          "Botswana",
          "Central African Republic",
          "Canada",
          "Switzerland",
          "Chile",
          "China",
          "Cameroon",
          "Colombia",
          "Comoros",
          "Cabo Verde",
          "Costa Rica",
          "Cuba",
          "Cyprus",
          "Czech Republic",
          "Germany",
          "Denmark",
          "Dominican Republic",
          "Algeria",
          "Ecuador",
          "Spain",
          "Estonia",
          "Ethiopia",
          "Finland",
          "Fiji",
          "France",
          "Gabon",
          "United Kingdom",
          "Georgia",
          "Ghana",
          "Guinea",
          "Greece",
          "Guatemala",
          "Guyana",
          "Honduras",
          "Croatia",
          "Haiti",
          "Hungary",
          "Indonesia",
          "India",
          "Ireland",
          "Iraq",
          "Iceland",
          "Israel",
          "Italy",
          "Jamaica",
          "Jordan",
          "Japan",
          "Kazakhstan",
          "Kenya",
          "Cambodia",
          "Korea, Rep.",
          "Kuwait",
          "Lebanon",
          "Liberia",
          "Libya",
          "Sri Lanka",
          "Lesotho",
          "Lithuania",
          "Luxembourg",
          "Latvia",
          "Morocco",
          "Moldova",
          "Madagascar",
          "Maldives",
          "Mexico",
          "Mali",
          "Malta",
          "Myanmar",
          "Montenegro",
          "Mongolia",
          "Mozambique",
          "Mauritania",
          "Mauritius",
          "Malawi",
          "Malaysia",
          "North America",
          "Namibia",
          "Niger",
          "Nigeria",
          "Nicaragua",
          "Netherlands",
          "Norway",
          "Nepal",
          "Oman",
          "Pakistan",
          "Panama",
          "Peru",
          "Philippines",
          "Papua New Guinea",
          "Poland",
          "Puerto Rico",
          "Portugal",
          "Paraguay",
          "Qatar",
          "Romania",
          "Russian Federation",
          "Rwanda",
          "Saudi Arabia",
          "Sudan",
          "Senegal",
          "Singapore",
          "Solomon Islands",
          "Sierra Leone",
          "El Salvador",
          "Somalia",
          "Serbia",
          "Slovenia",
          "Sweden",
          "Swaziland",
          "Syrian Arab Republic",
          "Chad",
          "Togo",
          "Thailand",
          "Tajikistan",
          "Turkmenistan",
          "Timor-Leste",
          "Trinidad and Tobago",
          "Tunisia",
          "Turkey",
          "Tanzania",
          "Uganda",
          "Ukraine",
          "Uruguay",
          "United States",
          "Uzbekistan",
          "Venezuela, RB",
          "Vietnam",
          "Yemen, Rep.",
          "South Africa",
          "Congo, Dem. Rep.",
          "Zambia",
          "Zimbabwe"
         ],
         "type": "scatter",
         "y": [
          20.7999992371,
          10.5,
          29.2000007629,
          21.2999992371,
          35.0999984741,
          13.100000381500001,
          9.1999998093,
          13.600000381500001,
          10.6999998093,
          23.6000003815,
          1.7000000477000001,
          5,
          9.1000003815,
          25.8999996185,
          10.899999618499999,
          57.5,
          12,
          22,
          5.1999998093,
          15.199999809300001,
          26.7999992371,
          11.100000381500001,
          10,
          33.9000015259,
          11.899999618499999,
          13.399999618499999,
          8.6999998093,
          16.3999996185,
          10.5,
          6.6999998092999995,
          18.8999996185,
          10.6000003815,
          18.7999992371,
          19.2000007629,
          7.099999904600001,
          35.7000007629,
          16.7000007629,
          7.599999904600001,
          12.399999618499999,
          31.3999996185,
          20,
          10.800000190699999,
          57.9000015259,
          17,
          7.099999904600001,
          19.2000007629,
          18.6000003815,
          23.8999996185,
          35.5,
          16.7000007629,
          34.0999984741,
          3.2999999523000003,
          1.7000000477000001,
          53.9000015259,
          5.400000095399999,
          23.7999992371,
          6.900000095399999,
          45.9000015259,
          17.1000003815,
          21,
          21.7999992371,
          10.3999996185,
          25.7999992371,
          34.5999984741,
          10.899999618499999,
          11,
          44.0999984741,
          30.5,
          28.7999992371,
          6.5,
          3.5,
          17.3999996185,
          0.8999999762,
          10.3999996185,
          19.3999996185,
          20.7000007629,
          4.5999999046,
          48.9000015259,
          19.1000003815,
          33,
          21.5,
          16,
          19.2999992371,
          20.2000007629,
          8.5,
          5.1999998093,
          26.8999996185,
          9.8999996185,
          10.5,
          13.600000381500001,
          9.5,
          39.5,
          9.3000001907,
          40.7000007629,
          46.5999984741,
          21.2000007629,
          13.800000190699999,
          6.6999998092999995,
          13.9430995948,
          38.7000007629,
          7.099999904600001,
          13.600000381500001,
          7.599999904600001,
          11.100000381500001,
          8.3999996185,
          4,
          18.7999992371,
          8.6000003815,
          11,
          9.1999998093,
          16.3999996185,
          5.400000095399999,
          24,
          27.7999992371,
          36.7999992371,
          9.3000001907,
          1.2999999523,
          25.1000003815,
          12.899999618499999,
          0.6999999881,
          29.5,
          23.2999992371,
          13,
          9.6000003815,
          9.5,
          4.9000000954,
          11.699999809300001,
          10.6000003815,
          49.5,
          20.7999992371,
          22.7999992371,
          42.5999984741,
          30.1000003815,
          10.5,
          10.6999998093,
          3.9000000954000003,
          15.5,
          20.2000007629,
          14,
          10.6000003815,
          31.7999992371,
          17.7000007629,
          5.5,
          6.8000001907000005,
          16.8999996185,
          19.1000003815,
          14,
          20.2999992371,
          17.1000003815,
          6.3000001907000005,
          29.8999996185,
          52.5999984741,
          11.899999618499999,
          25.1000003815,
          9.3999996185
         ]
        }
       ],
       "layout": {
        "hovermode": "closest",
        "showlegend": false,
        "template": {
         "data": {
          "bar": [
           {
            "error_x": {
             "color": "#2a3f5f"
            },
            "error_y": {
             "color": "#2a3f5f"
            },
            "marker": {
             "line": {
              "color": "#E5ECF6",
              "width": 0.5
             }
            },
            "type": "bar"
           }
          ],
          "barpolar": [
           {
            "marker": {
             "line": {
              "color": "#E5ECF6",
              "width": 0.5
             }
            },
            "type": "barpolar"
           }
          ],
          "carpet": [
           {
            "aaxis": {
             "endlinecolor": "#2a3f5f",
             "gridcolor": "white",
             "linecolor": "white",
             "minorgridcolor": "white",
             "startlinecolor": "#2a3f5f"
            },
            "baxis": {
             "endlinecolor": "#2a3f5f",
             "gridcolor": "white",
             "linecolor": "white",
             "minorgridcolor": "white",
             "startlinecolor": "#2a3f5f"
            },
            "type": "carpet"
           }
          ],
          "choropleth": [
           {
            "colorbar": {
             "outlinewidth": 0,
             "ticks": ""
            },
            "type": "choropleth"
           }
          ],
          "contour": [
           {
            "colorbar": {
             "outlinewidth": 0,
             "ticks": ""
            },
            "colorscale": [
             [
              0,
              "#0d0887"
             ],
             [
              0.1111111111111111,
              "#46039f"
             ],
             [
              0.2222222222222222,
              "#7201a8"
             ],
             [
              0.3333333333333333,
              "#9c179e"
             ],
             [
              0.4444444444444444,
              "#bd3786"
             ],
             [
              0.5555555555555556,
              "#d8576b"
             ],
             [
              0.6666666666666666,
              "#ed7953"
             ],
             [
              0.7777777777777778,
              "#fb9f3a"
             ],
             [
              0.8888888888888888,
              "#fdca26"
             ],
             [
              1,
              "#f0f921"
             ]
            ],
            "type": "contour"
           }
          ],
          "contourcarpet": [
           {
            "colorbar": {
             "outlinewidth": 0,
             "ticks": ""
            },
            "type": "contourcarpet"
           }
          ],
          "heatmap": [
           {
            "colorbar": {
             "outlinewidth": 0,
             "ticks": ""
            },
            "colorscale": [
             [
              0,
              "#0d0887"
             ],
             [
              0.1111111111111111,
              "#46039f"
             ],
             [
              0.2222222222222222,
              "#7201a8"
             ],
             [
              0.3333333333333333,
              "#9c179e"
             ],
             [
              0.4444444444444444,
              "#bd3786"
             ],
             [
              0.5555555555555556,
              "#d8576b"
             ],
             [
              0.6666666666666666,
              "#ed7953"
             ],
             [
              0.7777777777777778,
              "#fb9f3a"
             ],
             [
              0.8888888888888888,
              "#fdca26"
             ],
             [
              1,
              "#f0f921"
             ]
            ],
            "type": "heatmap"
           }
          ],
          "heatmapgl": [
           {
            "colorbar": {
             "outlinewidth": 0,
             "ticks": ""
            },
            "colorscale": [
             [
              0,
              "#0d0887"
             ],
             [
              0.1111111111111111,
              "#46039f"
             ],
             [
              0.2222222222222222,
              "#7201a8"
             ],
             [
              0.3333333333333333,
              "#9c179e"
             ],
             [
              0.4444444444444444,
              "#bd3786"
             ],
             [
              0.5555555555555556,
              "#d8576b"
             ],
             [
              0.6666666666666666,
              "#ed7953"
             ],
             [
              0.7777777777777778,
              "#fb9f3a"
             ],
             [
              0.8888888888888888,
              "#fdca26"
             ],
             [
              1,
              "#f0f921"
             ]
            ],
            "type": "heatmapgl"
           }
          ],
          "histogram": [
           {
            "marker": {
             "colorbar": {
              "outlinewidth": 0,
              "ticks": ""
             }
            },
            "type": "histogram"
           }
          ],
          "histogram2d": [
           {
            "colorbar": {
             "outlinewidth": 0,
             "ticks": ""
            },
            "colorscale": [
             [
              0,
              "#0d0887"
             ],
             [
              0.1111111111111111,
              "#46039f"
             ],
             [
              0.2222222222222222,
              "#7201a8"
             ],
             [
              0.3333333333333333,
              "#9c179e"
             ],
             [
              0.4444444444444444,
              "#bd3786"
             ],
             [
              0.5555555555555556,
              "#d8576b"
             ],
             [
              0.6666666666666666,
              "#ed7953"
             ],
             [
              0.7777777777777778,
              "#fb9f3a"
             ],
             [
              0.8888888888888888,
              "#fdca26"
             ],
             [
              1,
              "#f0f921"
             ]
            ],
            "type": "histogram2d"
           }
          ],
          "histogram2dcontour": [
           {
            "colorbar": {
             "outlinewidth": 0,
             "ticks": ""
            },
            "colorscale": [
             [
              0,
              "#0d0887"
             ],
             [
              0.1111111111111111,
              "#46039f"
             ],
             [
              0.2222222222222222,
              "#7201a8"
             ],
             [
              0.3333333333333333,
              "#9c179e"
             ],
             [
              0.4444444444444444,
              "#bd3786"
             ],
             [
              0.5555555555555556,
              "#d8576b"
             ],
             [
              0.6666666666666666,
              "#ed7953"
             ],
             [
              0.7777777777777778,
              "#fb9f3a"
             ],
             [
              0.8888888888888888,
              "#fdca26"
             ],
             [
              1,
              "#f0f921"
             ]
            ],
            "type": "histogram2dcontour"
           }
          ],
          "mesh3d": [
           {
            "colorbar": {
             "outlinewidth": 0,
             "ticks": ""
            },
            "type": "mesh3d"
           }
          ],
          "parcoords": [
           {
            "line": {
             "colorbar": {
              "outlinewidth": 0,
              "ticks": ""
             }
            },
            "type": "parcoords"
           }
          ],
          "pie": [
           {
            "automargin": true,
            "type": "pie"
           }
          ],
          "scatter": [
           {
            "marker": {
             "colorbar": {
              "outlinewidth": 0,
              "ticks": ""
             }
            },
            "type": "scatter"
           }
          ],
          "scatter3d": [
           {
            "line": {
             "colorbar": {
              "outlinewidth": 0,
              "ticks": ""
             }
            },
            "marker": {
             "colorbar": {
              "outlinewidth": 0,
              "ticks": ""
             }
            },
            "type": "scatter3d"
           }
          ],
          "scattercarpet": [
           {
            "marker": {
             "colorbar": {
              "outlinewidth": 0,
              "ticks": ""
             }
            },
            "type": "scattercarpet"
           }
          ],
          "scattergeo": [
           {
            "marker": {
             "colorbar": {
              "outlinewidth": 0,
              "ticks": ""
             }
            },
            "type": "scattergeo"
           }
          ],
          "scattergl": [
           {
            "marker": {
             "colorbar": {
              "outlinewidth": 0,
              "ticks": ""
             }
            },
            "type": "scattergl"
           }
          ],
          "scattermapbox": [
           {
            "marker": {
             "colorbar": {
              "outlinewidth": 0,
              "ticks": ""
             }
            },
            "type": "scattermapbox"
           }
          ],
          "scatterpolar": [
           {
            "marker": {
             "colorbar": {
              "outlinewidth": 0,
              "ticks": ""
             }
            },
            "type": "scatterpolar"
           }
          ],
          "scatterpolargl": [
           {
            "marker": {
             "colorbar": {
              "outlinewidth": 0,
              "ticks": ""
             }
            },
            "type": "scatterpolargl"
           }
          ],
          "scatterternary": [
           {
            "marker": {
             "colorbar": {
              "outlinewidth": 0,
              "ticks": ""
             }
            },
            "type": "scatterternary"
           }
          ],
          "surface": [
           {
            "colorbar": {
             "outlinewidth": 0,
             "ticks": ""
            },
            "colorscale": [
             [
              0,
              "#0d0887"
             ],
             [
              0.1111111111111111,
              "#46039f"
             ],
             [
              0.2222222222222222,
              "#7201a8"
             ],
             [
              0.3333333333333333,
              "#9c179e"
             ],
             [
              0.4444444444444444,
              "#bd3786"
             ],
             [
              0.5555555555555556,
              "#d8576b"
             ],
             [
              0.6666666666666666,
              "#ed7953"
             ],
             [
              0.7777777777777778,
              "#fb9f3a"
             ],
             [
              0.8888888888888888,
              "#fdca26"
             ],
             [
              1,
              "#f0f921"
             ]
            ],
            "type": "surface"
           }
          ],
          "table": [
           {
            "cells": {
             "fill": {
              "color": "#EBF0F8"
             },
             "line": {
              "color": "white"
             }
            },
            "header": {
             "fill": {
              "color": "#C8D4E3"
             },
             "line": {
              "color": "white"
             }
            },
            "type": "table"
           }
          ]
         },
         "layout": {
          "annotationdefaults": {
           "arrowcolor": "#2a3f5f",
           "arrowhead": 0,
           "arrowwidth": 1
          },
          "coloraxis": {
           "colorbar": {
            "outlinewidth": 0,
            "ticks": ""
           }
          },
          "colorscale": {
           "diverging": [
            [
             0,
             "#8e0152"
            ],
            [
             0.1,
             "#c51b7d"
            ],
            [
             0.2,
             "#de77ae"
            ],
            [
             0.3,
             "#f1b6da"
            ],
            [
             0.4,
             "#fde0ef"
            ],
            [
             0.5,
             "#f7f7f7"
            ],
            [
             0.6,
             "#e6f5d0"
            ],
            [
             0.7,
             "#b8e186"
            ],
            [
             0.8,
             "#7fbc41"
            ],
            [
             0.9,
             "#4d9221"
            ],
            [
             1,
             "#276419"
            ]
           ],
           "sequential": [
            [
             0,
             "#0d0887"
            ],
            [
             0.1111111111111111,
             "#46039f"
            ],
            [
             0.2222222222222222,
             "#7201a8"
            ],
            [
             0.3333333333333333,
             "#9c179e"
            ],
            [
             0.4444444444444444,
             "#bd3786"
            ],
            [
             0.5555555555555556,
             "#d8576b"
            ],
            [
             0.6666666666666666,
             "#ed7953"
            ],
            [
             0.7777777777777778,
             "#fb9f3a"
            ],
            [
             0.8888888888888888,
             "#fdca26"
            ],
            [
             1,
             "#f0f921"
            ]
           ],
           "sequentialminus": [
            [
             0,
             "#0d0887"
            ],
            [
             0.1111111111111111,
             "#46039f"
            ],
            [
             0.2222222222222222,
             "#7201a8"
            ],
            [
             0.3333333333333333,
             "#9c179e"
            ],
            [
             0.4444444444444444,
             "#bd3786"
            ],
            [
             0.5555555555555556,
             "#d8576b"
            ],
            [
             0.6666666666666666,
             "#ed7953"
            ],
            [
             0.7777777777777778,
             "#fb9f3a"
            ],
            [
             0.8888888888888888,
             "#fdca26"
            ],
            [
             1,
             "#f0f921"
            ]
           ]
          },
          "colorway": [
           "#636efa",
           "#EF553B",
           "#00cc96",
           "#ab63fa",
           "#FFA15A",
           "#19d3f3",
           "#FF6692",
           "#B6E880",
           "#FF97FF",
           "#FECB52"
          ],
          "font": {
           "color": "#2a3f5f"
          },
          "geo": {
           "bgcolor": "white",
           "lakecolor": "white",
           "landcolor": "#E5ECF6",
           "showlakes": true,
           "showland": true,
           "subunitcolor": "white"
          },
          "hoverlabel": {
           "align": "left"
          },
          "hovermode": "closest",
          "mapbox": {
           "style": "light"
          },
          "paper_bgcolor": "white",
          "plot_bgcolor": "#E5ECF6",
          "polar": {
           "angularaxis": {
            "gridcolor": "white",
            "linecolor": "white",
            "ticks": ""
           },
           "bgcolor": "#E5ECF6",
           "radialaxis": {
            "gridcolor": "white",
            "linecolor": "white",
            "ticks": ""
           }
          },
          "scene": {
           "xaxis": {
            "backgroundcolor": "#E5ECF6",
            "gridcolor": "white",
            "gridwidth": 2,
            "linecolor": "white",
            "showbackground": true,
            "ticks": "",
            "zerolinecolor": "white"
           },
           "yaxis": {
            "backgroundcolor": "#E5ECF6",
            "gridcolor": "white",
            "gridwidth": 2,
            "linecolor": "white",
            "showbackground": true,
            "ticks": "",
            "zerolinecolor": "white"
           },
           "zaxis": {
            "backgroundcolor": "#E5ECF6",
            "gridcolor": "white",
            "gridwidth": 2,
            "linecolor": "white",
            "showbackground": true,
            "ticks": "",
            "zerolinecolor": "white"
           }
          },
          "shapedefaults": {
           "line": {
            "color": "#2a3f5f"
           }
          },
          "ternary": {
           "aaxis": {
            "gridcolor": "white",
            "linecolor": "white",
            "ticks": ""
           },
           "baxis": {
            "gridcolor": "white",
            "linecolor": "white",
            "ticks": ""
           },
           "bgcolor": "#E5ECF6",
           "caxis": {
            "gridcolor": "white",
            "linecolor": "white",
            "ticks": ""
           }
          },
          "title": {
           "x": 0.05
          },
          "xaxis": {
           "automargin": true,
           "gridcolor": "white",
           "linecolor": "white",
           "ticks": "",
           "title": {
            "standoff": 15
           },
           "zerolinecolor": "white",
           "zerolinewidth": 2
          },
          "yaxis": {
           "automargin": true,
           "gridcolor": "white",
           "linecolor": "white",
           "ticks": "",
           "title": {
            "standoff": 15
           },
           "zerolinecolor": "white",
           "zerolinewidth": 2
          }
         }
        },
        "title": {
         "text": "Scatter plot of unemployment rates in 2014"
        },
        "xaxis": {
         "gridwidth": 2,
         "ticklen": 5,
         "zeroline": false
        },
        "yaxis": {
         "gridwidth": 2,
         "ticklen": 5,
         "title": {
          "text": "Unemployment Rate"
         }
        }
       }
      },
      "text/html": [
       "<div>\n",
       "        \n",
       "        \n",
       "            <div id=\"0cc1e9ae-3390-4f88-bee6-bf6d9f82eef2\" class=\"plotly-graph-div\" style=\"height:525px; width:100%;\"></div>\n",
       "            <script type=\"text/javascript\">\n",
       "                require([\"plotly\"], function(Plotly) {\n",
       "                    window.PLOTLYENV=window.PLOTLYENV || {};\n",
       "                    \n",
       "                if (document.getElementById(\"0cc1e9ae-3390-4f88-bee6-bf6d9f82eef2\")) {\n",
       "                    Plotly.newPlot(\n",
       "                        '0cc1e9ae-3390-4f88-bee6-bf6d9f82eef2',\n",
       "                        [{\"marker\": {\"color\": [20.7999992371, 10.5, 29.2000007629, 21.2999992371, 35.0999984741, 13.100000381500001, 9.1999998093, 13.600000381500001, 10.6999998093, 23.6000003815, 1.7000000477000001, 5.0, 9.1000003815, 25.8999996185, 10.899999618499999, 57.5, 12.0, 22.0, 5.1999998093, 15.199999809300001, 26.7999992371, 11.100000381500001, 10.0, 33.9000015259, 11.899999618499999, 13.399999618499999, 8.6999998093, 16.3999996185, 10.5, 6.6999998092999995, 18.8999996185, 10.6000003815, 18.7999992371, 19.2000007629, 7.099999904600001, 35.7000007629, 16.7000007629, 7.599999904600001, 12.399999618499999, 31.3999996185, 20.0, 10.800000190699999, 57.9000015259, 17.0, 7.099999904600001, 19.2000007629, 18.6000003815, 23.8999996185, 35.5, 16.7000007629, 34.0999984741, 3.2999999523000003, 1.7000000477000001, 53.9000015259, 5.400000095399999, 23.7999992371, 6.900000095399999, 45.9000015259, 17.1000003815, 21.0, 21.7999992371, 10.3999996185, 25.7999992371, 34.5999984741, 10.899999618499999, 11.0, 44.0999984741, 30.5, 28.7999992371, 6.5, 3.5, 17.3999996185, 0.8999999762, 10.3999996185, 19.3999996185, 20.7000007629, 4.5999999046, 48.9000015259, 19.1000003815, 33.0, 21.5, 16.0, 19.2999992371, 20.2000007629, 8.5, 5.1999998093, 26.8999996185, 9.8999996185, 10.5, 13.600000381500001, 9.5, 39.5, 9.3000001907, 40.7000007629, 46.5999984741, 21.2000007629, 13.800000190699999, 6.6999998092999995, 13.9430995948, 38.7000007629, 7.099999904600001, 13.600000381500001, 7.599999904600001, 11.100000381500001, 8.3999996185, 4.0, 18.7999992371, 8.6000003815, 11.0, 9.1999998093, 16.3999996185, 5.400000095399999, 24.0, 27.7999992371, 36.7999992371, 9.3000001907, 1.2999999523, 25.1000003815, 12.899999618499999, 0.6999999881, 29.5, 23.2999992371, 13.0, 9.6000003815, 9.5, 4.9000000954, 11.699999809300001, 10.6000003815, 49.5, 20.7999992371, 22.7999992371, 42.5999984741, 30.1000003815, 10.5, 10.6999998093, 3.9000000954000003, 15.5, 20.2000007629, 14.0, 10.6000003815, 31.7999992371, 17.7000007629, 5.5, 6.8000001907000005, 16.8999996185, 19.1000003815, 14.0, 20.2999992371, 17.1000003815, 6.3000001907000005, 29.8999996185, 52.5999984741, 11.899999618499999, 25.1000003815, 9.3999996185], \"colorscale\": [[0.0, \"rgb(12,51,131)\"], [0.25, \"rgb(10,136,186)\"], [0.5, \"rgb(242,211,56)\"], [0.75, \"rgb(242,143,56)\"], [1.0, \"rgb(217,30,30)\"]], \"showscale\": true, \"size\": [20.7999992371, 10.5, 29.2000007629, 21.2999992371, 35.0999984741, 13.100000381500001, 9.1999998093, 13.600000381500001, 10.6999998093, 23.6000003815, 1.7000000477000001, 5.0, 9.1000003815, 25.8999996185, 10.899999618499999, 57.5, 12.0, 22.0, 5.1999998093, 15.199999809300001, 26.7999992371, 11.100000381500001, 10.0, 33.9000015259, 11.899999618499999, 13.399999618499999, 8.6999998093, 16.3999996185, 10.5, 6.6999998092999995, 18.8999996185, 10.6000003815, 18.7999992371, 19.2000007629, 7.099999904600001, 35.7000007629, 16.7000007629, 7.599999904600001, 12.399999618499999, 31.3999996185, 20.0, 10.800000190699999, 57.9000015259, 17.0, 7.099999904600001, 19.2000007629, 18.6000003815, 23.8999996185, 35.5, 16.7000007629, 34.0999984741, 3.2999999523000003, 1.7000000477000001, 53.9000015259, 5.400000095399999, 23.7999992371, 6.900000095399999, 45.9000015259, 17.1000003815, 21.0, 21.7999992371, 10.3999996185, 25.7999992371, 34.5999984741, 10.899999618499999, 11.0, 44.0999984741, 30.5, 28.7999992371, 6.5, 3.5, 17.3999996185, 0.8999999762, 10.3999996185, 19.3999996185, 20.7000007629, 4.5999999046, 48.9000015259, 19.1000003815, 33.0, 21.5, 16.0, 19.2999992371, 20.2000007629, 8.5, 5.1999998093, 26.8999996185, 9.8999996185, 10.5, 13.600000381500001, 9.5, 39.5, 9.3000001907, 40.7000007629, 46.5999984741, 21.2000007629, 13.800000190699999, 6.6999998092999995, 13.9430995948, 38.7000007629, 7.099999904600001, 13.600000381500001, 7.599999904600001, 11.100000381500001, 8.3999996185, 4.0, 18.7999992371, 8.6000003815, 11.0, 9.1999998093, 16.3999996185, 5.400000095399999, 24.0, 27.7999992371, 36.7999992371, 9.3000001907, 1.2999999523, 25.1000003815, 12.899999618499999, 0.6999999881, 29.5, 23.2999992371, 13.0, 9.6000003815, 9.5, 4.9000000954, 11.699999809300001, 10.6000003815, 49.5, 20.7999992371, 22.7999992371, 42.5999984741, 30.1000003815, 10.5, 10.6999998093, 3.9000000954000003, 15.5, 20.2000007629, 14.0, 10.6000003815, 31.7999992371, 17.7000007629, 5.5, 6.8000001907000005, 16.8999996185, 19.1000003815, 14.0, 20.2999992371, 17.1000003815, 6.3000001907000005, 29.8999996185, 52.5999984741, 11.899999618499999, 25.1000003815, 9.3999996185]}, \"mode\": \"markers\", \"text\": [\"Afghanistan\", \"Angola\", \"Albania\", \"Argentina\", \"Armenia\", \"Australia\", \"Austria\", \"Azerbaijan\", \"Burundi\", \"Belgium\", \"Benin\", \"Burkina Faso\", \"Bangladesh\", \"Bulgaria\", \"Bahrain\", \"Bosnia and Herzegovina\", \"Belarus\", \"Belize\", \"Bolivia\", \"Brazil\", \"Barbados\", \"Brunei Darussalam\", \"Bhutan\", \"Botswana\", \"Central African Republic\", \"Canada\", \"Switzerland\", \"Chile\", \"China\", \"Cameroon\", \"Colombia\", \"Comoros\", \"Cabo Verde\", \"Costa Rica\", \"Cuba\", \"Cyprus\", \"Czech Republic\", \"Germany\", \"Denmark\", \"Dominican Republic\", \"Algeria\", \"Ecuador\", \"Spain\", \"Estonia\", \"Ethiopia\", \"Finland\", \"Fiji\", \"France\", \"Gabon\", \"United Kingdom\", \"Georgia\", \"Ghana\", \"Guinea\", \"Greece\", \"Guatemala\", \"Guyana\", \"Honduras\", \"Croatia\", \"Haiti\", \"Hungary\", \"Indonesia\", \"India\", \"Ireland\", \"Iraq\", \"Iceland\", \"Israel\", \"Italy\", \"Jamaica\", \"Jordan\", \"Japan\", \"Kazakhstan\", \"Kenya\", \"Cambodia\", \"Korea, Rep.\", \"Kuwait\", \"Lebanon\", \"Liberia\", \"Libya\", \"Sri Lanka\", \"Lesotho\", \"Lithuania\", \"Luxembourg\", \"Latvia\", \"Morocco\", \"Moldova\", \"Madagascar\", \"Maldives\", \"Mexico\", \"Mali\", \"Malta\", \"Myanmar\", \"Montenegro\", \"Mongolia\", \"Mozambique\", \"Mauritania\", \"Mauritius\", \"Malawi\", \"Malaysia\", \"North America\", \"Namibia\", \"Niger\", \"Nigeria\", \"Nicaragua\", \"Netherlands\", \"Norway\", \"Nepal\", \"Oman\", \"Pakistan\", \"Panama\", \"Peru\", \"Philippines\", \"Papua New Guinea\", \"Poland\", \"Puerto Rico\", \"Portugal\", \"Paraguay\", \"Qatar\", \"Romania\", \"Russian Federation\", \"Rwanda\", \"Saudi Arabia\", \"Sudan\", \"Senegal\", \"Singapore\", \"Solomon Islands\", \"Sierra Leone\", \"El Salvador\", \"Somalia\", \"Serbia\", \"Slovenia\", \"Sweden\", \"Swaziland\", \"Syrian Arab Republic\", \"Chad\", \"Togo\", \"Thailand\", \"Tajikistan\", \"Turkmenistan\", \"Timor-Leste\", \"Trinidad and Tobago\", \"Tunisia\", \"Turkey\", \"Tanzania\", \"Uganda\", \"Ukraine\", \"Uruguay\", \"United States\", \"Uzbekistan\", \"Venezuela, RB\", \"Vietnam\", \"Yemen, Rep.\", \"South Africa\", \"Congo, Dem. Rep.\", \"Zambia\", \"Zimbabwe\"], \"type\": \"scatter\", \"y\": [20.7999992371, 10.5, 29.2000007629, 21.2999992371, 35.0999984741, 13.100000381500001, 9.1999998093, 13.600000381500001, 10.6999998093, 23.6000003815, 1.7000000477000001, 5.0, 9.1000003815, 25.8999996185, 10.899999618499999, 57.5, 12.0, 22.0, 5.1999998093, 15.199999809300001, 26.7999992371, 11.100000381500001, 10.0, 33.9000015259, 11.899999618499999, 13.399999618499999, 8.6999998093, 16.3999996185, 10.5, 6.6999998092999995, 18.8999996185, 10.6000003815, 18.7999992371, 19.2000007629, 7.099999904600001, 35.7000007629, 16.7000007629, 7.599999904600001, 12.399999618499999, 31.3999996185, 20.0, 10.800000190699999, 57.9000015259, 17.0, 7.099999904600001, 19.2000007629, 18.6000003815, 23.8999996185, 35.5, 16.7000007629, 34.0999984741, 3.2999999523000003, 1.7000000477000001, 53.9000015259, 5.400000095399999, 23.7999992371, 6.900000095399999, 45.9000015259, 17.1000003815, 21.0, 21.7999992371, 10.3999996185, 25.7999992371, 34.5999984741, 10.899999618499999, 11.0, 44.0999984741, 30.5, 28.7999992371, 6.5, 3.5, 17.3999996185, 0.8999999762, 10.3999996185, 19.3999996185, 20.7000007629, 4.5999999046, 48.9000015259, 19.1000003815, 33.0, 21.5, 16.0, 19.2999992371, 20.2000007629, 8.5, 5.1999998093, 26.8999996185, 9.8999996185, 10.5, 13.600000381500001, 9.5, 39.5, 9.3000001907, 40.7000007629, 46.5999984741, 21.2000007629, 13.800000190699999, 6.6999998092999995, 13.9430995948, 38.7000007629, 7.099999904600001, 13.600000381500001, 7.599999904600001, 11.100000381500001, 8.3999996185, 4.0, 18.7999992371, 8.6000003815, 11.0, 9.1999998093, 16.3999996185, 5.400000095399999, 24.0, 27.7999992371, 36.7999992371, 9.3000001907, 1.2999999523, 25.1000003815, 12.899999618499999, 0.6999999881, 29.5, 23.2999992371, 13.0, 9.6000003815, 9.5, 4.9000000954, 11.699999809300001, 10.6000003815, 49.5, 20.7999992371, 22.7999992371, 42.5999984741, 30.1000003815, 10.5, 10.6999998093, 3.9000000954000003, 15.5, 20.2000007629, 14.0, 10.6000003815, 31.7999992371, 17.7000007629, 5.5, 6.8000001907000005, 16.8999996185, 19.1000003815, 14.0, 20.2999992371, 17.1000003815, 6.3000001907000005, 29.8999996185, 52.5999984741, 11.899999618499999, 25.1000003815, 9.3999996185]}],\n",
       "                        {\"hovermode\": \"closest\", \"showlegend\": false, \"template\": {\"data\": {\"bar\": [{\"error_x\": {\"color\": \"#2a3f5f\"}, \"error_y\": {\"color\": \"#2a3f5f\"}, \"marker\": {\"line\": {\"color\": \"#E5ECF6\", \"width\": 0.5}}, \"type\": \"bar\"}], \"barpolar\": [{\"marker\": {\"line\": {\"color\": \"#E5ECF6\", \"width\": 0.5}}, \"type\": \"barpolar\"}], \"carpet\": [{\"aaxis\": {\"endlinecolor\": \"#2a3f5f\", \"gridcolor\": \"white\", \"linecolor\": \"white\", \"minorgridcolor\": \"white\", \"startlinecolor\": \"#2a3f5f\"}, \"baxis\": {\"endlinecolor\": \"#2a3f5f\", \"gridcolor\": \"white\", \"linecolor\": \"white\", \"minorgridcolor\": \"white\", \"startlinecolor\": \"#2a3f5f\"}, \"type\": \"carpet\"}], \"choropleth\": [{\"colorbar\": {\"outlinewidth\": 0, \"ticks\": \"\"}, \"type\": \"choropleth\"}], \"contour\": [{\"colorbar\": {\"outlinewidth\": 0, \"ticks\": \"\"}, \"colorscale\": [[0.0, \"#0d0887\"], [0.1111111111111111, \"#46039f\"], [0.2222222222222222, \"#7201a8\"], [0.3333333333333333, \"#9c179e\"], [0.4444444444444444, \"#bd3786\"], [0.5555555555555556, \"#d8576b\"], [0.6666666666666666, \"#ed7953\"], [0.7777777777777778, \"#fb9f3a\"], [0.8888888888888888, \"#fdca26\"], [1.0, \"#f0f921\"]], \"type\": \"contour\"}], \"contourcarpet\": [{\"colorbar\": {\"outlinewidth\": 0, \"ticks\": \"\"}, \"type\": \"contourcarpet\"}], \"heatmap\": [{\"colorbar\": {\"outlinewidth\": 0, \"ticks\": \"\"}, \"colorscale\": [[0.0, \"#0d0887\"], [0.1111111111111111, \"#46039f\"], [0.2222222222222222, \"#7201a8\"], [0.3333333333333333, \"#9c179e\"], [0.4444444444444444, \"#bd3786\"], [0.5555555555555556, \"#d8576b\"], [0.6666666666666666, \"#ed7953\"], [0.7777777777777778, \"#fb9f3a\"], [0.8888888888888888, \"#fdca26\"], [1.0, \"#f0f921\"]], \"type\": \"heatmap\"}], \"heatmapgl\": [{\"colorbar\": {\"outlinewidth\": 0, \"ticks\": \"\"}, \"colorscale\": [[0.0, \"#0d0887\"], [0.1111111111111111, \"#46039f\"], [0.2222222222222222, \"#7201a8\"], [0.3333333333333333, \"#9c179e\"], [0.4444444444444444, \"#bd3786\"], [0.5555555555555556, \"#d8576b\"], [0.6666666666666666, \"#ed7953\"], [0.7777777777777778, \"#fb9f3a\"], [0.8888888888888888, \"#fdca26\"], [1.0, \"#f0f921\"]], \"type\": \"heatmapgl\"}], \"histogram\": [{\"marker\": {\"colorbar\": {\"outlinewidth\": 0, \"ticks\": \"\"}}, \"type\": \"histogram\"}], \"histogram2d\": [{\"colorbar\": {\"outlinewidth\": 0, \"ticks\": \"\"}, \"colorscale\": [[0.0, \"#0d0887\"], [0.1111111111111111, \"#46039f\"], [0.2222222222222222, \"#7201a8\"], [0.3333333333333333, \"#9c179e\"], [0.4444444444444444, \"#bd3786\"], [0.5555555555555556, \"#d8576b\"], [0.6666666666666666, \"#ed7953\"], [0.7777777777777778, \"#fb9f3a\"], [0.8888888888888888, \"#fdca26\"], [1.0, \"#f0f921\"]], \"type\": \"histogram2d\"}], \"histogram2dcontour\": [{\"colorbar\": {\"outlinewidth\": 0, \"ticks\": \"\"}, \"colorscale\": [[0.0, \"#0d0887\"], [0.1111111111111111, \"#46039f\"], [0.2222222222222222, \"#7201a8\"], [0.3333333333333333, \"#9c179e\"], [0.4444444444444444, \"#bd3786\"], [0.5555555555555556, \"#d8576b\"], [0.6666666666666666, \"#ed7953\"], [0.7777777777777778, \"#fb9f3a\"], [0.8888888888888888, \"#fdca26\"], [1.0, \"#f0f921\"]], \"type\": \"histogram2dcontour\"}], \"mesh3d\": [{\"colorbar\": {\"outlinewidth\": 0, \"ticks\": \"\"}, \"type\": \"mesh3d\"}], \"parcoords\": [{\"line\": {\"colorbar\": {\"outlinewidth\": 0, \"ticks\": \"\"}}, \"type\": \"parcoords\"}], \"pie\": [{\"automargin\": true, \"type\": \"pie\"}], \"scatter\": [{\"marker\": {\"colorbar\": {\"outlinewidth\": 0, \"ticks\": \"\"}}, \"type\": \"scatter\"}], \"scatter3d\": [{\"line\": {\"colorbar\": {\"outlinewidth\": 0, \"ticks\": \"\"}}, \"marker\": {\"colorbar\": {\"outlinewidth\": 0, \"ticks\": \"\"}}, \"type\": \"scatter3d\"}], \"scattercarpet\": [{\"marker\": {\"colorbar\": {\"outlinewidth\": 0, \"ticks\": \"\"}}, \"type\": \"scattercarpet\"}], \"scattergeo\": [{\"marker\": {\"colorbar\": {\"outlinewidth\": 0, \"ticks\": \"\"}}, \"type\": \"scattergeo\"}], \"scattergl\": [{\"marker\": {\"colorbar\": {\"outlinewidth\": 0, \"ticks\": \"\"}}, \"type\": \"scattergl\"}], \"scattermapbox\": [{\"marker\": {\"colorbar\": {\"outlinewidth\": 0, \"ticks\": \"\"}}, \"type\": \"scattermapbox\"}], \"scatterpolar\": [{\"marker\": {\"colorbar\": {\"outlinewidth\": 0, \"ticks\": \"\"}}, \"type\": \"scatterpolar\"}], \"scatterpolargl\": [{\"marker\": {\"colorbar\": {\"outlinewidth\": 0, \"ticks\": \"\"}}, \"type\": \"scatterpolargl\"}], \"scatterternary\": [{\"marker\": {\"colorbar\": {\"outlinewidth\": 0, \"ticks\": \"\"}}, \"type\": \"scatterternary\"}], \"surface\": [{\"colorbar\": {\"outlinewidth\": 0, \"ticks\": \"\"}, \"colorscale\": [[0.0, \"#0d0887\"], [0.1111111111111111, \"#46039f\"], [0.2222222222222222, \"#7201a8\"], [0.3333333333333333, \"#9c179e\"], [0.4444444444444444, \"#bd3786\"], [0.5555555555555556, \"#d8576b\"], [0.6666666666666666, \"#ed7953\"], [0.7777777777777778, \"#fb9f3a\"], [0.8888888888888888, \"#fdca26\"], [1.0, \"#f0f921\"]], \"type\": \"surface\"}], \"table\": [{\"cells\": {\"fill\": {\"color\": \"#EBF0F8\"}, \"line\": {\"color\": \"white\"}}, \"header\": {\"fill\": {\"color\": \"#C8D4E3\"}, \"line\": {\"color\": \"white\"}}, \"type\": \"table\"}]}, \"layout\": {\"annotationdefaults\": {\"arrowcolor\": \"#2a3f5f\", \"arrowhead\": 0, \"arrowwidth\": 1}, \"coloraxis\": {\"colorbar\": {\"outlinewidth\": 0, \"ticks\": \"\"}}, \"colorscale\": {\"diverging\": [[0, \"#8e0152\"], [0.1, \"#c51b7d\"], [0.2, \"#de77ae\"], [0.3, \"#f1b6da\"], [0.4, \"#fde0ef\"], [0.5, \"#f7f7f7\"], [0.6, \"#e6f5d0\"], [0.7, \"#b8e186\"], [0.8, \"#7fbc41\"], [0.9, \"#4d9221\"], [1, \"#276419\"]], \"sequential\": [[0.0, \"#0d0887\"], [0.1111111111111111, \"#46039f\"], [0.2222222222222222, \"#7201a8\"], [0.3333333333333333, \"#9c179e\"], [0.4444444444444444, \"#bd3786\"], [0.5555555555555556, \"#d8576b\"], [0.6666666666666666, \"#ed7953\"], [0.7777777777777778, \"#fb9f3a\"], [0.8888888888888888, \"#fdca26\"], [1.0, \"#f0f921\"]], \"sequentialminus\": [[0.0, \"#0d0887\"], [0.1111111111111111, \"#46039f\"], [0.2222222222222222, \"#7201a8\"], [0.3333333333333333, \"#9c179e\"], [0.4444444444444444, \"#bd3786\"], [0.5555555555555556, \"#d8576b\"], [0.6666666666666666, \"#ed7953\"], [0.7777777777777778, \"#fb9f3a\"], [0.8888888888888888, \"#fdca26\"], [1.0, \"#f0f921\"]]}, \"colorway\": [\"#636efa\", \"#EF553B\", \"#00cc96\", \"#ab63fa\", \"#FFA15A\", \"#19d3f3\", \"#FF6692\", \"#B6E880\", \"#FF97FF\", \"#FECB52\"], \"font\": {\"color\": \"#2a3f5f\"}, \"geo\": {\"bgcolor\": \"white\", \"lakecolor\": \"white\", \"landcolor\": \"#E5ECF6\", \"showlakes\": true, \"showland\": true, \"subunitcolor\": \"white\"}, \"hoverlabel\": {\"align\": \"left\"}, \"hovermode\": \"closest\", \"mapbox\": {\"style\": \"light\"}, \"paper_bgcolor\": \"white\", \"plot_bgcolor\": \"#E5ECF6\", \"polar\": {\"angularaxis\": {\"gridcolor\": \"white\", \"linecolor\": \"white\", \"ticks\": \"\"}, \"bgcolor\": \"#E5ECF6\", \"radialaxis\": {\"gridcolor\": \"white\", \"linecolor\": \"white\", \"ticks\": \"\"}}, \"scene\": {\"xaxis\": {\"backgroundcolor\": \"#E5ECF6\", \"gridcolor\": \"white\", \"gridwidth\": 2, \"linecolor\": \"white\", \"showbackground\": true, \"ticks\": \"\", \"zerolinecolor\": \"white\"}, \"yaxis\": {\"backgroundcolor\": \"#E5ECF6\", \"gridcolor\": \"white\", \"gridwidth\": 2, \"linecolor\": \"white\", \"showbackground\": true, \"ticks\": \"\", \"zerolinecolor\": \"white\"}, \"zaxis\": {\"backgroundcolor\": \"#E5ECF6\", \"gridcolor\": \"white\", \"gridwidth\": 2, \"linecolor\": \"white\", \"showbackground\": true, \"ticks\": \"\", \"zerolinecolor\": \"white\"}}, \"shapedefaults\": {\"line\": {\"color\": \"#2a3f5f\"}}, \"ternary\": {\"aaxis\": {\"gridcolor\": \"white\", \"linecolor\": \"white\", \"ticks\": \"\"}, \"baxis\": {\"gridcolor\": \"white\", \"linecolor\": \"white\", \"ticks\": \"\"}, \"bgcolor\": \"#E5ECF6\", \"caxis\": {\"gridcolor\": \"white\", \"linecolor\": \"white\", \"ticks\": \"\"}}, \"title\": {\"x\": 0.05}, \"xaxis\": {\"automargin\": true, \"gridcolor\": \"white\", \"linecolor\": \"white\", \"ticks\": \"\", \"title\": {\"standoff\": 15}, \"zerolinecolor\": \"white\", \"zerolinewidth\": 2}, \"yaxis\": {\"automargin\": true, \"gridcolor\": \"white\", \"linecolor\": \"white\", \"ticks\": \"\", \"title\": {\"standoff\": 15}, \"zerolinecolor\": \"white\", \"zerolinewidth\": 2}}}, \"title\": {\"text\": \"Scatter plot of unemployment rates in 2014\"}, \"xaxis\": {\"gridwidth\": 2, \"ticklen\": 5, \"zeroline\": false}, \"yaxis\": {\"gridwidth\": 2, \"ticklen\": 5, \"title\": {\"text\": \"Unemployment Rate\"}}},\n",
       "                        {\"responsive\": true}\n",
       "                    ).then(function(){\n",
       "                            \n",
       "var gd = document.getElementById('0cc1e9ae-3390-4f88-bee6-bf6d9f82eef2');\n",
       "var x = new MutationObserver(function (mutations, observer) {{\n",
       "        var display = window.getComputedStyle(gd).display;\n",
       "        if (!display || display === 'none') {{\n",
       "            console.log([gd, 'removed!']);\n",
       "            Plotly.purge(gd);\n",
       "            observer.disconnect();\n",
       "        }}\n",
       "}});\n",
       "\n",
       "// Listen for the removal of the full notebook cells\n",
       "var notebookContainer = gd.closest('#notebook-container');\n",
       "if (notebookContainer) {{\n",
       "    x.observe(notebookContainer, {childList: true});\n",
       "}}\n",
       "\n",
       "// Listen for the clearing of the current output cell\n",
       "var outputEl = gd.closest('.output');\n",
       "if (outputEl) {{\n",
       "    x.observe(outputEl, {childList: true});\n",
       "}}\n",
       "\n",
       "                        })\n",
       "                };\n",
       "                });\n",
       "            </script>\n",
       "        </div>"
      ]
     },
     "metadata": {},
     "output_type": "display_data"
    }
   ],
   "source": [
    "# Scatter plot of 2010 unemployment rates\n",
    "trace = go.Scatter(\n",
    "    y = country_clean['2010'].values,\n",
    "    mode='markers',\n",
    "    marker=dict(\n",
    "        size= country_clean['2010'].values,\n",
    "        #color = np.random.randn(500), #set color equal to a variable\n",
    "        color = country_clean['2010'].values,\n",
    "        colorscale='Portland',\n",
    "        showscale=True\n",
    "    ),\n",
    "    text = country_clean['Country Name'].values\n",
    ")\n",
    "data = [trace]\n",
    "\n",
    "layout= go.Layout(\n",
    "    autosize= True,\n",
    "    title= 'Scatter plot of unemployment rates in 2010',\n",
    "    hovermode= 'closest',\n",
    "#     xaxis= dict(\n",
    "#         title= 'Pop',\n",
    "#         ticklen= 5,\n",
    "#         zeroline= False,\n",
    "#         gridwidth= 2,\n",
    "#     ),\n",
    "    yaxis=dict(\n",
    "        title= 'Unemployment Rate',\n",
    "        ticklen= 5,\n",
    "        gridwidth= 2,\n",
    "    ),\n",
    "    showlegend= False\n",
    ")\n",
    "fig = go.Figure(data=data, layout=layout)\n",
    "py.iplot(fig,filename='scatter2010')\n",
    "\n",
    "# Scatter plot of 2014 unemployment rates\n",
    "trace1 = go.Scatter(\n",
    "    y = country_clean['2014'].values,\n",
    "    mode='markers',\n",
    "    marker=dict(\n",
    "        size=country_clean['2014'].values,\n",
    "        #color = np.random.randn(500), #set color equal to a variable\n",
    "        color = country_clean['2014'].values,\n",
    "        colorscale='Portland',\n",
    "        showscale=True\n",
    "    ),\n",
    "    text = country_clean['Country Name']\n",
    ")\n",
    "data = [trace1]\n",
    "\n",
    "layout= go.Layout(\n",
    "    title= 'Scatter plot of unemployment rates in 2014',\n",
    "    hovermode= 'closest',\n",
    "    xaxis= dict(\n",
    "        ticklen= 5,\n",
    "        zeroline= False,\n",
    "        gridwidth= 2,\n",
    "    ),\n",
    "    yaxis=dict(\n",
    "        title= 'Unemployment Rate',\n",
    "        ticklen= 5,\n",
    "        gridwidth= 2,\n",
    "    ),\n",
    "    showlegend= False\n",
    ")\n",
    "\n",
    "fig = go.Figure(data=data, layout=layout)\n",
    "py.iplot(fig,filename='scatter2014')"
   ]
  },
  {
   "cell_type": "markdown",
   "metadata": {
    "_cell_guid": "cbeb30c3-9dc5-2d31-338d-a2d75183a603"
   },
   "source": [
    "*PLEASE CLICK AND MOVE THE SCATTER PLOTS. THEY ARE INTERACTIVE. DOUBLE CLICK TO GET BACK TO THE ORIGINAL VIEW*"
   ]
  },
  {
   "cell_type": "markdown",
   "metadata": {
    "_cell_guid": "88146c8e-387a-35d6-e117-27c31681571e"
   },
   "source": [
    "### Insights from the Visuals\n",
    "\n",
    "Well unfortunately it seems from 2010 to 2014 things have gone from bad to worse for quite a few of the European countries, the ones affected from the sub-prime crisis. For example, both Spain and Greece's youth unemployment has gone from their orange color (indicating about 30-40% rate) to a hazardous red color (about 40-50% unemployment)."
   ]
  },
  {
   "cell_type": "markdown",
   "metadata": {
    "_cell_guid": "9134fe25-24b0-29f4-62d7-57afaf3300d5"
   },
   "source": [
    "## Net Movement of Unemployment Rate over the 5 years\n",
    "\n",
    "Finally I investigate the movement of the unemployment rate of the top and bottom 15 countries to see if there was a net increase or a decrease in the number of youths unemployed from 2010 all the way to 2014. Doing so will quantitatively tell us which countries have had their rates increased or vice-versa."
   ]
  },
  {
   "cell_type": "code",
   "execution_count": 9,
   "metadata": {
    "_cell_guid": "31137011-463b-b576-3361-00045605c8b0"
   },
   "outputs": [],
   "source": [
    "# I first create an array containing the net movement in the unemployment rate.\n",
    "diff = country_clean['2014'].values - country_clean['2010'].values"
   ]
  },
  {
   "cell_type": "markdown",
   "metadata": {
    "_cell_guid": "3bf0e923-695e-b444-575c-99cefd80db67"
   },
   "source": [
    "Now I just want to visualise the top and bottom 15 countries with the most changes in their unemployment. Therefore the code to do this is as follows"
   ]
  },
  {
   "cell_type": "code",
   "execution_count": 10,
   "metadata": {
    "_cell_guid": "3707512b-65e1-a629-0080-20d31e696166"
   },
   "outputs": [],
   "source": [
    "x, y = (list(x) for x in zip(*sorted(zip(diff, country_clean['Country Name'].values), \n",
    "                                                            reverse = True)))\n",
    "\n",
    "# Now I want to extract out the top 15 and bottom 15 countries \n",
    "Y = np.concatenate([y[0:15], y[-16:-1]])\n",
    "X = np.concatenate([x[0:15], x[-16:-1]])"
   ]
  },
  {
   "cell_type": "markdown",
   "metadata": {
    "_cell_guid": "5e051495-328a-6e54-928f-50c98dce438f"
   },
   "source": [
    "**HEATMAP OF CHANGE IN UNEMPLOYMENT RATE FOR TOP & BOTTOM 15 COUNTRIES**\n",
    "\n",
    "Let's now plot a Seaborn heatmap to visualise how the unemployment rates change over the years. The heatmap is sorted such that countries with the largest increases in unemployment are towards the top half of the plot while countries with the highest decreases in unemployment are found towards the bottom half. "
   ]
  },
  {
   "cell_type": "code",
   "execution_count": 11,
   "metadata": {
    "_cell_guid": "93290d1a-df8a-0912-c75a-1982cffcd0da"
   },
   "outputs": [
    {
     "ename": "AttributeError",
     "evalue": "'DataFrame' object has no attribute 'sort'",
     "output_type": "error",
     "traceback": [
      "\u001b[0;31m---------------------------------------------------------------------------\u001b[0m",
      "\u001b[0;31mAttributeError\u001b[0m                            Traceback (most recent call last)",
      "\u001b[0;32m<ipython-input-11-9c7d737c884c>\u001b[0m in \u001b[0;36m<module>\u001b[0;34m\u001b[0m\n\u001b[1;32m     11\u001b[0m \u001b[0mplt\u001b[0m\u001b[0;34m.\u001b[0m\u001b[0mfigure\u001b[0m\u001b[0;34m(\u001b[0m\u001b[0mfigsize\u001b[0m\u001b[0;34m=\u001b[0m\u001b[0;34m(\u001b[0m\u001b[0;36m8\u001b[0m\u001b[0;34m,\u001b[0m\u001b[0;36m7\u001b[0m\u001b[0;34m)\u001b[0m\u001b[0;34m)\u001b[0m\u001b[0;34m\u001b[0m\u001b[0;34m\u001b[0m\u001b[0m\n\u001b[1;32m     12\u001b[0m \u001b[0mcountry_pivot\u001b[0m \u001b[0;34m=\u001b[0m \u001b[0mcountry_final\u001b[0m\u001b[0;34m.\u001b[0m\u001b[0mpivot\u001b[0m\u001b[0;34m(\u001b[0m\u001b[0;34m\"Country Name\"\u001b[0m\u001b[0;34m,\u001b[0m\u001b[0;34m\"Year\"\u001b[0m\u001b[0;34m,\u001b[0m  \u001b[0;34m\"key\"\u001b[0m\u001b[0;34m)\u001b[0m\u001b[0;34m\u001b[0m\u001b[0;34m\u001b[0m\u001b[0m\n\u001b[0;32m---> 13\u001b[0;31m \u001b[0mcountry_pivot\u001b[0m \u001b[0;34m=\u001b[0m \u001b[0mcountry_pivot\u001b[0m\u001b[0;34m.\u001b[0m\u001b[0msort\u001b[0m\u001b[0;34m(\u001b[0m\u001b[0;34m'2014'\u001b[0m\u001b[0;34m,\u001b[0m \u001b[0mascending\u001b[0m\u001b[0;34m=\u001b[0m\u001b[0;32mFalse\u001b[0m\u001b[0;34m)\u001b[0m\u001b[0;34m\u001b[0m\u001b[0;34m\u001b[0m\u001b[0m\n\u001b[0m\u001b[1;32m     14\u001b[0m \u001b[0max\u001b[0m \u001b[0;34m=\u001b[0m \u001b[0msns\u001b[0m\u001b[0;34m.\u001b[0m\u001b[0mheatmap\u001b[0m\u001b[0;34m(\u001b[0m\u001b[0mcountry_pivot\u001b[0m\u001b[0;34m,\u001b[0m \u001b[0mcmap\u001b[0m\u001b[0;34m=\u001b[0m\u001b[0;34m'PuBuGn'\u001b[0m\u001b[0;34m,\u001b[0m \u001b[0mannot\u001b[0m\u001b[0;34m=\u001b[0m\u001b[0;32mTrue\u001b[0m\u001b[0;34m,\u001b[0m \u001b[0mlinewidths\u001b[0m\u001b[0;34m=\u001b[0m\u001b[0;36m0\u001b[0m\u001b[0;34m,\u001b[0m \u001b[0mlinecolor\u001b[0m\u001b[0;34m=\u001b[0m\u001b[0;34m'white'\u001b[0m\u001b[0;34m)\u001b[0m\u001b[0;34m\u001b[0m\u001b[0;34m\u001b[0m\u001b[0m\n\u001b[1;32m     15\u001b[0m \u001b[0mplt\u001b[0m\u001b[0;34m.\u001b[0m\u001b[0mtitle\u001b[0m\u001b[0;34m(\u001b[0m\u001b[0;34m'Movement in Unemployment rate ( Darker: Higher rate, Lighter: Lower rate )'\u001b[0m\u001b[0;34m)\u001b[0m\u001b[0;34m\u001b[0m\u001b[0;34m\u001b[0m\u001b[0m\n",
      "\u001b[0;32m~/anaconda3/lib/python3.7/site-packages/pandas/core/generic.py\u001b[0m in \u001b[0;36m__getattr__\u001b[0;34m(self, name)\u001b[0m\n\u001b[1;32m   5065\u001b[0m             \u001b[0;32mif\u001b[0m \u001b[0mself\u001b[0m\u001b[0;34m.\u001b[0m\u001b[0m_info_axis\u001b[0m\u001b[0;34m.\u001b[0m\u001b[0m_can_hold_identifiers_and_holds_name\u001b[0m\u001b[0;34m(\u001b[0m\u001b[0mname\u001b[0m\u001b[0;34m)\u001b[0m\u001b[0;34m:\u001b[0m\u001b[0;34m\u001b[0m\u001b[0;34m\u001b[0m\u001b[0m\n\u001b[1;32m   5066\u001b[0m                 \u001b[0;32mreturn\u001b[0m \u001b[0mself\u001b[0m\u001b[0;34m[\u001b[0m\u001b[0mname\u001b[0m\u001b[0;34m]\u001b[0m\u001b[0;34m\u001b[0m\u001b[0;34m\u001b[0m\u001b[0m\n\u001b[0;32m-> 5067\u001b[0;31m             \u001b[0;32mreturn\u001b[0m \u001b[0mobject\u001b[0m\u001b[0;34m.\u001b[0m\u001b[0m__getattribute__\u001b[0m\u001b[0;34m(\u001b[0m\u001b[0mself\u001b[0m\u001b[0;34m,\u001b[0m \u001b[0mname\u001b[0m\u001b[0;34m)\u001b[0m\u001b[0;34m\u001b[0m\u001b[0;34m\u001b[0m\u001b[0m\n\u001b[0m\u001b[1;32m   5068\u001b[0m \u001b[0;34m\u001b[0m\u001b[0m\n\u001b[1;32m   5069\u001b[0m     \u001b[0;32mdef\u001b[0m \u001b[0m__setattr__\u001b[0m\u001b[0;34m(\u001b[0m\u001b[0mself\u001b[0m\u001b[0;34m,\u001b[0m \u001b[0mname\u001b[0m\u001b[0;34m,\u001b[0m \u001b[0mvalue\u001b[0m\u001b[0;34m)\u001b[0m\u001b[0;34m:\u001b[0m\u001b[0;34m\u001b[0m\u001b[0;34m\u001b[0m\u001b[0m\n",
      "\u001b[0;31mAttributeError\u001b[0m: 'DataFrame' object has no attribute 'sort'"
     ]
    },
    {
     "data": {
      "text/plain": [
       "<Figure size 576x504 with 0 Axes>"
      ]
     },
     "metadata": {},
     "output_type": "display_data"
    }
   ],
   "source": [
    "# Resize our dataframe first\n",
    "keys = [c for c in country_clean if c.startswith('20')]\n",
    "country_resize = pd.melt(country_clean, id_vars='Country Name', value_vars=keys, value_name='key')\n",
    "country_resize['Year'] = country_resize['variable']\n",
    "\n",
    "# Use boolean filtering to extract only our top 15 and bottom 15 moving countries\n",
    "mask = country_resize['Country Name'].isin(Y)\n",
    "country_final = country_resize[mask]\n",
    "\n",
    "# Finally plot the seaborn heatmap\n",
    "plt.figure(figsize=(8,7))\n",
    "country_pivot = country_final.pivot(\"Country Name\",\"Year\",  \"key\")\n",
    "country_pivot = country_pivot.sort('2014', ascending=False)\n",
    "ax = sns.heatmap(country_pivot, cmap='PuBuGn', annot=True, linewidths=0, linecolor='white')\n",
    "plt.title('Movement in Unemployment rate ( Darker: Higher rate, Lighter: Lower rate )')"
   ]
  },
  {
   "cell_type": "markdown",
   "metadata": {
    "_cell_guid": "fb266f55-6ee8-aa01-084f-7b5125465b17"
   },
   "source": [
    "**BARPLOT OF CHANGE IN UNEMPLOYMENT RATE FOR TOP 15 & BOTTOM 15 COUNTRIES**\n",
    "\n",
    "And here we plot a Seaborn barplot to visualise the data in a different manner. The nice thing about seaborn barplots being that with any negative values ( the negative values being countries with unemployment rate decrease), it automatically plots the charts in the reverse x-axis order therefore making for intuitive visuals."
   ]
  },
  {
   "cell_type": "code",
   "execution_count": null,
   "metadata": {
    "_cell_guid": "68ca0eb0-d33d-8c4a-f79b-4ca6e66cd294"
   },
   "outputs": [],
   "source": [
    "\n",
    "# Plot using Seaborn's barplot\n",
    "sns.set(font_scale=1) \n",
    "f, ax = plt.subplots(figsize=(7, 7))\n",
    "colors_cw = sns.color_palette('RdYlBu_r', len(X))\n",
    "sns.barplot(X, Y, palette = colors_cw[::-1])\n",
    "Text = ax.set(xlabel='Decrease in Youth Unemployment Rates', title='Net Increase in Youth Unemployment Rates')"
   ]
  },
  {
   "cell_type": "markdown",
   "metadata": {
    "_cell_guid": "a73b0413-b411-24e1-5b35-05f2c95fd1d0"
   },
   "source": [
    "**BARPLOT OF CHANGE IN UNEMPLOYMENT RATE FOR ALL COUNTRIES**\n",
    "\n",
    "Finally let's look at the barplot charts for youth unemployment rate changes in *ALL* countries present in the dataset for thoroughness, not just the top 15 & bottom 15 "
   ]
  },
  {
   "cell_type": "code",
   "execution_count": null,
   "metadata": {
    "_cell_guid": "8ce36a28-bbd6-51fe-d0f2-4b396091d4bf"
   },
   "outputs": [],
   "source": [
    "\n",
    "# Plot using Seaborn's barplot\n",
    "sns.set(font_scale=1) \n",
    "f, ax = plt.subplots(figsize=(8, 40))\n",
    "colors_cw = sns.color_palette('cubehelix_r', len(x))\n",
    "sns.barplot(x, y, palette = colors_cw[::-1])\n",
    "Text = ax.set(xlabel='Decrease in Youth Unemployment Rates', title='Net Increase in Youth Unemployment Rates')"
   ]
  },
  {
   "cell_type": "markdown",
   "metadata": {
    "_cell_guid": "3657ced9-f2ad-2e33-929e-563c3e38cc0d"
   },
   "source": [
    "## CONCLUDING REMARKS\n",
    "\n",
    "The visuals portray a tale of both tragedy and hope. It is tragic when one can see that in these years after the Sub-prime mortgage crisis from 2010 to 2014, global youth unemployment has only gone from bad to worse shot up for the developed European countries of Greece, Cyprus, Spain, Italy, Portugal and Croatia. These are the top 6 countries which have had a net increase in their youth unemployment rates. One would have hoped that situations would have improved on average in these countries, but the data begs to differ.\n",
    "\n",
    "On the other hand, it seems that the Eastern European countries of Estonia, Latvia, Lithuania, Moldova and Montenegro have seen the biggest decreases in their unemployment rates. The data seems to tell a story that is very Eurocentric, where European countries have experienced the wildest and most extreme swings in their youth unemployment rates, one where developed countries have fallen ground while the developing blocs are catching up. "
   ]
  },
  {
   "cell_type": "code",
   "execution_count": null,
   "metadata": {
    "_cell_guid": "151caf9a-5eff-87cd-b83b-7cc85c72335f"
   },
   "outputs": [],
   "source": []
  }
 ],
 "metadata": {
  "_change_revision": 0,
  "_is_fork": false,
  "kernelspec": {
   "display_name": "Python 3",
   "language": "python",
   "name": "python3"
  },
  "language_info": {
   "codemirror_mode": {
    "name": "ipython",
    "version": 3
   },
   "file_extension": ".py",
   "mimetype": "text/x-python",
   "name": "python",
   "nbconvert_exporter": "python",
   "pygments_lexer": "ipython3",
   "version": "3.6.9"
  }
 },
 "nbformat": 4,
 "nbformat_minor": 1
}
